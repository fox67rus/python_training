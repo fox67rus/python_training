{
 "cells": [
  {
   "cell_type": "markdown",
   "source": [
    "# ГЛАВА 2 Данные: типы, значения, переменные и имена\n",
    "![Базовые типы данных](types.png \"Базовые типы данных\")\n",
    "Имена переменных в Python отвечают определенным правилам.\n",
    "\n",
    "- Они могут содержать только следующие символы:\n",
    "  - буквы в нижнем регистре (от a до z);\n",
    "  - буквы в верхнем регистре (от A до Z);\n",
    "  - цифры (от 0 до 9);\n",
    "  - нижнее подчеркивание (_).\n",
    "- Они чувствительны к регистру: thing, Thing и THING — это разные имена.\n",
    "- Они должны начинаться с буквы или нижнего подчеркивания, но не с цифры.\n",
    "- Python особо обрабатывает имена, которые начинаются с нижнего подчеркивания (об этом вы сможете прочитать в главе 9).\n",
    "- Они не могут совпадать с зарезервированными словами Python (их также называют ключевыми).\n",
    "Перед вами список зарезервированных слов:\n",
    "\n",
    "False   | await    | else    | import   | pass|\n",
    ":-------|:---------|:--------|:---------|:--------|\n",
    " None   | break    | except  | in       | raise   |\n",
    "| True   | class    | finally | is       | return  |\n",
    "| and    | continue | for     | lambda   | try     |\n",
    "| as     | def      | from    | nonlocal | while   |\n",
    "| assert | del      | global  | not      | with    |\n",
    "| async  | elif     | if      | or       | yield   |"
   ],
   "metadata": {
    "collapsed": false
   }
  },
  {
   "cell_type": "code",
   "execution_count": 1,
   "outputs": [
    {
     "name": "stdout",
     "output_type": "stream",
     "text": [
      "\n",
      "Here is a list of the Python keywords.  Enter any keyword to get more help.\n",
      "\n",
      "False               class               from                or\n",
      "None                continue            global              pass\n",
      "True                def                 if                  raise\n",
      "and                 del                 import              return\n",
      "as                  elif                in                  try\n",
      "assert              else                is                  while\n",
      "async               except              lambda              with\n",
      "await               finally             nonlocal            yield\n",
      "break               for                 not                 \n",
      "\n"
     ]
    }
   ],
   "source": [
    "help(\"keywords\")"
   ],
   "metadata": {
    "collapsed": false
   }
  }
 ],
 "metadata": {
  "kernelspec": {
   "display_name": "Python 3",
   "language": "python",
   "name": "python3"
  },
  "language_info": {
   "codemirror_mode": {
    "name": "ipython",
    "version": 2
   },
   "file_extension": ".py",
   "mimetype": "text/x-python",
   "name": "python",
   "nbconvert_exporter": "python",
   "pygments_lexer": "ipython2",
   "version": "2.7.6"
  }
 },
 "nbformat": 4,
 "nbformat_minor": 0
}
