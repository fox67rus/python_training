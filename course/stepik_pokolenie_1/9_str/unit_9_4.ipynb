{
 "cells": [
  {
   "cell_type": "markdown",
   "source": [
    " # 9.4 Методы строк. Часть 2\n",
    "Поиск и замена\n",
    "- Метод count(<sub>, <start>, <end>) считает количество непересекающихся вхождений подстроки <sub> в исходную строку s.\n",
    "- Метод startswith(<suffix>, <start>, <end>) определяет начинается ли исходная строка s подстрокой <suffix>\n",
    "- Метод endswith(<suffix>, <start>, <end>) определяет оканчивается ли исходная строка s подстрокой <suffix>\n",
    "- Метод find(<sub>, <start>, <end>) находит индекс первого вхождения подстроки <sub> в исходной строке s. Если строка s не содержит подстроки <sub>, то метод возвращает значение -1\n",
    "- Метод rfind(<sub>, <start>, <end>) идентичен методу find(<sub>, <start>, <end>), за тем исключением, что он ищет первое вхождение подстроки <sub> начиная с конца строки s\n",
    "- Метод index(<sub>, <start>, <end>) идентичен методу find(<sub>, <start>, <end>), за тем исключением, что он вызывает ошибку  ValueError: substring not found во время выполнения программы, если подстрока <sub> не найдена.\n",
    "- Метод rindex(<sub>, <start>, <end>) идентичен методу index(<sub>, <start>, <end>), за тем исключением, что он ищет первое вхождение подстроки <sub> начиная с конца строки s.\n",
    "- Метод strip() возвращает копию строки s у которой удалены все пробелы стоящие в начале и конце строки.\n",
    "- Метод lstrip() возвращает копию строки s у которой удалены все пробелы стоящие в начале строки.\n",
    "- Метод rstrip() возвращает копию строки s у которой удалены все пробелы стоящие в конце строки.\n",
    "- Метод replace(<old>, <new>) возвращает копию s со всеми вхождениями подстроки <old>, замененными на <new>. может принимать опциональный третий аргумент <count>, который определяет количество замен."
   ],
   "metadata": {
    "collapsed": false
   }
  },
  {
   "cell_type": "code",
   "execution_count": 1,
   "outputs": [
    {
     "name": "stdout",
     "output_type": "stream",
     "text": [
      "1\n"
     ]
    }
   ],
   "source": [
    "# Количество слов\n",
    "text = input()\n",
    "\n",
    "print(text.count(' ') + 1)"
   ],
   "metadata": {
    "collapsed": false
   }
  },
  {
   "cell_type": "code",
   "execution_count": 2,
   "outputs": [
    {
     "name": "stdout",
     "output_type": "stream",
     "text": [
      "Аденин: 3\n",
      "Гуанин: 2\n",
      "Цитозин: 3\n",
      "Тимин: 5\n"
     ]
    }
   ],
   "source": [
    "# Минутка генетики\n",
    "DNA = input()\n",
    "DNA = DNA.lower()\n",
    "print('Аденин:', DNA.count('а'))\n",
    "print('Гуанин:', DNA.count('г'))\n",
    "print('Цитозин:', DNA.count('ц'))\n",
    "print('Тимин:', DNA.count('т'))"
   ],
   "metadata": {
    "collapsed": false
   }
  },
  {
   "cell_type": "code",
   "execution_count": 1,
   "outputs": [
    {
     "name": "stdout",
     "output_type": "stream",
     "text": [
      "1\n"
     ]
    }
   ],
   "source": [
    "# Очень странные дела\n",
    "Odi_message = 0\n",
    "for _ in range(int(input())):\n",
    "    message = input()\n",
    "    if message.count('11') >= 3:\n",
    "        Odi_message += 1\n",
    "\n",
    "print(Odi_message)"
   ],
   "metadata": {
    "collapsed": false
   }
  },
  {
   "cell_type": "code",
   "execution_count": null,
   "outputs": [],
   "source": [
    "# Количество цифр\n",
    "text = input()\n",
    "count = 0\n",
    "for char in text:\n",
    "    if char in '0123456789':\n",
    "        count += 1\n",
    "\n",
    "print(count)\n",
    "\n",
    "n = input()\n",
    "count = 0\n",
    "for i in range(10):\n",
    "    count += n.count(str(i))\n",
    "print(count)"
   ],
   "metadata": {
    "collapsed": false
   }
  },
  {
   "cell_type": "code",
   "execution_count": 4,
   "outputs": [
    {
     "name": "stdout",
     "output_type": "stream",
     "text": [
      "YES\n"
     ]
    }
   ],
   "source": [
    "# .com or .ru\n",
    "domen = input()\n",
    "end = ('.com', '.ru')\n",
    "if domen.endswith(end):\n",
    "    print('YES')\n",
    "else:\n",
    "    print('NO')"
   ],
   "metadata": {
    "collapsed": false
   }
  }
 ],
 "metadata": {
  "kernelspec": {
   "display_name": "Python 3",
   "language": "python",
   "name": "python3"
  },
  "language_info": {
   "codemirror_mode": {
    "name": "ipython",
    "version": 2
   },
   "file_extension": ".py",
   "mimetype": "text/x-python",
   "name": "python",
   "nbconvert_exporter": "python",
   "pygments_lexer": "ipython2",
   "version": "2.7.6"
  }
 },
 "nbformat": 4,
 "nbformat_minor": 0
}
