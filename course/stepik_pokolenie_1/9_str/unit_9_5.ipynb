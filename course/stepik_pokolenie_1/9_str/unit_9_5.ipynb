{
 "cells": [
  {
   "cell_type": "markdown",
   "source": [
    "# 9.5 Методы строк. Часть 3\n",
    "## Классификация символов\n",
    "\n",
    "- Метод isalnum() определяет, состоит ли исходная строка из буквенно-цифровых символов. Метод возвращает значение True если исходная строка является непустой и состоит только из буквенно-цифровых символов и False в противном случае.\n",
    "- Метод isalpha() определяет, состоит ли исходная строка из буквенных символов. Метод возвращает значение True если исходная строка является непустой и состоит только из буквенных символов и False в противном случае.\n",
    "- Метод isdigit() определяет, состоит ли исходная строка только из цифровых символов. Метод возвращает значение True если исходная строка является непустой и состоит только из цифровых символов и False в противном случае.\n",
    "- Метод islower() определяет, являются ли все буквенные символы исходной строки строчными (имеют нижний регистр). Метод возвращает значение True если все буквенные символы исходной строки являются строчными и False в противном случае. Все неалфавитные символы игнорируются!\n",
    "- Метод isupper() определяет, являются ли все буквенные символы исходной строки заглавными (имеют верхний регистр). Метод возвращает значение True если все буквенные символы исходной строки являются заглавными и False в противном случае. Все неалфавитные символы игнорируются!\n",
    "- Метод isspace() определяет, состоит ли исходная строка только из пробельных символов. Метод возвращает значение True если строка состоит только из пробельных символов и False в противном случае. Состоит ли строка из неотображаемых символов (пробел, символ перевода страницы ('\\f'), \"новая строка\" ('\\n'), \"перевод каретки\" ('\\r'), \"горизонтальная табуляция\" ('\\t') и \"вертикальная табуляция\" ('\\v'))\n",
    "\n",
    "## Форматирование строк\n",
    "В Python предпочтительным способом форматирования считается использование метода format.\n",
    "Мы передаем необходимые параметры методу format, а Python форматирует указанную строку и помещает их в строку на место заполнителей {}. Мы можем создавать сколько угодно заполнителей в строке. Для наглядности и гибкости форматирования мы можем использовать порядковый номер в заполнителе: {0}, {1}, {2},.... Такой номер определяет позицию параметра, переданного методу format (нумерация начинается с нуля):"
   ],
   "metadata": {
    "collapsed": false
   }
  },
  {
   "cell_type": "code",
   "execution_count": null,
   "outputs": [],
   "source": [
    "age = 27\n",
    "name = 'Timur'\n",
    "profession = 'math teacher'\n",
    "txt = 'My name is {0}, I am {1}, I work as a {2}'.format(name, age, profession)\n",
    "print(txt)"
   ],
   "metadata": {
    "collapsed": false
   }
  },
  {
   "cell_type": "markdown",
   "source": [
    "Параметр name встает в {0} заполнитель, параметр age встает в {1} заполнитель и т.д. Мы можем использовать одно и тоже число в нескольких заполнителях"
   ],
   "metadata": {
    "collapsed": false
   }
  },
  {
   "cell_type": "code",
   "execution_count": null,
   "outputs": [],
   "source": [
    "name = 'Timur'\n",
    "txt = 'My name is {0}-{0}-{0}'.format(name)\n",
    "print(txt)"
   ],
   "metadata": {
    "collapsed": false
   }
  },
  {
   "cell_type": "markdown",
   "source": [
    "## f-строки\n",
    "В Python 3.6 появилась новая разновидность строк — так называемые f-строки. Если поставить перед строкой префикс f, в заполнители можно будет включить код, например имя переменной. Предыдущий код можно записать в виде:"
   ],
   "metadata": {
    "collapsed": false
   }
  },
  {
   "cell_type": "code",
   "execution_count": null,
   "outputs": [],
   "source": [
    "first_name = 'Timur'\n",
    "last_name = 'Guev'\n",
    "age = 27\n",
    "profession = 'math teacher'\n",
    "affiliation = 'BeeGeek'\n",
    "print(f'Hello, {first_name} {last_name}. You are {age}. You are a {profession}. You were a member of {affiliation}')"
   ],
   "metadata": {
    "collapsed": false
   }
  },
  {
   "cell_type": "markdown",
   "source": [
    " Подробная [документация](https://docs.python.org/3/library/string.html#custom-string-formatting) с форматированием строк."
   ],
   "metadata": {
    "collapsed": false
   }
  },
  {
   "cell_type": "code",
   "execution_count": 1,
   "outputs": [
    {
     "name": "stdout",
     "output_type": "stream",
     "text": [
      "In 2010, someone paid 10k Bitcoin for two pizzas.\n"
     ]
    }
   ],
   "source": [
    "s = 'In {0}, someone paid {1} {2} for two pizzas.'.format(2010,'10k', 'Bitcoin')\n",
    "\n",
    "print(s)"
   ],
   "metadata": {
    "collapsed": false
   }
  },
  {
   "cell_type": "code",
   "execution_count": 2,
   "outputs": [
    {
     "name": "stdout",
     "output_type": "stream",
     "text": [
      "In 2010, someone paid 10K Bitcoin for two pizzas.\n"
     ]
    }
   ],
   "source": [
    "year = 2010\n",
    "amount = '10K'\n",
    "currency = 'Bitcoin'\n",
    "\n",
    "print(f'In {year}, someone paid {amount} {currency} for two pizzas.')"
   ],
   "metadata": {
    "collapsed": false
   }
  }
 ],
 "metadata": {
  "kernelspec": {
   "display_name": "Python 3",
   "language": "python",
   "name": "python3"
  },
  "language_info": {
   "codemirror_mode": {
    "name": "ipython",
    "version": 2
   },
   "file_extension": ".py",
   "mimetype": "text/x-python",
   "name": "python",
   "nbconvert_exporter": "python",
   "pygments_lexer": "ipython2",
   "version": "2.7.6"
  }
 },
 "nbformat": 4,
 "nbformat_minor": 0
}
