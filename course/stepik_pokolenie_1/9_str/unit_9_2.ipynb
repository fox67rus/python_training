{
 "cells": [
  {
   "cell_type": "markdown",
   "source": [
    "# 9.2 Срезы (slice)\n",
    "s = 'abcdefghij'\n",
    "s[:5] - abcde - первые пять символов строки\n",
    "s[5:] - fghij - строка состоящая из символов с индексами от 5 до конца\n",
    "s[-2:] - ij - последние два символа строки\n",
    "s[:] - abcdefghij - вся строка целиком\n",
    "s[1:7:2] - bdf - строка состоящая из каждого второго символа с индексами от 1 до 6\n",
    "s[::-1] - jihgfedcba - строка в обратном порядке, так как шаг отрицательный\n"
   ],
   "metadata": {
    "collapsed": false
   }
  },
  {
   "cell_type": "code",
   "execution_count": null,
   "outputs": [],
   "source": [
    "s = \"In 2010, someone paid 10k Bitcoin for two pizzas.\"\n",
    "print(s[-9:])\n",
    "print(s[::7])\n",
    "print(s[::-1])\n"
   ],
   "metadata": {
    "collapsed": false
   }
  },
  {
   "cell_type": "code",
   "execution_count": null,
   "outputs": [],
   "source": [
    "# Палиндром\n",
    "text = input()\n",
    "\n",
    "if text == text[::-1]:\n",
    "    print('YES')\n",
    "else:\n",
    "    print('NO')"
   ],
   "metadata": {
    "collapsed": false
   }
  },
  {
   "cell_type": "code",
   "execution_count": null,
   "outputs": [],
   "source": [
    "# Делаем срезы 1\n",
    "s = input()\n",
    "\n",
    "print(len(s))\n",
    "print(s * 3)\n",
    "print(s[:1])\n",
    "print(s[:3])\n",
    "print(s[-3:])\n",
    "print(s[::-1])\n",
    "print(s[1:-1])"
   ],
   "metadata": {
    "collapsed": false
   }
  },
  {
   "cell_type": "code",
   "execution_count": 11,
   "outputs": [
    {
     "name": "stdout",
     "output_type": "stream",
     "text": [
      "c\n",
      "y\n",
      "abcde\n",
      "abcdefghijklmnopqrstuvwx\n",
      "acegikmoqsuwy\n",
      "bdfhjlnprtvxz\n",
      "zyxwvutsrqponmlkjihgfedcba\n",
      "zxvtrpnljhfdb\n"
     ]
    }
   ],
   "source": [
    "# Делаем срезы 2\n",
    "s = input()\n",
    "\n",
    "print(s[2])      # третий символ этой строки\n",
    "print(s[-2])     # предпоследний символ этой строки\n",
    "print(s[:5])     # первые пять символов этой строки\n",
    "print(s[:-2])    # всю строку, кроме последних двух символов\n",
    "print(s[::2])    # все символы с четными индексами\n",
    "print(s[1::2])   # все символы с нечетными индексами\n",
    "print(s[::-1])   # все символы в обратном порядке\n",
    "print(s[::-2])   # все символы строки через один в обратном порядке, начиная с последнего\n"
   ],
   "metadata": {
    "collapsed": false
   }
  },
  {
   "cell_type": "code",
   "execution_count": 15,
   "outputs": [
    {
     "name": "stdout",
     "output_type": "stream",
     "text": [
      "defgabc\n"
     ]
    }
   ],
   "source": [
    "# Две половинки\n",
    "s = input()\n",
    "middle = len(s) // 2\n",
    "print(s[middle:],s[:middle], sep='')\n"
   ],
   "metadata": {
    "collapsed": false
   }
  }
 ],
 "metadata": {
  "kernelspec": {
   "display_name": "Python 3",
   "language": "python",
   "name": "python3"
  },
  "language_info": {
   "codemirror_mode": {
    "name": "ipython",
    "version": 2
   },
   "file_extension": ".py",
   "mimetype": "text/x-python",
   "name": "python",
   "nbconvert_exporter": "python",
   "pygments_lexer": "ipython2",
   "version": "2.7.6"
  }
 },
 "nbformat": 4,
 "nbformat_minor": 0
}
