{
 "cells": [
  {
   "cell_type": "markdown",
   "source": [
    "# 9.6 Строки в памяти компьютера, таблица символов Unicode\n",
    "Официальный сайт таблицы символов [Unicode](https://home.unicode.org/).\n",
    "Юникод — это не кодировка. Это именно таблица символов. То, как символы с соответствующими кодами будут храниться в памяти компьютера, зависит от конкретной кодировки, базирующейся на Юникоде,  например UTF-8. Про отличие таблицы символов Unicode от кодировки UTF-8 можно почитать [тут](https://developer.roman.grinyov.name/blog/104).\n",
    "\n",
    "Функция ord позволяет определить код некоторого символа в таблице символов Unicode. Аргументом данной функции является одиночный символ.\n",
    "Функция chr позволяет определить по коду символа сам символ. Аргументом данной функции является численный код.\n",
    "Функции ord и chr часто работают в паре. Мы можем использовать следующий код для вывода всех заглавных букв английского алфавита:"
   ],
   "metadata": {
    "collapsed": false
   }
  },
  {
   "cell_type": "code",
   "execution_count": null,
   "outputs": [],
   "source": [
    "for i in range(26):\n",
    "    print(chr(ord('A') + i))"
   ],
   "metadata": {
    "collapsed": false
   }
  },
  {
   "cell_type": "code",
   "execution_count": 2,
   "outputs": [
    {
     "name": "stdout",
     "output_type": "stream",
     "text": [
      "A B C D E F "
     ]
    }
   ],
   "source": [
    "# Символы в диапазоне\n",
    "a = int(input())\n",
    "b = int(input())\n",
    "\n",
    "\n",
    "for i in range(a, b+1):\n",
    "    print(chr(i), end=' ')"
   ],
   "metadata": {
    "collapsed": false
   }
  }
 ],
 "metadata": {
  "kernelspec": {
   "display_name": "Python 3",
   "language": "python",
   "name": "python3"
  },
  "language_info": {
   "codemirror_mode": {
    "name": "ipython",
    "version": 2
   },
   "file_extension": ".py",
   "mimetype": "text/x-python",
   "name": "python",
   "nbconvert_exporter": "python",
   "pygments_lexer": "ipython2",
   "version": "2.7.6"
  }
 },
 "nbformat": 4,
 "nbformat_minor": 0
}
