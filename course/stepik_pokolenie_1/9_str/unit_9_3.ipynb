{
 "cells": [
  {
   "cell_type": "markdown",
   "source": [
    "# 9.3 Методы строк. Часть 1\n",
    "\n",
    "1. Конвертация регистра:\n",
    "   - Метод capitalize() возвращает копию строки s, в которой первый символ имеет верхний регистр, а все остальные символы имеют нижний регистр\n",
    "   - Метод swapcase() возвращает копию строки s, в которой все символы, имеющие верхний регистр, преобразуются в символы нижнего регистра и наоборот.\n",
    "   - Метод title() возвращает копию строки s, в которой первый символ каждого слова переводится в верхний регистр\n",
    "   - Метод lower() возвращает копию строки s, в которой все символы имеют нижний регистр.\n",
    "   - Метод upper() возвращает копию строки s, в которой все символы имеют верхний регистр.\n",
    "2. Поиск и замена;\n",
    "3. Классификация символов.\n"
   ],
   "metadata": {
    "collapsed": false
   }
  },
  {
   "cell_type": "code",
   "execution_count": 9,
   "outputs": [
    {
     "name": "stdout",
     "output_type": "stream",
     "text": [
      "NO\n"
     ]
    }
   ],
   "source": [
    "# Заглавные буквы\n",
    "name = input()\n",
    "if name == name.title():\n",
    "    print('YES')\n",
    "else:\n",
    "    print('NO')"
   ],
   "metadata": {
    "collapsed": false
   }
  },
  {
   "cell_type": "code",
   "execution_count": null,
   "outputs": [],
   "source": [
    "# sWAP cASE\n",
    "\n",
    "print(input().swapcase())"
   ],
   "metadata": {
    "collapsed": false
   }
  },
  {
   "cell_type": "code",
   "execution_count": null,
   "outputs": [],
   "source": [
    "# Хороший оттенок\n",
    "if 'хорош' in input().lower():\n",
    "    print('YES')\n",
    "else:\n",
    "    print('NO')"
   ],
   "metadata": {
    "collapsed": false
   }
  },
  {
   "cell_type": "code",
   "execution_count": 10,
   "outputs": [
    {
     "name": "stdout",
     "output_type": "stream",
     "text": [
      "0\n"
     ]
    }
   ],
   "source": [
    "# Нижний регистр\n",
    "text = input()\n",
    "count = 0\n",
    "for letter in text:\n",
    "    if letter == letter.lower() and 'a' <= letter <= 'z':\n",
    "        count += 1\n",
    "print(count)\n",
    "\n",
    "# 2\n",
    "s, counter = input(), 0\n",
    "for i in s:\n",
    "    if i != i.upper():  # условие выполняется только для букв в нижнем регистре\n",
    "        counter += 1\n",
    "print(counter)"
   ],
   "metadata": {
    "collapsed": false
   }
  }
 ],
 "metadata": {
  "kernelspec": {
   "display_name": "Python 3",
   "language": "python",
   "name": "python3"
  },
  "language_info": {
   "codemirror_mode": {
    "name": "ipython",
    "version": 2
   },
   "file_extension": ".py",
   "mimetype": "text/x-python",
   "name": "python",
   "nbconvert_exporter": "python",
   "pygments_lexer": "ipython2",
   "version": "2.7.6"
  }
 },
 "nbformat": 4,
 "nbformat_minor": 0
}
