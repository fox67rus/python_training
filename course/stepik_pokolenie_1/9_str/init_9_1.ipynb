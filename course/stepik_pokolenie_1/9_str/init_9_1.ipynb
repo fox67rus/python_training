{
 "cells": [
  {
   "cell_type": "markdown",
   "source": [
    "# 9.1 Индексация"
   ],
   "metadata": {
    "collapsed": false
   }
  },
  {
   "cell_type": "code",
   "execution_count": 1,
   "outputs": [
    {
     "name": "stdout",
     "output_type": "stream",
     "text": [
      "051217"
     ]
    }
   ],
   "source": [
    "s = '01234567891011121314151617'\n",
    "for i in range(0, len(s), 5):\n",
    "    print(s[i], end='')"
   ],
   "metadata": {
    "collapsed": false
   }
  },
  {
   "cell_type": "code",
   "execution_count": 4,
   "outputs": [
    {
     "name": "stdout",
     "output_type": "stream",
     "text": [
      "a\n",
      "c\n",
      "e\n",
      "g\n",
      "i\n",
      "k\n",
      "m\n",
      "o\n"
     ]
    }
   ],
   "source": [
    "text = input()\n",
    "\n",
    "for i in range(0, len(text), 2):\n",
    "    print(text[i])"
   ],
   "metadata": {
    "collapsed": false
   }
  },
  {
   "cell_type": "code",
   "execution_count": 7,
   "outputs": [
    {
     "name": "stdout",
     "output_type": "stream",
     "text": [
      "c\n",
      "b\n",
      "a\n"
     ]
    }
   ],
   "source": [
    "# В столбик 2\n",
    "s = input()\n",
    "\n",
    "for i in range(-1, -len(s) - 1, -1):\n",
    "    print(s[i])"
   ],
   "metadata": {
    "collapsed": false
   }
  },
  {
   "cell_type": "code",
   "execution_count": 3,
   "outputs": [
    {
     "name": "stdout",
     "output_type": "stream",
     "text": [
      "Цифра\n"
     ]
    }
   ],
   "source": [
    "# Цифра 2\n",
    "s = input()\n",
    "\n",
    "for char in s:\n",
    "    if char in '0123456789':\n",
    "        print('Цифра')\n",
    "        break\n",
    "else:\n",
    "    print('Цифр нет')"
   ],
   "metadata": {
    "collapsed": false
   }
  },
  {
   "cell_type": "code",
   "execution_count": null,
   "outputs": [],
   "source": [
    "# Сколько раз?\n",
    "\n",
    "count_plus = 0\n",
    "count_star = 0\n",
    "\n",
    "for char in input():\n",
    "    if char == '+':\n",
    "        count_plus += 1\n",
    "    elif char == '*':\n",
    "        count_star += 1\n",
    "\n",
    "print(f'Символ + встречается {count_plus} раз')\n",
    "print(f'Символ * встречается {count_star} раз')"
   ],
   "metadata": {
    "collapsed": false
   }
  },
  {
   "cell_type": "code",
   "execution_count": 4,
   "outputs": [
    {
     "name": "stdout",
     "output_type": "stream",
     "text": [
      "4\n"
     ]
    }
   ],
   "source": [
    "# Одинаковые соседи\n",
    "text = input()\n",
    "count = 0\n",
    "current_char = text[0]\n",
    "for i in range(1, len(text)):\n",
    "    if text[i] == current_char:\n",
    "        count += 1\n",
    "    else:\n",
    "        current_char = text[i]\n",
    "\n",
    "print(count)\n"
   ],
   "metadata": {
    "collapsed": false
   }
  },
  {
   "cell_type": "code",
   "execution_count": 8,
   "outputs": [
    {
     "name": "stdout",
     "output_type": "stream",
     "text": [
      "Количество гласных букв равно  0\n",
      "Количество согласных букв равно  0\n"
     ]
    }
   ],
   "source": [
    "# Гласные и согласные\n",
    "vowel_letters = 'ауоыиэяюёеАУОЫИЭЯЮЁЕ'\n",
    "consonant_letters = 'бвгджзйклмнпрстфхцчшщБВГДЖЗЙКЛМНПРСТФХЦЧШЩ'\n",
    "\n",
    "count_vowel = 0\n",
    "count_consonant = 0\n",
    "\n",
    "for char in input():\n",
    "    if char in vowel_letters:\n",
    "        count_vowel += 1\n",
    "    elif char in consonant_letters:\n",
    "        count_consonant += 1\n",
    "\n",
    "print('Количество гласных букв равно', count_vowel)\n",
    "print('Количество согласных букв равно', count_consonant)\n"
   ],
   "metadata": {
    "collapsed": false
   }
  },
  {
   "cell_type": "code",
   "execution_count": 3,
   "outputs": [
    {
     "name": "stdout",
     "output_type": "stream",
     "text": [
      "1000000010000000\n"
     ]
    }
   ],
   "source": [
    "# Decimal to Binary\n",
    "num_10 = int(input())\n",
    "num_2 = ''\n",
    "while num_10 != 0:\n",
    "    num_2 += str(num_10 % 2)\n",
    "    num_10 //= 2\n",
    "\n",
    "for i in range(1, len(num_2)+1):\n",
    "    print(num_2[-i], end='')\n",
    "\n",
    "\n",
    "# 2\n",
    "a = 128\n",
    "b = ''\n",
    "\n",
    "while a != 0:\n",
    "    b = str(a % 2) + b # порядок слагаемых имеет значение\n",
    "    a //= 2\n",
    "print(b)"
   ],
   "metadata": {
    "collapsed": false
   }
  }
 ],
 "metadata": {
  "kernelspec": {
   "display_name": "Python 3",
   "language": "python",
   "name": "python3"
  },
  "language_info": {
   "codemirror_mode": {
    "name": "ipython",
    "version": 2
   },
   "file_extension": ".py",
   "mimetype": "text/x-python",
   "name": "python",
   "nbconvert_exporter": "python",
   "pygments_lexer": "ipython2",
   "version": "2.7.6"
  }
 },
 "nbformat": 4,
 "nbformat_minor": 0
}
