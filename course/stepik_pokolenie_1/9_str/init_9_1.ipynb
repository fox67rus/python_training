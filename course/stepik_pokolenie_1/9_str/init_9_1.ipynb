{
 "cells": [
  {
   "cell_type": "code",
   "execution_count": 1,
   "metadata": {
    "collapsed": true
   },
   "outputs": [
    {
     "name": "stdout",
     "output_type": "stream",
     "text": [
      "051217"
     ]
    }
   ],
   "source": [
    "s = '01234567891011121314151617'\n",
    "for i in range(0, len(s), 5):\n",
    "    print(s[i], end='')"
   ]
  },
  {
   "cell_type": "code",
   "execution_count": 4,
   "outputs": [
    {
     "name": "stdout",
     "output_type": "stream",
     "text": [
      "a\n",
      "c\n",
      "e\n",
      "g\n",
      "i\n",
      "k\n",
      "m\n",
      "o\n"
     ]
    }
   ],
   "source": [
    "text = input()\n",
    "\n",
    "for i in range(0, len(text), 2):\n",
    "    print(text[i])"
   ],
   "metadata": {
    "collapsed": false
   }
  },
  {
   "cell_type": "code",
   "execution_count": 7,
   "outputs": [
    {
     "name": "stdout",
     "output_type": "stream",
     "text": [
      "c\n",
      "b\n",
      "a\n"
     ]
    }
   ],
   "source": [
    "# В столбик 2\n",
    "s = input()\n",
    "\n",
    "for i in range(-1, -len(s) - 1, -1):\n",
    "    print(s[i])"
   ],
   "metadata": {
    "collapsed": false
   }
  }
 ],
 "metadata": {
  "kernelspec": {
   "display_name": "Python 3",
   "language": "python",
   "name": "python3"
  },
  "language_info": {
   "codemirror_mode": {
    "name": "ipython",
    "version": 2
   },
   "file_extension": ".py",
   "mimetype": "text/x-python",
   "name": "python",
   "nbconvert_exporter": "python",
   "pygments_lexer": "ipython2",
   "version": "2.7.6"
  }
 },
 "nbformat": 4,
 "nbformat_minor": 0
}
