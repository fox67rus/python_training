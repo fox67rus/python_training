{
 "cells": [
  {
   "cell_type": "markdown",
   "source": [
    "7.1 Цикл for"
   ],
   "metadata": {
    "collapsed": false
   }
  },
  {
   "cell_type": "code",
   "execution_count": null,
   "outputs": [],
   "source": [
    "# Python is awesome\n",
    "\n",
    "for i in range(10):\n",
    "    print('Python is awesome!')"
   ],
   "metadata": {
    "collapsed": false
   }
  },
  {
   "cell_type": "code",
   "execution_count": 1,
   "outputs": [
    {
     "name": "stdout",
     "output_type": "stream",
     "text": [
      "Hello!\n",
      "Hello!\n",
      "Hello!\n",
      "Hello!\n",
      "Hello!\n",
      "Hello!\n",
      "Hello!\n",
      "Hello!\n",
      "Hello!\n",
      "Hello!\n",
      "Hello!\n",
      "Hello!\n",
      "Hello!\n",
      "Hello!\n",
      "Hello!\n",
      "Hello!\n",
      "Hello!\n",
      "Hello!\n",
      "Hello!\n",
      "Hello!\n"
     ]
    }
   ],
   "source": [
    "# Повторяй за мной 1\n",
    "text = input()\n",
    "repeat = int(input())\n",
    "\n",
    "for _ in range(repeat):\n",
    "    print(text)\n"
   ],
   "metadata": {
    "collapsed": false
   }
  },
  {
   "cell_type": "code",
   "execution_count": 2,
   "outputs": [
    {
     "name": "stdout",
     "output_type": "stream",
     "text": [
      "AAA\n",
      "AAA\n",
      "AAA\n",
      "AAA\n",
      "AAA\n",
      "AAA\n",
      "BBBB\n",
      "BBBB\n",
      "BBBB\n",
      "BBBB\n",
      "BBBB\n",
      "E\n",
      "TTTTT\n",
      "TTTTT\n",
      "TTTTT\n",
      "TTTTT\n",
      "TTTTT\n",
      "TTTTT\n",
      "TTTTT\n",
      "TTTTT\n",
      "TTTTT\n",
      "G\n"
     ]
    }
   ],
   "source": [
    "# Последовательность символов\n",
    "for _ in range(6):\n",
    "    print('AAA')\n",
    "for _ in range(5):\n",
    "    print('BBBB')\n",
    "print('E')\n",
    "for _ in range(9):\n",
    "    print('TTTTT')\n",
    "print('G')"
   ],
   "metadata": {
    "collapsed": false
   }
  },
  {
   "cell_type": "code",
   "execution_count": null,
   "outputs": [],
   "source": [
    "# Звездный прямоугольник\n",
    "n = int(input())\n",
    "\n",
    "for _ in range(n):\n",
    "    print('*' * 19)"
   ],
   "metadata": {
    "collapsed": false
   }
  },
  {
   "cell_type": "code",
   "execution_count": null,
   "outputs": [],
   "source": [
    "# Повторяй за мной 2\n",
    "text = input()\n",
    "\n",
    "for i in range(10):\n",
    "    print(i, text)"
   ],
   "metadata": {
    "collapsed": false
   }
  },
  {
   "cell_type": "code",
   "execution_count": null,
   "outputs": [],
   "source": [
    "# Квадрат числа\n",
    "n = int(input())\n",
    "\n",
    "for i in range(n + 1):\n",
    "    print('Квадрат числа', i, 'равен', i * i)\n"
   ],
   "metadata": {
    "collapsed": false
   }
  },
  {
   "cell_type": "code",
   "execution_count": 5,
   "outputs": [
    {
     "name": "stdout",
     "output_type": "stream",
     "text": [
      "***********\n",
      "**********\n",
      "*********\n",
      "********\n",
      "*******\n",
      "******\n",
      "*****\n",
      "****\n",
      "***\n",
      "**\n",
      "*\n",
      "\n"
     ]
    }
   ],
   "source": [
    "# Звездный треугольник\n",
    "n = int(input())  # n >= 2 катет равнобедренного треугольника\n",
    "\n",
    "for i in range(n + 1):\n",
    "    print((n - i) * '*')\n"
   ],
   "metadata": {
    "collapsed": false
   }
  },
  {
   "cell_type": "code",
   "execution_count": null,
   "outputs": [],
   "source": [
    "# Популяция\n",
    "m = int(input())  # стартовое количество организмов\n",
    "p = int(input())  # среднесуточное увеличение в %\n",
    "n = int(input())  # количество дней для размножения\n",
    "\n",
    "for i in range(n):\n",
    "    print(i + 1, m)\n",
    "    m = m + (m * p / 100)"
   ],
   "metadata": {
    "collapsed": false
   }
  },
  {
   "cell_type": "markdown",
   "source": [
    "# 7.2 Цикл for: функция range"
   ],
   "metadata": {
    "collapsed": false
   }
  },
  {
   "cell_type": "code",
   "execution_count": null,
   "outputs": [],
   "source": [
    "# Последовательность чисел 1\n",
    "m = int(input())\n",
    "n = int(input())\n",
    "\n",
    "for i in range(m, n + 1):\n",
    "    print(i)"
   ],
   "metadata": {
    "collapsed": false
   }
  },
  {
   "cell_type": "code",
   "execution_count": 7,
   "outputs": [
    {
     "name": "stdout",
     "output_type": "stream",
     "text": [
      "7\n",
      "6\n",
      "5\n",
      "4\n",
      "3\n",
      "2\n",
      "1\n"
     ]
    }
   ],
   "source": [
    "# Последовательность чисел 2\n",
    "m = int(input())\n",
    "n = int(input())\n",
    "if m <= n:\n",
    "    for i in range(m, n + 1):\n",
    "        print(i)\n",
    "else:\n",
    "    for i in range(m, n - 1, -1):\n",
    "        print(i)"
   ],
   "metadata": {
    "collapsed": false
   }
  },
  {
   "cell_type": "code",
   "execution_count": 15,
   "outputs": [
    {
     "name": "stdout",
     "output_type": "stream",
     "text": [
      "5\n",
      "5\n"
     ]
    }
   ],
   "source": [
    "# Последовательность чисел 3\n",
    "# 1\n",
    "m, n = int(input()), int(input())\n",
    "\n",
    "for i in range(m, n - 1, -1):\n",
    "    if i % 2 == 1:\n",
    "        print(i)\n",
    "\n",
    "# 2 без if\n",
    "start = m % 2 + m - 1\n",
    "for i in range(start, n - 1, -2):\n",
    "    print(i)\n"
   ],
   "metadata": {
    "collapsed": false
   }
  },
  {
   "cell_type": "code",
   "execution_count": null,
   "outputs": [],
   "source": [
    "# Последовательность чисел 4\n",
    "m, n = int(input()), int(input())\n",
    "\n",
    "for i in range(m, n + 1,):\n",
    "    if i % 3 == 0 and i % 5 == 0 or i % 17 == 0 or i % 10 == 9:\n",
    "        print(i)"
   ],
   "metadata": {
    "collapsed": false
   }
  },
  {
   "cell_type": "code",
   "execution_count": 18,
   "outputs": [
    {
     "name": "stdout",
     "output_type": "stream",
     "text": [
      "5 x 1 = 5\n",
      "5 x 2 = 10\n",
      "5 x 3 = 15\n",
      "5 x 4 = 20\n",
      "5 x 5 = 25\n",
      "5 x 6 = 30\n",
      "5 x 7 = 35\n",
      "5 x 8 = 40\n",
      "5 x 9 = 45\n",
      "5 x 10 = 50\n"
     ]
    }
   ],
   "source": [
    "# Таблица умножения\n",
    "n = int(input())\n",
    "\n",
    "for i in range(1, 11):\n",
    "    print(n, 'x', i, '=', n * i)"
   ],
   "metadata": {
    "collapsed": false
   }
  }
 ],
 "metadata": {
  "kernelspec": {
   "display_name": "Python 3",
   "language": "python",
   "name": "python3"
  },
  "language_info": {
   "codemirror_mode": {
    "name": "ipython",
    "version": 2
   },
   "file_extension": ".py",
   "mimetype": "text/x-python",
   "name": "python",
   "nbconvert_exporter": "python",
   "pygments_lexer": "ipython2",
   "version": "2.7.6"
  }
 },
 "nbformat": 4,
 "nbformat_minor": 0
}
