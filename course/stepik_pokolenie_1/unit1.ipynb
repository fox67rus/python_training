{
 "cells": [
  {
   "cell_type": "code",
   "execution_count": 3,
   "metadata": {},
   "outputs": [
    {
     "name": "stdout",
     "output_type": "stream",
     "text": [
      "1\n"
     ]
    }
   ],
   "source": [
    "cm = int(input())\n",
    "m = cm // 100\n",
    "print(m)"
   ]
  },
  {
   "cell_type": "code",
   "execution_count": 2,
   "metadata": {},
   "outputs": [
    {
     "name": "stdout",
     "output_type": "stream",
     "text": [
      "2\n",
      "2\n"
     ]
    }
   ],
   "source": [
    "# n = int(input())\n",
    "n = 8\n",
    "print(n // -4 * -1)\n",
    "print((n + 4 - 1) // 4)"
   ]
  },
  {
   "cell_type": "code",
   "execution_count": 1,
   "metadata": {},
   "outputs": [
    {
     "name": "stdout",
     "output_type": "stream",
     "text": [
      "240 мин - это 4 час 0 минут.\n"
     ]
    }
   ],
   "source": [
    "time = 240\n",
    "\n",
    "print(f'{time} мин - это {time // 60} час {time % 60} минут.')"
   ]
  },
  {
   "cell_type": "markdown",
   "metadata": {},
   "source": [
    "### Алгоритм получения цифр nn-значного числа\n",
    "Несложно понять, по какому алгоритму можно найти каждую цифру nn-значного числа num:\n",
    "* Последняя цифра: (num % 10<sup>1</sup>) // 10<sup>0</sup>;\n",
    "* Предпоследняя цифра: (num % 10<sup>2</sup>) // 10<sup>1</sup>;\n",
    "* Предпредпоследняя цифра: (num % 10<sup>3</sup>) // 10<sup>2</sup>;\n",
    "* .....\n",
    "* Вторая цифра: (num % 10<sup>n-1</sup>) // 10<sup>n-2</sup>;\n",
    "* Первая цифра: (num % 10<sup>n</sup>) // 10<sup>n-1</sup>."
   ]
  },
  {
   "cell_type": "code",
   "execution_count": 1,
   "metadata": {},
   "outputs": [
    {
     "name": "stdout",
     "output_type": "stream",
     "text": [
      "Цифра в позиции тысяч равна 3\n",
      "Цифра в позиции сотен равна 2\n",
      "Цифра в позиции десятков равна 8\n",
      "Цифра в позиции единиц равна 1\n"
     ]
    }
   ],
   "source": [
    "number = int(input())\n",
    "digit_4 = number % 10\n",
    "digit_3 = number // 10 % 10\n",
    "digit_2 = number // 10 ** 2 % 10\n",
    "digit_1 = number // 10 ** 3\n",
    "\n",
    "print('Цифра в позиции тысяч равна', digit_1)\n",
    "print('Цифра в позиции сотен равна', digit_2)\n",
    "print('Цифра в позиции десятков равна', digit_3)\n",
    "print('Цифра в позиции единиц равна', digit_4)"
   ]
  },
  {
   "cell_type": "code",
   "execution_count": 3,
   "outputs": [
    {
     "name": "stdout",
     "output_type": "stream",
     "text": [
      "Цифра в позиции тысяч равна 3\n",
      "Цифра в позиции сотен равна 2\n",
      "Цифра в позиции десятков равна 8\n",
      "Цифра в позиции единиц равна 1\n"
     ]
    }
   ],
   "source": [
    "number = int(input())\n",
    "digit_4 = number % 10\n",
    "digit_3 = number % 10 ** 2 // 10\n",
    "digit_2 = number % 10 ** 3 // 10 ** 2\n",
    "digit_1 = number % 10 ** 4 // 10 ** 3\n",
    "\n",
    "print('Цифра в позиции тысяч равна', digit_1)\n",
    "print('Цифра в позиции сотен равна', digit_2)\n",
    "print('Цифра в позиции десятков равна', digit_3)\n",
    "print('Цифра в позиции единиц равна', digit_4)"
   ],
   "metadata": {
    "collapsed": false
   }
  },
  {
   "cell_type": "code",
   "execution_count": 6,
   "outputs": [
    {
     "name": "stdout",
     "output_type": "stream",
     "text": [
      "56\n"
     ]
    }
   ],
   "source": [
    "a = 17 // (23 % 7)\n",
    "b = 34 % a * 5 - 29 % 4 * 3\n",
    "print(a * b)"
   ],
   "metadata": {
    "collapsed": false
   }
  },
  {
   "cell_type": "code",
   "execution_count": 7,
   "outputs": [
    {
     "name": "stdout",
     "output_type": "stream",
     "text": [
      "*****************\n",
      "*               *\n",
      "*               *\n",
      "*****************\n"
     ]
    }
   ],
   "source": [
    "print('*' * 17)\n",
    "print('*' + ' ' * 15 + '*')\n",
    "print('*' + ' ' * 15 + '*')\n",
    "print('*' * 17)\n"
   ],
   "metadata": {
    "collapsed": false
   }
  },
  {
   "cell_type": "code",
   "execution_count": 10,
   "outputs": [
    {
     "name": "stdout",
     "output_type": "stream",
     "text": [
      "Квадрат суммы 3 и 2 равен 25\n",
      "Сумма квадратов 3 и 2 равна 13\n"
     ]
    }
   ],
   "source": [
    "a = int(input())\n",
    "b = int(input())\n",
    "\n",
    "print(f'Квадрат суммы {a} и {b} равен {(a + b) ** 2}')\n",
    "print(f'Сумма квадратов {a} и {b} равна {a ** 2 + b ** 2}')"
   ],
   "metadata": {
    "collapsed": false
   }
  },
  {
   "cell_type": "code",
   "execution_count": 11,
   "outputs": [
    {
     "name": "stdout",
     "output_type": "stream",
     "text": [
      "4710194409608608369201743232\n"
     ]
    }
   ],
   "source": [
    "a = int(input())\n",
    "b = int(input())\n",
    "c = int(input())\n",
    "d = int(input())\n",
    "\n",
    "print(a ** b + c ** d)"
   ],
   "metadata": {
    "collapsed": false
   }
  },
  {
   "cell_type": "code",
   "execution_count": 12,
   "outputs": [
    {
     "name": "stdout",
     "output_type": "stream",
     "text": [
      "123\n"
     ]
    }
   ],
   "source": [
    "n = int(input())\n",
    "\n",
    "print(n + n * 10 + n + n * 100 + n * 10 + n)"
   ],
   "metadata": {
    "collapsed": false
   }
  }
 ],
 "metadata": {
  "kernelspec": {
   "display_name": "Python 3 (ipykernel)",
   "language": "python",
   "name": "python3"
  },
  "language_info": {
   "codemirror_mode": {
    "name": "ipython",
    "version": 3
   },
   "file_extension": ".py",
   "mimetype": "text/x-python",
   "name": "python",
   "nbconvert_exporter": "python",
   "pygments_lexer": "ipython3",
   "version": "3.10.8"
  }
 },
 "nbformat": 4,
 "nbformat_minor": 1
}
