{
 "cells": [
  {
   "cell_type": "markdown",
   "source": [
    "# Тема урока: числовые типы данных"
   ],
   "metadata": {
    "collapsed": false
   }
  },
  {
   "cell_type": "code",
   "execution_count": null,
   "outputs": [],
   "source": [
    "a = 13\n",
    "b = 7\n",
    "\n",
    "total = a + b\n",
    "diff = a - b\n",
    "prod = a * b\n",
    "div1 = a / b\n",
    "div2 = a // b\n",
    "mod = a % b\n",
    "exp = a ** b\n",
    "\n",
    "print(a, '+', b, '=', total)\n",
    "print(a, '-', b, '=', diff)\n",
    "print(a, '*', b, '=', prod)\n",
    "print(a, '/', b, '=', div1)\n",
    "print(a, '//', b, '=', div2)\n",
    "print(a, '%', b, '=', mod)\n",
    "print(a, '**', b, '=', exp)"
   ],
   "metadata": {
    "collapsed": false
   }
  },
  {
   "cell_type": "code",
   "execution_count": 1,
   "outputs": [
    {
     "name": "stdout",
     "output_type": "stream",
     "text": [
      "25000000\n",
      "25000000\n"
     ]
    }
   ],
   "source": [
    "num1 = 25_000_000\n",
    "num2 = 25000000\n",
    "print(num1)\n",
    "print(num2)"
   ],
   "metadata": {
    "collapsed": false
   }
  },
  {
   "cell_type": "code",
   "execution_count": 5,
   "outputs": [
    {
     "name": "stdout",
     "output_type": "stream",
     "text": [
      "344988.0\n"
     ]
    }
   ],
   "source": [
    "a = float(input())\n",
    "b = float(input())\n",
    "\n",
    "s = 0.5 * a * b\n",
    "print(s)\n"
   ],
   "metadata": {
    "collapsed": false
   }
  },
  {
   "cell_type": "code",
   "execution_count": null,
   "outputs": [],
   "source": [
    "s = float(input())\n",
    "v1 = float(input())\n",
    "v2 = float(input())\n",
    "\n",
    "t = s / (v1 + v2)\n",
    "print(t)"
   ],
   "metadata": {
    "collapsed": false
   }
  },
  {
   "cell_type": "code",
   "execution_count": null,
   "outputs": [],
   "source": [
    "num = float(input())\n",
    "\n",
    "if num == 0:\n",
    "    print('Обратного числа не существует')\n",
    "else:\n",
    "    print(1 / num)"
   ],
   "metadata": {
    "collapsed": false
   }
  },
  {
   "cell_type": "code",
   "execution_count": null,
   "outputs": [],
   "source": [
    "temp_F = float(input())\n",
    "temp_C = (temp_F - 32) * 5 / 9\n",
    "print(temp_C)"
   ],
   "metadata": {
    "collapsed": false
   }
  },
  {
   "cell_type": "code",
   "execution_count": null,
   "outputs": [],
   "source": [
    "n = int(input())\n",
    "\n",
    "if 0 < n <= 2:\n",
    "    dog_age = n * 10.5\n",
    "else:\n",
    "    dog_age = 2 * 10.5 + (n - 2) * 4\n",
    "print(dog_age)"
   ],
   "metadata": {
    "collapsed": false
   }
  },
  {
   "cell_type": "code",
   "execution_count": 2,
   "outputs": [
    {
     "name": "stdout",
     "output_type": "stream",
     "text": [
      "4\n"
     ]
    }
   ],
   "source": [
    "num = float(input())\n",
    "\n",
    "print(int(num * 10) % 10)"
   ],
   "metadata": {
    "collapsed": false
   }
  },
  {
   "cell_type": "code",
   "execution_count": 3,
   "outputs": [
    {
     "name": "stdout",
     "output_type": "stream",
     "text": [
      "0.45000000000000284\n"
     ]
    }
   ],
   "source": [
    "num = float(input())\n",
    "\n",
    "print(num - int(num))"
   ],
   "metadata": {
    "collapsed": false
   }
  },
  {
   "cell_type": "code",
   "execution_count": null,
   "outputs": [],
   "source": [
    "num1 = int(input())\n",
    "num2 = int(input())\n",
    "num3 = int(input())\n",
    "num4 = int(input())\n",
    "num5 = int(input())\n",
    "\n",
    "print('Наименьшее число =', min(num1, num2, num3, num4, num5))\n",
    "print('Наибольшее число =', max(num1, num2, num3, num4, num5))"
   ],
   "metadata": {
    "collapsed": false
   }
  },
  {
   "cell_type": "code",
   "execution_count": null,
   "outputs": [],
   "source": [
    "num1 = int(input())\n",
    "num2 = int(input())\n",
    "num3 = int(input())\n",
    "\n",
    "first = max(num1, num2, num3)\n",
    "third = min(num1, num2, num3)\n",
    "second = num1 + num2 + num3 - first - third\n",
    "print(first)\n",
    "print(second)\n",
    "print(third)\n"
   ],
   "metadata": {
    "collapsed": false
   }
  },
  {
   "cell_type": "code",
   "execution_count": 7,
   "outputs": [
    {
     "name": "stdout",
     "output_type": "stream",
     "text": [
      "Число интересное\n"
     ]
    }
   ],
   "source": [
    "num = int(input())\n",
    "\n",
    "first = num // 100\n",
    "second = num % 100 // 10\n",
    "third = num % 10\n",
    "max_num = max(first, second, third)\n",
    "min_num = min(first, second, third)\n",
    "\n",
    "if max_num - min_num == (first + second + third) - max_num - min_num:\n",
    "    print('Число интересное')\n",
    "else:\n",
    "    print('Число неинтересное')"
   ],
   "metadata": {
    "collapsed": false
   }
  },
  {
   "cell_type": "code",
   "execution_count": null,
   "outputs": [],
   "source": [
    "a1 = float(input())\n",
    "a2 = float(input())\n",
    "a3 = float(input())\n",
    "a4 = float(input())\n",
    "a5 = float(input())\n",
    "\n",
    "print(abs(a1) + abs(a2) + abs(a3) + abs(a4) + abs(a5))"
   ],
   "metadata": {
    "collapsed": false
   }
  },
  {
   "cell_type": "code",
   "execution_count": null,
   "outputs": [],
   "source": [
    "# Манхэттенское расстояние\n",
    "p1 = int(input())\n",
    "p2 = int(input())\n",
    "q1 = int(input())\n",
    "q2 = int(input())\n",
    "\n",
    "print(abs(p1 - q1) + abs(p2 - q2))"
   ],
   "metadata": {
    "collapsed": false
   }
  },
  {
   "cell_type": "markdown",
   "source": [
    "# 6.2. Тема урока: строковый тип данных"
   ],
   "metadata": {
    "collapsed": false
   }
  },
  {
   "cell_type": "code",
   "execution_count": 8,
   "outputs": [
    {
     "name": "stdout",
     "output_type": "stream",
     "text": [
      "\"Python is a great language!\", said Fred. \"I don't ever remember having this much fun before.\"\n"
     ]
    }
   ],
   "source": [
    "print('\"Python is a great language!\", said Fred. \"I ' + \"don't\" + ' ever remember having this much fun before.\"')"
   ],
   "metadata": {
    "collapsed": false
   }
  },
  {
   "cell_type": "code",
   "execution_count": null,
   "outputs": [],
   "source": [
    "# What's Your Name?\n",
    "name = input()\n",
    "last_name = input()\n",
    "\n",
    "print('Hello ' + name + ' ' + last_name + '! You just delved into Python')"
   ],
   "metadata": {
    "collapsed": false
   }
  },
  {
   "cell_type": "code",
   "execution_count": null,
   "outputs": [],
   "source": [
    "# Футбольная команда\n",
    "club_name = input()\n",
    "print('Футбольная команда', club_name, 'имеет длину', len(club_name), 'символов')"
   ],
   "metadata": {
    "collapsed": false
   }
  },
  {
   "cell_type": "code",
   "execution_count": null,
   "outputs": [],
   "source": [
    "# Три города\n",
    "city1 = input()\n",
    "city2 = input()\n",
    "city3 = input()\n",
    "\n",
    "if len(city1) < len(city2) and len(city1) < len(city3):\n",
    "    print(city1)\n",
    "    if len(city2) > len(city3):\n",
    "        print(city2)\n",
    "    else:\n",
    "        print(city3)\n",
    "elif len(city2) < len(city1) and len(city2) < len(city3):\n",
    "    print(city2)\n",
    "    if len(city1) > len(city3):\n",
    "        print(city1)\n",
    "    else:\n",
    "        print(city3)\n",
    "else:\n",
    "    print(city3)\n",
    "    if len(city1) > len(city2):\n",
    "        print(city1)\n",
    "    else:\n",
    "        print(city2)\n"
   ],
   "metadata": {
    "collapsed": false
   }
  },
  {
   "cell_type": "code",
   "execution_count": 9,
   "outputs": [
    {
     "name": "stdout",
     "output_type": "stream",
     "text": [
      "NO\n",
      "NO\n"
     ]
    }
   ],
   "source": [
    "# Арифметические строки\n",
    "str1 = len(input())\n",
    "str2 = len(input())\n",
    "str3 = len(input())\n",
    "\n",
    "first = min(str1, str2, str3)\n",
    "last = max(str1, str2, str3)\n",
    "second = (str1 + str2 + str3) - first - last\n",
    "\n",
    "if last - second == second - first:\n",
    "    print('YES')\n",
    "else:\n",
    "    print('NO')\n"
   ],
   "metadata": {
    "collapsed": false
   }
  },
  {
   "cell_type": "code",
   "execution_count": null,
   "outputs": [],
   "source": [
    "# Цвет настроения синий\n",
    "str1 = input()\n",
    "if 'синий' in str1:\n",
    "    print('YES')\n",
    "else:\n",
    "    print('NO')\n"
   ],
   "metadata": {
    "collapsed": false
   }
  },
  {
   "cell_type": "code",
   "execution_count": null,
   "outputs": [],
   "source": [
    "# Отдыхаем ли?\n",
    "str1 = input()\n",
    "if 'суббота' in str1 or 'воскресенье' in str1:\n",
    "    print('YES')\n",
    "else:\n",
    "    print('NO')"
   ],
   "metadata": {
    "collapsed": false
   }
  },
  {
   "cell_type": "code",
   "execution_count": null,
   "outputs": [],
   "source": [
    "# Корректный email\n",
    "email = input()\n",
    "if '@' in email and '.' in email:\n",
    "    print('YES')\n",
    "else:\n",
    "    print('NO')"
   ],
   "metadata": {
    "collapsed": false
   }
  },
  {
   "cell_type": "markdown",
   "source": [
    "# 6.3. Тема урока: модуль math"
   ],
   "metadata": {
    "collapsed": false
   }
  },
  {
   "cell_type": "code",
   "execution_count": 11,
   "outputs": [
    {
     "name": "stdout",
     "output_type": "stream",
     "text": [
      "1.4142135623730951\n",
      "4\n",
      "3\n"
     ]
    }
   ],
   "source": [
    "from math import *\n",
    "\n",
    "num1 = sqrt(2)  # вычисление корня квадратного из двух\n",
    "num2 = ceil(3.8)  # округление числа вверх\n",
    "num3 = floor(3.8)  # округление числа вниз\n",
    "\n",
    "print(num1)\n",
    "print(num2)\n",
    "print(num3)"
   ],
   "metadata": {
    "collapsed": false
   }
  },
  {
   "cell_type": "markdown",
   "source": [
    "Список функций модуля math\n",
    "math.ceil(X) – округление до ближайшего большего числа.\n",
    "math.copysign(X, Y) - возвращает число, имеющее модуль такой же, как и у числа X, а знак - как у числа Y.\n",
    "math.fabs(X) - модуль X.\n",
    "math.factorial(X) - факториал числа X.\n",
    "math.floor(X) - округление вниз.\n",
    "math.fmod(X, Y) - остаток от деления X на Y.\n",
    "math.frexp(X) - возвращает мантиссу и экспоненту числа.\n",
    "math.ldexp(X, I) - X * 2i. Функция, обратная функции math.frexp().\n",
    "math.fsum(последовательность) - сумма всех членов последовательности. Эквивалент встроенной функции sum(), но math.fsum() более точна для чисел с плавающей точкой.\n",
    "math.isfinite(X) - является ли X числом.\n",
    "math.isinf(X) - является ли X бесконечностью.\n",
    "math.isnan(X) - является ли X NaN (Not a Number - не число).\n",
    "math.modf(X) - возвращает дробную и целую часть числа X. Оба числа имеют тот же знак, что и X.\n",
    "math.trunc(X) - усекает значение X до целого.\n",
    "math.exp(X) - eX.\n",
    "math.expm1(X) - eX - 1. При X → 0 точнее, чем math.exp(X)-1.\n",
    "math.log(X, [base]) - логарифм X по основанию base. Если base не указан, вычисляется натуральный логарифм.\n",
    "math.log1p(X) - натуральный логарифм (1 + X). При X → 0 точнее, чем math.log(1+X).\n",
    "math.log10(X) - логарифм X по основанию 10.\n",
    "math.log2(X) - логарифм X по основанию 2. Новое в Python 3.3.\n",
    "math.pow(X, Y) - XY.\n",
    "math.sqrt(X) - квадратный корень из X.\n",
    "math.acos(X) - арккосинус X. В радианах.\n",
    "math.asin(X) - арксинус X. В радианах.\n",
    "math.atan(X) - арктангенс X. В радианах.\n",
    "math.atan2(Y, X) - арктангенс Y/X. В радианах. С учетом четверти, в которой находится точка (X, Y).\n",
    "math.cos(X) - косинус X (X указывается в радианах).\n",
    "math.sin(X) - синус X (X указывается в радианах).\n",
    "math.tan(X) - тангенс X (X указывается в радианах).\n",
    "math.hypot(X, Y) - вычисляет гипотенузу треугольника с катетами X и Y (math.sqrt(x * x + y * y)).\n",
    "math.degrees(X) - конвертирует радианы в градусы.\n",
    "math.radians(X) - конвертирует градусы в радианы.\n",
    "math.cosh(X) - вычисляет гиперболический косинус.\n",
    "math.sinh(X) - вычисляет гиперболический синус.\n",
    "math.tanh(X) - вычисляет гиперболический тангенс.\n",
    "math.acosh(X) - вычисляет обратный гиперболический косинус.\n",
    "math.asinh(X) - вычисляет обратный гиперболический синус.\n",
    "math.atanh(X) - вычисляет обратный гиперболический тангенс.\n",
    "math.erf(X) - функция ошибок.\n",
    "math.erfc(X) - дополнительная функция ошибок (1 - math.erf(X)).\n",
    "math.gamma(X) - гамма-функция X.\n",
    "math.lgamma(X) - натуральный логарифм гамма-функции X.\n",
    "math.pi - pi = 3,1415926...\n",
    "math.e - e = 2,718281..."
   ],
   "metadata": {
    "collapsed": false
   }
  },
  {
   "cell_type": "code",
   "execution_count": null,
   "outputs": [],
   "source": [
    "# Евклидово расстояние\n",
    "from math import sqrt, pow\n",
    "\n",
    "x1 = float(input())\n",
    "y1 = float(input())\n",
    "x2 = float(input())\n",
    "y2 = float(input())\n",
    "\n",
    "p = sqrt(pow(x1 - x2, 2) + pow(y1 - y2, 2))\n",
    "print(p)\n",
    "\n"
   ],
   "metadata": {
    "collapsed": false
   }
  },
  {
   "cell_type": "code",
   "execution_count": null,
   "outputs": [],
   "source": [
    "# Площадь и длина\n",
    "from math import pi, pow\n",
    "\n",
    "R = float(input())\n",
    "\n",
    "S = pi * pow(R, 2)\n",
    "C = 2 * pi * R\n",
    "print(S)\n",
    "print(C)"
   ],
   "metadata": {
    "collapsed": false
   }
  },
  {
   "cell_type": "code",
   "execution_count": 13,
   "outputs": [
    {
     "name": "stdout",
     "output_type": "stream",
     "text": [
      "1.5\n",
      "1.4142135623730951\n",
      "1.3333333333333333\n",
      "1.5811388300841898\n"
     ]
    }
   ],
   "source": [
    "# Средние значения\n",
    "a = float(input())\n",
    "b = float(input())\n",
    "\n",
    "print((a + b) / 2)\n",
    "print((a * b) ** 0.5)\n",
    "print(2 * a * b / (a + b))\n",
    "print(((a ** 2 + b ** 2) / 2) ** 0.5)"
   ],
   "metadata": {
    "collapsed": false
   }
  },
  {
   "cell_type": "code",
   "execution_count": null,
   "outputs": [],
   "source": [
    "# Тригонометрическое выражение\n",
    "from math import pi, sin, cos, tan\n",
    "\n",
    "x = float(input())\n",
    "x = x * pi / 180\n",
    "print(sin(x) + cos(x) + tan(x) ** 2)"
   ],
   "metadata": {
    "collapsed": false
   }
  },
  {
   "cell_type": "code",
   "execution_count": null,
   "outputs": [],
   "source": [
    "# Пол и потолок\n",
    "from math import ceil, floor\n",
    "\n",
    "x = float(input())\n",
    "\n",
    "print(floor(x) + ceil(x))"
   ],
   "metadata": {
    "collapsed": false
   }
  },
  {
   "cell_type": "code",
   "execution_count": 14,
   "outputs": [],
   "source": [
    "# Квадратное уравнение\n",
    "from math import sqrt\n",
    "\n",
    "a = float(input())\n",
    "b = float(input())\n",
    "c = float(input())\n",
    "\n",
    "D = b ** 2 - 4 * a * c\n",
    "\n",
    "if D > 0:\n",
    "    x1 = (-b - sqrt(D)) / (2 * a)\n",
    "    x2 = (-b + sqrt(D)) / (2 * a)\n",
    "    print(min(x1, x2))\n",
    "    print(max(x1, x2))\n",
    "elif D == 0:\n",
    "    x = -b / (2 * a)\n",
    "    print(x)\n",
    "else:\n",
    "    print('Нет корней')"
   ],
   "metadata": {
    "collapsed": false
   }
  },
  {
   "cell_type": "code",
   "execution_count": null,
   "outputs": [],
   "source": [
    "# Правильный многоугольник\n",
    "from math import pi, tan\n",
    "n = int(input())\n",
    "a = float(input())\n",
    "\n",
    "S = (n * a**2) / (4 * tan(pi / n))\n",
    "print(S)\n"
   ],
   "metadata": {
    "collapsed": false
   }
  }
 ],
 "metadata": {
  "kernelspec": {
   "display_name": "Python 3",
   "language": "python",
   "name": "python3"
  },
  "language_info": {
   "codemirror_mode": {
    "name": "ipython",
    "version": 2
   },
   "file_extension": ".py",
   "mimetype": "text/x-python",
   "name": "python",
   "nbconvert_exporter": "python",
   "pygments_lexer": "ipython2",
   "version": "2.7.6"
  }
 },
 "nbformat": 4,
 "nbformat_minor": 0
}
