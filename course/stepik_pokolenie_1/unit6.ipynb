{
 "cells": [
  {
   "cell_type": "code",
   "execution_count": null,
   "metadata": {
    "collapsed": true
   },
   "outputs": [],
   "source": [
    "a = 13\n",
    "b = 7\n",
    "\n",
    "total = a + b\n",
    "diff = a - b\n",
    "prod = a * b\n",
    "div1 = a / b\n",
    "div2 = a // b\n",
    "mod = a % b\n",
    "exp = a ** b\n",
    "\n",
    "print(a, '+', b, '=', total)\n",
    "print(a, '-', b, '=', diff)\n",
    "print(a, '*', b, '=', prod)\n",
    "print(a, '/', b, '=', div1)\n",
    "print(a, '//', b, '=', div2)\n",
    "print(a, '%', b, '=', mod)\n",
    "print(a, '**', b, '=', exp)"
   ]
  },
  {
   "cell_type": "code",
   "execution_count": 1,
   "outputs": [
    {
     "name": "stdout",
     "output_type": "stream",
     "text": [
      "25000000\n",
      "25000000\n"
     ]
    }
   ],
   "source": [
    "num1 = 25_000_000\n",
    "num2 = 25000000\n",
    "print(num1)\n",
    "print(num2)"
   ],
   "metadata": {
    "collapsed": false
   }
  },
  {
   "cell_type": "code",
   "execution_count": 5,
   "outputs": [
    {
     "name": "stdout",
     "output_type": "stream",
     "text": [
      "344988.0\n"
     ]
    }
   ],
   "source": [
    "a = float(input())\n",
    "b = float(input())\n",
    "\n",
    "s = 0.5 * a * b\n",
    "print(s)\n"
   ],
   "metadata": {
    "collapsed": false
   }
  },
  {
   "cell_type": "code",
   "execution_count": null,
   "outputs": [],
   "source": [
    "s = float(input())\n",
    "v1 = float(input())\n",
    "v2 = float(input())\n",
    "\n",
    "t = s / (v1 + v2)\n",
    "print(t)"
   ],
   "metadata": {
    "collapsed": false
   }
  },
  {
   "cell_type": "code",
   "execution_count": null,
   "outputs": [],
   "source": [
    "num = float(input())\n",
    "\n",
    "if num == 0:\n",
    "    print('Обратного числа не существует')\n",
    "else:\n",
    "    print(1 / num)"
   ],
   "metadata": {
    "collapsed": false
   }
  },
  {
   "cell_type": "code",
   "execution_count": null,
   "outputs": [],
   "source": [
    "temp_F = float(input())\n",
    "temp_C = (temp_F - 32) * 5 / 9\n",
    "print(temp_C)"
   ],
   "metadata": {
    "collapsed": false
   }
  },
  {
   "cell_type": "code",
   "execution_count": null,
   "outputs": [],
   "source": [
    "n = int(input())\n",
    "\n",
    "if 0 < n <= 2:\n",
    "    dog_age = n * 10.5\n",
    "else:\n",
    "    dog_age = 2 * 10.5 + (n - 2) * 4\n",
    "print(dog_age)"
   ],
   "metadata": {
    "collapsed": false
   }
  },
  {
   "cell_type": "code",
   "execution_count": 2,
   "outputs": [
    {
     "name": "stdout",
     "output_type": "stream",
     "text": [
      "4\n"
     ]
    }
   ],
   "source": [
    "num = float(input())\n",
    "\n",
    "print(int(num * 10) % 10)"
   ],
   "metadata": {
    "collapsed": false
   }
  },
  {
   "cell_type": "code",
   "execution_count": 3,
   "outputs": [
    {
     "name": "stdout",
     "output_type": "stream",
     "text": [
      "0.45000000000000284\n"
     ]
    }
   ],
   "source": [
    "num = float(input())\n",
    "\n",
    "print(num - int(num))"
   ],
   "metadata": {
    "collapsed": false
   }
  },
  {
   "cell_type": "code",
   "execution_count": null,
   "outputs": [],
   "source": [
    "num1 = int(input())\n",
    "num2 = int(input())\n",
    "num3 = int(input())\n",
    "num4 = int(input())\n",
    "num5 = int(input())\n",
    "\n",
    "print('Наименьшее число =', min(num1, num2, num3, num4, num5))\n",
    "print('Наибольшее число =', max(num1, num2, num3, num4, num5))"
   ],
   "metadata": {
    "collapsed": false
   }
  },
  {
   "cell_type": "code",
   "execution_count": null,
   "outputs": [],
   "source": [
    "num1 = int(input())\n",
    "num2 = int(input())\n",
    "num3 = int(input())\n",
    "\n",
    "first = max(num1, num2, num3)\n",
    "third = min(num1, num2, num3)\n",
    "second = num1 + num2 + num3 - first - third\n",
    "print(first)\n",
    "print(second)\n",
    "print(third)\n"
   ],
   "metadata": {
    "collapsed": false
   }
  },
  {
   "cell_type": "code",
   "execution_count": 7,
   "outputs": [
    {
     "name": "stdout",
     "output_type": "stream",
     "text": [
      "Число интересное\n"
     ]
    }
   ],
   "source": [
    "num = int(input())\n",
    "\n",
    "first = num // 100\n",
    "second = num % 100 // 10\n",
    "third = num % 10\n",
    "max_num = max(first, second, third)\n",
    "min_num = min(first, second, third)\n",
    "\n",
    "if max_num - min_num == (first + second+third) - max_num - min_num:\n",
    "    print('Число интересное')\n",
    "else:\n",
    "    print('Число неинтересное')"
   ],
   "metadata": {
    "collapsed": false
   }
  },
  {
   "cell_type": "code",
   "execution_count": null,
   "outputs": [],
   "source": [
    "a1 = float(input())\n",
    "a2 = float(input())\n",
    "a3 = float(input())\n",
    "a4 = float(input())\n",
    "a5 = float(input())\n",
    "\n",
    "print(abs(a1) + abs(a2) + abs(a3) + abs(a4) + abs(a5))"
   ],
   "metadata": {
    "collapsed": false
   }
  },
  {
   "cell_type": "code",
   "execution_count": null,
   "outputs": [],
   "source": [
    "# Манхэттенское расстояние\n",
    "p1 = int(input())\n",
    "p2 = int(input())\n",
    "q1 = int(input())\n",
    "q2 = int(input())\n",
    "\n",
    "print(abs(p1 - q1) + abs(p2 - q2))"
   ],
   "metadata": {
    "collapsed": false
   }
  },
  {
   "cell_type": "code",
   "execution_count": null,
   "outputs": [],
   "source": [
    "# "
   ],
   "metadata": {
    "collapsed": false
   }
  }
 ],
 "metadata": {
  "kernelspec": {
   "display_name": "Python 3",
   "language": "python",
   "name": "python3"
  },
  "language_info": {
   "codemirror_mode": {
    "name": "ipython",
    "version": 2
   },
   "file_extension": ".py",
   "mimetype": "text/x-python",
   "name": "python",
   "nbconvert_exporter": "python",
   "pygments_lexer": "ipython2",
   "version": "2.7.6"
  }
 },
 "nbformat": 4,
 "nbformat_minor": 0
}
