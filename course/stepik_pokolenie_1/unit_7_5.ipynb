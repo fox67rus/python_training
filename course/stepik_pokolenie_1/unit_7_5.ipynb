{
 "cells": [
  {
   "cell_type": "markdown",
   "source": [
    "# 7.5 Цикл while: обработка цифр числа"
   ],
   "metadata": {
    "collapsed": false
   }
  },
  {
   "cell_type": "code",
   "execution_count": 1,
   "outputs": [
    {
     "name": "stdout",
     "output_type": "stream",
     "text": [
      "YES\n"
     ]
    }
   ],
   "source": [
    "num = int(input())\n",
    "has_seven = False  # сигнальная метка\n",
    "\n",
    "while num != 0:\n",
    "    last_digit = num % 10\n",
    "    if last_digit == 7:\n",
    "        has_seven = True\n",
    "    num = num // 10\n",
    "\n",
    "if has_seven:\n",
    "    print('YES')\n",
    "else:\n",
    "    print('NO')"
   ],
   "metadata": {
    "collapsed": false
   }
  },
  {
   "cell_type": "code",
   "execution_count": null,
   "outputs": [],
   "source": [
    "num = 123456789\n",
    "total = 0\n",
    "while num != 0:\n",
    "    last_digit = num % 10\n",
    "    if last_digit > 4:\n",
    "        total += 1\n",
    "    num = num // 10\n",
    "print(total)"
   ],
   "metadata": {
    "collapsed": false
   }
  },
  {
   "cell_type": "code",
   "execution_count": null,
   "outputs": [],
   "source": [
    "# Обратный порядок 1\n",
    "num = int(input())\n",
    "\n",
    "while num != 0:\n",
    "    print(num % 10)\n",
    "    num //= 10\n"
   ],
   "metadata": {
    "collapsed": false
   }
  },
  {
   "cell_type": "code",
   "execution_count": null,
   "outputs": [],
   "source": [
    "# Обратный порядок 2\n",
    "num = int(input())\n",
    "\n",
    "while num != 0:\n",
    "    print(num % 10, end='')\n",
    "    num //= 10"
   ],
   "metadata": {
    "collapsed": false
   }
  },
  {
   "cell_type": "code",
   "execution_count": 2,
   "outputs": [
    {
     "ename": "KeyboardInterrupt",
     "evalue": "",
     "output_type": "error",
     "traceback": [
      "\u001B[1;31m---------------------------------------------------------------------------\u001B[0m",
      "\u001B[1;31mKeyboardInterrupt\u001B[0m                         Traceback (most recent call last)",
      "Cell \u001B[1;32mIn[2], line 12\u001B[0m\n\u001B[0;32m     10\u001B[0m     \u001B[38;5;28;01melif\u001B[39;00m last_digit \u001B[38;5;241m<\u001B[39m min_digit:\n\u001B[0;32m     11\u001B[0m         min_digit \u001B[38;5;241m=\u001B[39m last_digit\n\u001B[1;32m---> 12\u001B[0m     num \u001B[38;5;241m=\u001B[39m \u001B[43mnum\u001B[49m \u001B[38;5;241m/\u001B[39m\u001B[38;5;241m/\u001B[39m \u001B[38;5;241m10\u001B[39m\n\u001B[0;32m     13\u001B[0m \u001B[38;5;28mprint\u001B[39m(\u001B[38;5;124m'\u001B[39m\u001B[38;5;124mМаксимальная цифра равна\u001B[39m\u001B[38;5;124m'\u001B[39m, max_digit)\n\u001B[0;32m     14\u001B[0m \u001B[38;5;28mprint\u001B[39m(\u001B[38;5;124m'\u001B[39m\u001B[38;5;124mМинимальная цифра равна\u001B[39m\u001B[38;5;124m'\u001B[39m, min_digit)\n",
      "Cell \u001B[1;32mIn[2], line 12\u001B[0m\n\u001B[0;32m     10\u001B[0m     \u001B[38;5;28;01melif\u001B[39;00m last_digit \u001B[38;5;241m<\u001B[39m min_digit:\n\u001B[0;32m     11\u001B[0m         min_digit \u001B[38;5;241m=\u001B[39m last_digit\n\u001B[1;32m---> 12\u001B[0m     num \u001B[38;5;241m=\u001B[39m \u001B[43mnum\u001B[49m \u001B[38;5;241m/\u001B[39m\u001B[38;5;241m/\u001B[39m \u001B[38;5;241m10\u001B[39m\n\u001B[0;32m     13\u001B[0m \u001B[38;5;28mprint\u001B[39m(\u001B[38;5;124m'\u001B[39m\u001B[38;5;124mМаксимальная цифра равна\u001B[39m\u001B[38;5;124m'\u001B[39m, max_digit)\n\u001B[0;32m     14\u001B[0m \u001B[38;5;28mprint\u001B[39m(\u001B[38;5;124m'\u001B[39m\u001B[38;5;124mМинимальная цифра равна\u001B[39m\u001B[38;5;124m'\u001B[39m, min_digit)\n",
      "File \u001B[1;32m_pydevd_bundle\\pydevd_cython_win32_310_64.pyx:1179\u001B[0m, in \u001B[0;36m_pydevd_bundle.pydevd_cython_win32_310_64.SafeCallWrapper.__call__\u001B[1;34m()\u001B[0m\n",
      "File \u001B[1;32m_pydevd_bundle\\pydevd_cython_win32_310_64.pyx:620\u001B[0m, in \u001B[0;36m_pydevd_bundle.pydevd_cython_win32_310_64.PyDBFrame.trace_dispatch\u001B[1;34m()\u001B[0m\n",
      "File \u001B[1;32m_pydevd_bundle\\pydevd_cython_win32_310_64.pyx:1095\u001B[0m, in \u001B[0;36m_pydevd_bundle.pydevd_cython_win32_310_64.PyDBFrame.trace_dispatch\u001B[1;34m()\u001B[0m\n",
      "File \u001B[1;32m_pydevd_bundle\\pydevd_cython_win32_310_64.pyx:1053\u001B[0m, in \u001B[0;36m_pydevd_bundle.pydevd_cython_win32_310_64.PyDBFrame.trace_dispatch\u001B[1;34m()\u001B[0m\n",
      "File \u001B[1;32mC:\\Program Files\\JetBrains\\PyCharm 2022.3.1\\plugins\\python\\helpers-pro\\jupyter_debug\\pydev_jupyter_plugin.py:169\u001B[0m, in \u001B[0;36mstop\u001B[1;34m(plugin, pydb, frame, event, args, stop_info, arg, step_cmd)\u001B[0m\n\u001B[0;32m    167\u001B[0m     frame \u001B[38;5;241m=\u001B[39m suspend_jupyter(main_debugger, thread, frame, step_cmd)\n\u001B[0;32m    168\u001B[0m     \u001B[38;5;28;01mif\u001B[39;00m frame:\n\u001B[1;32m--> 169\u001B[0m         \u001B[43mmain_debugger\u001B[49m\u001B[38;5;241;43m.\u001B[39;49m\u001B[43mdo_wait_suspend\u001B[49m\u001B[43m(\u001B[49m\u001B[43mthread\u001B[49m\u001B[43m,\u001B[49m\u001B[43m \u001B[49m\u001B[43mframe\u001B[49m\u001B[43m,\u001B[49m\u001B[43m \u001B[49m\u001B[43mevent\u001B[49m\u001B[43m,\u001B[49m\u001B[43m \u001B[49m\u001B[43marg\u001B[49m\u001B[43m)\u001B[49m\n\u001B[0;32m    170\u001B[0m         \u001B[38;5;28;01mreturn\u001B[39;00m \u001B[38;5;28;01mTrue\u001B[39;00m\n\u001B[0;32m    171\u001B[0m \u001B[38;5;28;01mreturn\u001B[39;00m \u001B[38;5;28;01mFalse\u001B[39;00m\n",
      "File \u001B[1;32mC:\\Program Files\\JetBrains\\PyCharm 2022.3.1\\plugins\\python\\helpers\\pydev\\pydevd.py:1160\u001B[0m, in \u001B[0;36mPyDB.do_wait_suspend\u001B[1;34m(self, thread, frame, event, arg, send_suspend_message, is_unhandled_exception)\u001B[0m\n\u001B[0;32m   1157\u001B[0m         from_this_thread\u001B[38;5;241m.\u001B[39mappend(frame_id)\n\u001B[0;32m   1159\u001B[0m \u001B[38;5;28;01mwith\u001B[39;00m \u001B[38;5;28mself\u001B[39m\u001B[38;5;241m.\u001B[39m_threads_suspended_single_notification\u001B[38;5;241m.\u001B[39mnotify_thread_suspended(thread_id, stop_reason):\n\u001B[1;32m-> 1160\u001B[0m     \u001B[38;5;28;43mself\u001B[39;49m\u001B[38;5;241;43m.\u001B[39;49m\u001B[43m_do_wait_suspend\u001B[49m\u001B[43m(\u001B[49m\u001B[43mthread\u001B[49m\u001B[43m,\u001B[49m\u001B[43m \u001B[49m\u001B[43mframe\u001B[49m\u001B[43m,\u001B[49m\u001B[43m \u001B[49m\u001B[43mevent\u001B[49m\u001B[43m,\u001B[49m\u001B[43m \u001B[49m\u001B[43marg\u001B[49m\u001B[43m,\u001B[49m\u001B[43m \u001B[49m\u001B[43msuspend_type\u001B[49m\u001B[43m,\u001B[49m\u001B[43m \u001B[49m\u001B[43mfrom_this_thread\u001B[49m\u001B[43m)\u001B[49m\n",
      "File \u001B[1;32mC:\\Program Files\\JetBrains\\PyCharm 2022.3.1\\plugins\\python\\helpers\\pydev\\pydevd.py:1175\u001B[0m, in \u001B[0;36mPyDB._do_wait_suspend\u001B[1;34m(self, thread, frame, event, arg, suspend_type, from_this_thread)\u001B[0m\n\u001B[0;32m   1172\u001B[0m             \u001B[38;5;28mself\u001B[39m\u001B[38;5;241m.\u001B[39m_call_mpl_hook()\n\u001B[0;32m   1174\u001B[0m         \u001B[38;5;28mself\u001B[39m\u001B[38;5;241m.\u001B[39mprocess_internal_commands()\n\u001B[1;32m-> 1175\u001B[0m         \u001B[43mtime\u001B[49m\u001B[38;5;241;43m.\u001B[39;49m\u001B[43msleep\u001B[49m\u001B[43m(\u001B[49m\u001B[38;5;241;43m0.01\u001B[39;49m\u001B[43m)\u001B[49m\n\u001B[0;32m   1177\u001B[0m \u001B[38;5;28mself\u001B[39m\u001B[38;5;241m.\u001B[39mcancel_async_evaluation(get_current_thread_id(thread), \u001B[38;5;28mstr\u001B[39m(\u001B[38;5;28mid\u001B[39m(frame)))\n\u001B[0;32m   1179\u001B[0m \u001B[38;5;66;03m# process any stepping instructions\u001B[39;00m\n",
      "\u001B[1;31mKeyboardInterrupt\u001B[0m: "
     ]
    }
   ],
   "source": [
    "# max и min\n",
    "num = int(input())\n",
    "max_digit = 0\n",
    "min_digit = 9\n",
    "\n",
    "while num != 0:\n",
    "    last_digit = num % 10\n",
    "\n",
    "    if last_digit > max_digit:\n",
    "        max_digit = last_digit\n",
    "\n",
    "    if last_digit < min_digit:\n",
    "        min_digit = last_digit\n",
    "    num = num // 10\n",
    "print('Максимальная цифра равна', max_digit)\n",
    "print('Минимальная цифра равна', min_digit)\n",
    "\n",
    "# 2\n",
    "n, x, m = int(input()), -1, 10\n",
    "while n:\n",
    "    x = max(x, n % 10)\n",
    "    m = min(m, n % 10)\n",
    "    n //= 10\n",
    "print('Максимальная цифра равна', x)\n",
    "print('Минимальная цифра равна', m)\n",
    "\n",
    "# 3\n",
    "num = input()\n",
    "print('Максимальная цифра равна', max(num))\n",
    "print('Минимальная цифра равна', min(num))\n"
   ],
   "metadata": {
    "collapsed": false
   }
  },
  {
   "cell_type": "code",
   "execution_count": 3,
   "outputs": [
    {
     "name": "stdout",
     "output_type": "stream",
     "text": [
      "26\n",
      "4\n",
      "1680\n",
      "6.5\n",
      "5\n",
      "13\n"
     ]
    }
   ],
   "source": [
    "# Все вместе\n",
    "num = int(input())\n",
    "total_sum, count_dig, total_mul, first_last_sum = 0, 0, 1, 0\n",
    "last_digit = num % 10\n",
    "\n",
    "while num != 0:\n",
    "    cur_last_digit = num % 10\n",
    "    total_sum += cur_last_digit\n",
    "    count_dig += 1\n",
    "    total_mul *= cur_last_digit\n",
    "    first_digit = cur_last_digit\n",
    "    num //= 10\n",
    "\n",
    "arith_mean = total_sum / count_dig\n",
    "first_last_sum = first_digit + last_digit\n",
    "\n",
    "print(total_sum, count_dig, total_mul, arith_mean, first_digit, first_last_sum, sep='\\n')"
   ],
   "metadata": {
    "collapsed": false
   }
  },
  {
   "cell_type": "code",
   "execution_count": 7,
   "outputs": [
    {
     "name": "stdout",
     "output_type": "stream",
     "text": [
      "2\n"
     ]
    }
   ],
   "source": [
    "# Вторая цифра\n",
    "n, count = int(input()), 0\n",
    "num = n\n",
    "\n",
    "while n != 0:\n",
    "    count += 1\n",
    "    n //= 10\n",
    "\n",
    "print((num % 10 ** (count - 1)) // 10 ** (count - 2))\n",
    "\n",
    "# 2\n",
    "n = int(input())\n",
    "while n > 99:\n",
    "    n //= 10\n",
    "print(n % 10)"
   ],
   "metadata": {
    "collapsed": false
   }
  },
  {
   "cell_type": "code",
   "execution_count": 2,
   "outputs": [
    {
     "name": "stdout",
     "output_type": "stream",
     "text": [
      "YES\n"
     ]
    }
   ],
   "source": [
    "# Одинаковые цифры\n",
    "n = int(input())\n",
    "digit = n % 10\n",
    "flag = True\n",
    "while n:\n",
    "    last_digit = n % 10\n",
    "    if last_digit != digit:\n",
    "        flag = False\n",
    "    n //= 10\n",
    "\n",
    "if flag:\n",
    "    print('YES')\n",
    "else:\n",
    "    print('NO')\n",
    "\n",
    "# 2\n",
    "n = int(input())\n",
    "result = 'YES'\n",
    "digit = n % 10\n",
    "\n",
    "while n:\n",
    "    last_digit = n % 10\n",
    "    if last_digit != digit and result == 'YES':\n",
    "        result = 'NO'\n",
    "        n = 0\n",
    "    n //= 10\n",
    "print(result)\n",
    "\n",
    "# 3\n",
    "s = input()\n",
    "n = int(s)\n",
    "\n",
    "ones = int(len(s) * '1')\n",
    "if n % ones == 0:\n",
    "    print('YES')\n",
    "else:\n",
    "    print('NO')"
   ],
   "metadata": {
    "collapsed": false
   }
  },
  {
   "cell_type": "code",
   "execution_count": 8,
   "outputs": [
    {
     "name": "stdout",
     "output_type": "stream",
     "text": [
      "1 2\n",
      "2 3\n",
      "3 5\n",
      "YES\n"
     ]
    }
   ],
   "source": [
    "# Упорядоченные цифры 🌶️\n",
    "n = int(input())\n",
    "result = 'YES'\n",
    "while n > 9:\n",
    "    last_digit = n % 10\n",
    "    prev_digit = n % 10 ** 2 // 10\n",
    "    if last_digit > prev_digit:\n",
    "        result = 'NO'\n",
    "        n = 0\n",
    "    n //= 10\n",
    "print(result)\n"
   ],
   "metadata": {
    "collapsed": false
   }
  }
 ],
 "metadata": {
  "kernelspec": {
   "display_name": "Python 3",
   "language": "python",
   "name": "python3"
  },
  "language_info": {
   "codemirror_mode": {
    "name": "ipython",
    "version": 2
   },
   "file_extension": ".py",
   "mimetype": "text/x-python",
   "name": "python",
   "nbconvert_exporter": "python",
   "pygments_lexer": "ipython2",
   "version": "2.7.6"
  }
 },
 "nbformat": 4,
 "nbformat_minor": 0
}
