{
 "cells": [
  {
   "cell_type": "code",
   "execution_count": 4,
   "metadata": {
    "collapsed": true
   },
   "outputs": [
    {
     "name": "stdout",
     "output_type": "stream",
     "text": [
      "2\n"
     ]
    }
   ],
   "source": [
    "n = int(input())\n",
    "i = 2\n",
    "while n % i != 0:\n",
    "    i += 1\n",
    "print(i)"
   ]
  },
  {
   "cell_type": "code",
   "execution_count": 14,
   "outputs": [
    {
     "name": "stdout",
     "output_type": "stream",
     "text": [
      "2\n"
     ]
    }
   ],
   "source": [
    "# Ревью кода - 7\n",
    "n = int(input())  # 1\n",
    "s = 0\n",
    "while n != 0: # 2\n",
    "    if n % 2 == 0:  # 3\n",
    "        s += n % 10  # 4\n",
    "    n //= 10\n",
    "print(s)"
   ],
   "metadata": {
    "collapsed": false
   }
  },
  {
   "cell_type": "code",
   "execution_count": 17,
   "outputs": [
    {
     "name": "stdout",
     "output_type": "stream",
     "text": [
      "4\n",
      "16\n"
     ]
    }
   ],
   "source": [
    "# Ревью кода - 8 🌶️\n",
    "n = 8  # 1\n",
    "count = 0\n",
    "maximum = -250000000000  # 2\n",
    "for i in range(1, n + 1):\n",
    "    x = int(input())\n",
    "    if x % 4 == 0:  # 3\n",
    "        count += 1\n",
    "        if x > maximum:  # 4\n",
    "            maximum = x\n",
    "if count > 0:\n",
    "    print(count)\n",
    "    print(maximum)\n",
    "else:\n",
    "    print('NO')"
   ],
   "metadata": {
    "collapsed": false
   }
  },
  {
   "cell_type": "code",
   "execution_count": 20,
   "outputs": [
    {
     "name": "stdout",
     "output_type": "stream",
     "text": [
      "4\n",
      "9\n"
     ]
    }
   ],
   "source": [
    "# Ревью кода - 9\n",
    "n = 4\n",
    "count = 0\n",
    "maximum = -100000000  # 1\n",
    "for i in range(1, n + 1):\n",
    "    x = int(input())\n",
    "    if x % 2 == 1:  # 2\n",
    "        count += 1\n",
    "        if x > maximum:\n",
    "            maximum = x  # 3\n",
    "            # break # 4\n",
    "if count > 0:\n",
    "    print(count)\n",
    "    print(maximum)\n",
    "else:\n",
    "    print('NO')"
   ],
   "metadata": {
    "collapsed": false
   }
  },
  {
   "cell_type": "code",
   "execution_count": 23,
   "outputs": [
    {
     "name": "stdout",
     "output_type": "stream",
     "text": [
      "*******************\n",
      "*                 *\n",
      "*                 *\n",
      "*                 *\n",
      "*******************\n"
     ]
    }
   ],
   "source": [
    "# Звездная рамка\n",
    "n = int(input())\n",
    "for i in range(n):\n",
    "    if i == 0 or i == n - 1:\n",
    "        print('*' * 19)\n",
    "    else:\n",
    "        print('*', '*', sep=' ' * 17)"
   ],
   "metadata": {
    "collapsed": false
   }
  },
  {
   "cell_type": "code",
   "execution_count": 30,
   "outputs": [
    {
     "name": "stdout",
     "output_type": "stream",
     "text": [
      "4\n"
     ]
    }
   ],
   "source": [
    "# Третья цифра\n",
    "n = int(input())\n",
    "\n",
    "while n > 999:\n",
    "    n //= 10\n",
    "digit = n % 10\n",
    "\n",
    "print(digit)"
   ],
   "metadata": {
    "collapsed": false
   }
  },
  {
   "cell_type": "code",
   "execution_count": 33,
   "outputs": [
    {
     "name": "stdout",
     "output_type": "stream",
     "text": [
      "1\n",
      "1\n",
      "2\n",
      "21\n",
      "9\n",
      "1\n"
     ]
    }
   ],
   "source": [
    "# Все вместе 2\n",
    "n = 56639\n",
    "# n = int(input())\n",
    "count_3 = 0\n",
    "count_last = 0\n",
    "count_even = 0\n",
    "total_more_5 = 0\n",
    "mul_more_7 = 1\n",
    "count_0_and_5 = 0\n",
    "\n",
    "last_digit = n % 10\n",
    "\n",
    "while n != 0:\n",
    "    current_last_digit = n % 10\n",
    "\n",
    "    if current_last_digit == 3:\n",
    "        count_3 += 1\n",
    "\n",
    "    if current_last_digit == last_digit:\n",
    "        count_last += 1\n",
    "\n",
    "    if current_last_digit % 2 == 0:\n",
    "        count_even += 1\n",
    "\n",
    "    if current_last_digit > 5:\n",
    "        total_more_5 += current_last_digit\n",
    "\n",
    "    if current_last_digit > 7:\n",
    "        mul_more_7 *= current_last_digit\n",
    "\n",
    "    if current_last_digit == 0 or current_last_digit == 5:\n",
    "        count_0_and_5 += 1\n",
    "\n",
    "    n //= 10\n",
    "\n",
    "print(count_3)\n",
    "print(count_last)\n",
    "print(count_even)\n",
    "print(total_more_5)\n",
    "print(mul_more_7)\n",
    "print(count_0_and_5)"
   ],
   "metadata": {
    "collapsed": false
   }
  },
  {
   "cell_type": "code",
   "execution_count": 34,
   "outputs": [
    {
     "name": "stdout",
     "output_type": "stream",
     "text": [
      "2 2\n",
      "9 9\n",
      "9 9\n",
      "28 28\n",
      "28 28\n",
      "Время выполнения: 0.000997781753540039\n"
     ]
    }
   ],
   "source": [
    "# Числа Рамануджана 🌶️\n",
    "\n",
    "import time\n",
    "start_time = time.time()\n",
    "count = 0\n",
    "x = 20\n",
    "flag = False\n",
    "for a in range(1, x):\n",
    "    for b in range(1, x):\n",
    "        for c in range(1, x):\n",
    "            for d in range(1, x):\n",
    "                sum_1 = a ** 3 + b ** 3\n",
    "                sum_2 = c ** 3 + d ** 3\n",
    "                if sum_1 == sum_2:\n",
    "                    count +=1\n",
    "                    print(sum_1, sum_2)\n",
    "                if count == 5:\n",
    "                    flag = True\n",
    "                    break\n",
    "            if flag:\n",
    "                break\n",
    "        if flag:\n",
    "            break\n",
    "    if flag:\n",
    "        break\n",
    "\n",
    "print(f'Время выполнения: {time.time() - start_time}')"
   ],
   "metadata": {
    "collapsed": false
   }
  }
 ],
 "metadata": {
  "kernelspec": {
   "display_name": "Python 3",
   "language": "python",
   "name": "python3"
  },
  "language_info": {
   "codemirror_mode": {
    "name": "ipython",
    "version": 2
   },
   "file_extension": ".py",
   "mimetype": "text/x-python",
   "name": "python",
   "nbconvert_exporter": "python",
   "pygments_lexer": "ipython2",
   "version": "2.7.6"
  }
 },
 "nbformat": 4,
 "nbformat_minor": 0
}
