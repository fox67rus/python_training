{
 "cells": [
  {
   "cell_type": "markdown",
   "source": [
    "# Итоговая работа на строки"
   ],
   "metadata": {
    "collapsed": false
   }
  },
  {
   "cell_type": "code",
   "execution_count": null,
   "outputs": [],
   "source": [
    "s = '    Python rocks!     '\n",
    "print(s.strip())\n",
    "print(s.upper())"
   ],
   "metadata": {
    "collapsed": false
   }
  },
  {
   "cell_type": "code",
   "execution_count": null,
   "outputs": [],
   "source": [
    "s = 'Python rocks!'\n",
    "print(s.replace('o', '@'))"
   ],
   "metadata": {
    "collapsed": false
   }
  },
  {
   "cell_type": "code",
   "execution_count": 12,
   "outputs": [
    {
     "name": "stdout",
     "output_type": "stream",
     "text": [
      "yton\n"
     ]
    }
   ],
   "source": [
    "s = input()\n",
    "new_s = ''\n",
    "for i in range(len(s)):\n",
    "    if i % 3 != 0:\n",
    "        new_s += s[i]\n",
    "print(new_s)"
   ],
   "metadata": {
    "collapsed": false
   }
  },
  {
   "cell_type": "code",
   "execution_count": null,
   "outputs": [],
   "source": [
    "# Замени меня полностью\n",
    "print(input().replace('1', 'one'))"
   ],
   "metadata": {
    "collapsed": false
   }
  },
  {
   "cell_type": "code",
   "execution_count": null,
   "outputs": [],
   "source": [
    "# Удали меня полностью\n",
    "print(input().replace('@', ''))"
   ],
   "metadata": {
    "collapsed": false
   }
  },
  {
   "cell_type": "code",
   "execution_count": null,
   "outputs": [],
   "source": [
    "# Второе вхождение\n",
    "s = input()\n",
    "if s.count('f') == 1:\n",
    "    print(-1)\n",
    "elif s.count('f') == 0:\n",
    "    print(-2)\n",
    "else:\n",
    "    start = s.find('f') + 1\n",
    "    print(s.find('f', start))"
   ],
   "metadata": {
    "collapsed": false
   }
  },
  {
   "cell_type": "code",
   "execution_count": 32,
   "outputs": [
    {
     "name": "stdout",
     "output_type": "stream",
     "text": [
      "abch54321h\n"
     ]
    }
   ],
   "source": [
    "# Переворот\n",
    "s = input()\n",
    "\n",
    "print(s[:s.find('h') + 1] + s[s.rfind('h')-1:s.find('h'):-1] + s[s.rfind('h'):])\n"
   ],
   "metadata": {
    "collapsed": false
   }
  }
 ],
 "metadata": {
  "kernelspec": {
   "display_name": "Python 3",
   "language": "python",
   "name": "python3"
  },
  "language_info": {
   "codemirror_mode": {
    "name": "ipython",
    "version": 2
   },
   "file_extension": ".py",
   "mimetype": "text/x-python",
   "name": "python",
   "nbconvert_exporter": "python",
   "pygments_lexer": "ipython2",
   "version": "2.7.6"
  }
 },
 "nbformat": 4,
 "nbformat_minor": 0
}
