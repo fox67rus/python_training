{
 "cells": [
  {
   "cell_type": "markdown",
   "source": [
    "# 7.4 Цикл while"
   ],
   "metadata": {
    "collapsed": false
   }
  },
  {
   "cell_type": "code",
   "execution_count": null,
   "outputs": [],
   "source": [
    "# До КОНЦА 1\n",
    "text = input()\n",
    "while text != 'КОНЕЦ':\n",
    "    print(text)\n",
    "    text = input()\n"
   ],
   "metadata": {
    "collapsed": false
   }
  },
  {
   "cell_type": "code",
   "execution_count": null,
   "outputs": [],
   "source": [
    "# До КОНЦА 2\n",
    "text = input()\n",
    "while text != 'КОНЕЦ' and text != 'конец':\n",
    "    print(text)\n",
    "    text = input()"
   ],
   "metadata": {
    "collapsed": false,
    "pycharm": {
     "is_executing": true
    }
   }
  },
  {
   "cell_type": "code",
   "execution_count": null,
   "outputs": [],
   "source": [
    "# Количество членов\n",
    "text = input()\n",
    "counter = 0\n",
    "while text != 'стоп' and text != 'хватит' and text != 'достаточно':\n",
    "    counter += 1\n",
    "    text = input()\n",
    "print(counter)"
   ],
   "metadata": {
    "collapsed": false
   }
  },
  {
   "cell_type": "code",
   "execution_count": null,
   "outputs": [],
   "source": [
    "# Пока делимся\n",
    "num = int(input())\n",
    "while num % 7 == 0:\n",
    "    print(num)\n",
    "    num = int(input())"
   ],
   "metadata": {
    "collapsed": false
   }
  },
  {
   "cell_type": "code",
   "execution_count": null,
   "outputs": [],
   "source": [
    "# Сумма чисел\n",
    "num = int(input())\n",
    "total = 0\n",
    "while num >= 0:\n",
    "    total += num\n",
    "    num = int(input())\n",
    "print(total)"
   ],
   "metadata": {
    "collapsed": false
   }
  },
  {
   "cell_type": "code",
   "execution_count": null,
   "outputs": [],
   "source": [
    "# Количество пятерок\n",
    "num = int(input())\n",
    "counter = 0\n",
    "while 0 < num <= 5:\n",
    "    if num == 5:\n",
    "        counter += 1\n",
    "    num = int(input())\n",
    "print(counter)"
   ],
   "metadata": {
    "collapsed": false
   }
  },
  {
   "cell_type": "code",
   "execution_count": 6,
   "outputs": [
    {
     "name": "stdout",
     "output_type": "stream",
     "text": [
      "7\n"
     ]
    }
   ],
   "source": [
    "# Ведьмаку заплатите чеканной монетой\n",
    "price = int(input())\n",
    "counter = 0\n",
    "\n",
    "counter += price // 25\n",
    "price %= 25\n",
    "counter += price // 10\n",
    "price %= 10\n",
    "counter += price // 5\n",
    "price %= 5\n",
    "counter += price // 1\n",
    "price %= 1\n",
    "\n",
    "print(counter)\n"
   ],
   "metadata": {
    "collapsed": false
   }
  },
  {
   "cell_type": "code",
   "execution_count": null,
   "outputs": [],
   "source": [],
   "metadata": {
    "collapsed": false
   }
  }
 ],
 "metadata": {
  "kernelspec": {
   "display_name": "Python 3",
   "language": "python",
   "name": "python3"
  },
  "language_info": {
   "codemirror_mode": {
    "name": "ipython",
    "version": 2
   },
   "file_extension": ".py",
   "mimetype": "text/x-python",
   "name": "python",
   "nbconvert_exporter": "python",
   "pygments_lexer": "ipython2",
   "version": "2.7.6"
  }
 },
 "nbformat": 4,
 "nbformat_minor": 0
}
