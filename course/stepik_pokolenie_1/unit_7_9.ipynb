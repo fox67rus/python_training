{
 "cells": [
  {
   "cell_type": "code",
   "execution_count": null,
   "outputs": [],
   "source": [
    "# Численный треугольник 3\n",
    "n = int(input())\n",
    "total = 0\n",
    "for i in range(1, n + 1):\n",
    "    for _ in range(i):\n",
    "        total += 1\n",
    "        print(total, end=' ')\n",
    "    print()\n"
   ],
   "metadata": {
    "collapsed": false
   }
  },
  {
   "cell_type": "code",
   "execution_count": null,
   "outputs": [],
   "source": [
    "# ковёр из цифр\n",
    "for row in range(1, 30):\n",
    "    for i in range(30 - row):\n",
    "        print(' ', end=' ')\n",
    "    for i in range(1, row):\n",
    "        if i < 10:\n",
    "            print(i, end=' ')\n",
    "        else:\n",
    "            print(i, end='')\n",
    "    for i in range(row, 0, -1):\n",
    "        if i < 10:\n",
    "            print(i, end=' ')\n",
    "        else:\n",
    "            print(i, end='')\n",
    "    print()\n",
    "for j in range(30):\n",
    "    for i in range(j + 2):\n",
    "        print(' ', end=' ')\n",
    "    for i in range(1, 29 - j):\n",
    "        if i < 10:\n",
    "            print(i, end=' ')\n",
    "        else:\n",
    "            print(i, end='')\n",
    "    for i in range(27 - j, 0, -1):\n",
    "        if i < 10:\n",
    "            print(i, end=' ')\n",
    "        else:\n",
    "            print(i, end='')\n",
    "    print()"
   ],
   "metadata": {
    "collapsed": false
   }
  },
  {
   "cell_type": "code",
   "execution_count": 29,
   "outputs": [
    {
     "name": "stdout",
     "output_type": "stream",
     "text": [
      "1\n",
      "121\n",
      "12321\n",
      "1234321\n",
      "123454321\n"
     ]
    }
   ],
   "source": [
    "# Численный треугольник 4\n",
    "# n = int(input())\n",
    "n = 5\n",
    "for i in range(1, n + 1):\n",
    "    for j in range(i):\n",
    "        print(j+1, end='')\n",
    "        if j == i - 1:\n",
    "            for k in range(j+1, 1, -1):\n",
    "                print(k-1, end='')\n",
    "    print()"
   ],
   "metadata": {
    "collapsed": false
   }
  },
  {
   "cell_type": "code",
   "execution_count": 63,
   "outputs": [
    {
     "name": "stdout",
     "output_type": "stream",
     "text": [
      "70 144\n"
     ]
    }
   ],
   "source": [
    "# Делители-1\n",
    "a = int(input())\n",
    "b = int(input())\n",
    "\n",
    "max_sum_number = 0\n",
    "total = 0\n",
    "\n",
    "for i in range(a, b + 1):\n",
    "    temp_total = 0\n",
    "    for j in range(1, i+1):\n",
    "        if i % j == 0:\n",
    "            temp_total += j\n",
    "    if temp_total >= total:\n",
    "        max_sum_number = i\n",
    "        total = temp_total\n",
    "\n",
    "print(max_sum_number, total, sep=' ')"
   ],
   "metadata": {
    "collapsed": false
   }
  },
  {
   "cell_type": "code",
   "execution_count": 51,
   "outputs": [
    {
     "name": "stdout",
     "output_type": "stream",
     "text": [
      "1+\n",
      "2++\n",
      "3++\n",
      "4+++\n",
      "5++\n"
     ]
    }
   ],
   "source": [
    "# Делители-2\n",
    "n = int(input())\n",
    "for i in range(1, n + 1):\n",
    "    print(i, end='')\n",
    "    for j in range(1, i+1):\n",
    "        if i % j == 0:\n",
    "            print('+', end='')\n",
    "    print()\n",
    "\n",
    "#\n",
    "n = int(input())\n",
    "for i in range(1, n + 1):\n",
    "    count_divisors = 0\n",
    "    for j in range(1, i+1):\n",
    "        if i % j == 0:\n",
    "            count_divisors += 1\n",
    "    print(i, count_divisors * '+', sep='')"
   ],
   "metadata": {
    "collapsed": false
   }
  },
  {
   "cell_type": "code",
   "execution_count": 3,
   "outputs": [
    {
     "name": "stdout",
     "output_type": "stream",
     "text": [
      "8\n",
      "8\n"
     ]
    }
   ],
   "source": [
    "# Цифровой корень\n",
    "# 734573659783465783465978346593487\n",
    "n = int(input())\n",
    "digital_root = 0\n",
    "\n",
    "while n > 9:\n",
    "    last_digit = n % 10\n",
    "    n = n // 10 + last_digit\n",
    "\n",
    "print(n)\n",
    "\n",
    "# со вложенным циклом\n",
    "number = 734573659783465783465978346593487\n",
    "\n",
    "while number > 9:\n",
    "    total = 0\n",
    "    while number != 0:\n",
    "        total += number % 10\n",
    "        number //= 10\n",
    "    number = total\n",
    "\n",
    "print(number)"
   ],
   "metadata": {
    "collapsed": false
   }
  },
  {
   "cell_type": "code",
   "execution_count": 9,
   "outputs": [
    {
     "name": "stdout",
     "output_type": "stream",
     "text": [
      "9\n"
     ]
    }
   ],
   "source": [
    "#  Сумма факториалов\n",
    "n = int(input())\n",
    "factorial = 1\n",
    "total = 0\n",
    "\n",
    "for i in range(1, n + 1):\n",
    "    factorial *= i\n",
    "    total += factorial\n",
    "\n",
    "print(total)\n",
    "\n",
    "# # 2\n",
    "# from math import factorial\n",
    "# n = 3\n",
    "# total = 0\n",
    "#\n",
    "# for i in range(1, n + 1):\n",
    "#     total+= factorial(i)\n",
    "# print(total)\n",
    "\n",
    "# 3 ВАРИАНТ\n",
    "# n, total = int(input()), 0\n",
    "# for i in range(1, n + 1):\n",
    "#     multip = 1\n",
    "#     for j in range(1, i + 1):\n",
    "#         multip *= j\n",
    "#     total += multip\n",
    "# print(total)\n",
    "\n",
    "# 4 ВАРИАНТ\n",
    "# n = int(input())\n",
    "# total = n\n",
    "# while n > 1:\n",
    "#     n -= 1\n",
    "#     total = (total + 1) * n\n",
    "# print(total)\n",
    "\n",
    "# # 5 ВАРИАНТ\n",
    "# n, total = int(input()), 0\n",
    "# for i in range(1, n + 1):\n",
    "#     multip = 1\n",
    "#     while i:\n",
    "#         multip *= i\n",
    "#         i -= 1\n",
    "#     total += multip\n",
    "# print(total)"
   ],
   "metadata": {
    "collapsed": false
   }
  },
  {
   "cell_type": "code",
   "execution_count": 18,
   "outputs": [],
   "source": [
    "# Простые числа\n",
    "a, b = int(input()), int(input())\n",
    "for i in range(a, b + 1):\n",
    "    flag = True\n",
    "    for j in range(2, i):\n",
    "        if i % j == 0:\n",
    "            flag = False\n",
    "            break\n",
    "    if flag and i != 1:\n",
    "        print(i)"
   ],
   "metadata": {
    "collapsed": false
   }
  }
 ],
 "metadata": {
  "kernelspec": {
   "display_name": "Python 3",
   "language": "python",
   "name": "python3"
  },
  "language_info": {
   "codemirror_mode": {
    "name": "ipython",
    "version": 2
   },
   "file_extension": ".py",
   "mimetype": "text/x-python",
   "name": "python",
   "nbconvert_exporter": "python",
   "pygments_lexer": "ipython2",
   "version": "2.7.6"
  }
 },
 "nbformat": 4,
 "nbformat_minor": 0
}
