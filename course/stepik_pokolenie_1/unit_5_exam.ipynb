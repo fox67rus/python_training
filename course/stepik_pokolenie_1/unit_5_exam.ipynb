{
 "cells": [
  {
   "cell_type": "markdown",
   "source": [
    "1. Напишите программу, которая определяет, оканчивается ли год с данным номером на два нуля. Если год оканчивается, то выведите «YES», иначе выведите «NO»."
   ],
   "metadata": {
    "collapsed": false
   }
  },
  {
   "cell_type": "code",
   "execution_count": null,
   "outputs": [],
   "source": [
    "year = int(input())\n",
    "\n",
    "if year % 100 == 0:\n",
    "    print('YES')\n",
    "else:\n",
    "    print('NO')\n"
   ],
   "metadata": {
    "collapsed": false
   }
  },
  {
   "cell_type": "markdown",
   "source": [
    "2. Заданы две клетки шахматной доски. Напишите программу, которая определяет имеют ли указанные клетки один цвет или нет. Если они покрашены в один цвет, то выведите слово «YES», а если в разные цвета — то «NO»."
   ],
   "metadata": {
    "collapsed": false
   }
  },
  {
   "cell_type": "code",
   "execution_count": 2,
   "outputs": [
    {
     "name": "stdout",
     "output_type": "stream",
     "text": [
      "YES\n"
     ]
    }
   ],
   "source": [
    "column1 = int(input())\n",
    "raw1 = int(input())\n",
    "column2 = int(input())\n",
    "raw2 = int(input())\n",
    "\n",
    "if (raw1 + column1) % 2 == (raw2 + column2) % 2:\n",
    "    print('YES')\n",
    "else:\n",
    "    print('NO')"
   ],
   "metadata": {
    "collapsed": false
   }
  },
  {
   "cell_type": "markdown",
   "source": [
    "3. Футбольная команда набирает девочек от 10 до 15 лет включительно. Напишите программу, которая запрашивает возраст и пол претендента, используя обозначение пола буквы m (от male – мужчина) и f (от female – женщина) и определяет подходит ли претендент для вступления в команду или нет. Если претендент подходит, то выведите «YES», иначе выведите «NO»"
   ],
   "metadata": {
    "collapsed": false
   }
  },
  {
   "cell_type": "code",
   "execution_count": null,
   "outputs": [],
   "source": [
    "age = int(input())\n",
    "sex = input()\n",
    "\n",
    "if 10 <= age <= 15 and sex == 'f':\n",
    "    print('YES')\n",
    "else:\n",
    "    print('NO')"
   ],
   "metadata": {
    "collapsed": false
   }
  },
  {
   "cell_type": "markdown",
   "source": [
    "4. Напишите программу, которая считывает целое число и выводит соответствующую ему римскую цифру. Если число находится вне диапазона 1-10, то программа должна вывести текст «ошибка»."
   ],
   "metadata": {
    "collapsed": false
   }
  },
  {
   "cell_type": "code",
   "execution_count": null,
   "outputs": [],
   "source": [
    "num = int(input())\n",
    "\n",
    "if num < 1 or num > 10:\n",
    "    print('ошибка')\n",
    "elif num == 1 or num == 2 or num == 3:\n",
    "    print('I' * num)\n",
    "elif num == 4:\n",
    "    print('IV')\n",
    "elif num == 5:\n",
    "    print('V')\n",
    "elif num == 6 or num == 7 or num == 8:\n",
    "    print('V', 'I' * (num - 5), sep='')\n",
    "elif num == 9:\n",
    "    print('IX')\n",
    "elif num == 10:\n",
    "    print('X')\n"
   ],
   "metadata": {
    "collapsed": false
   }
  },
  {
   "cell_type": "markdown",
   "source": [
    "5. Напишите программу, которая принимает на вход число и в зависимости от условий выводит текст «YES», либо «NO».\n",
    "\n",
    "Условия:\n",
    "* если число нечётное, то вывести «YES»;\n",
    "* если число чётное в диапазоне от 2 до 5 (включительно), то вывести «NO»;\n",
    "* если число чётное в диапазоне от 6 до 20 (включительно), то вывести «YES»;\n",
    "* если число чётное и больше 20, то вывести «NO»."
   ],
   "metadata": {
    "collapsed": false
   }
  },
  {
   "cell_type": "code",
   "execution_count": null,
   "outputs": [],
   "source": [
    "num = int(input())\n",
    "\n",
    "if num % 2 == 1 or 6 <= num <= 20:\n",
    "    print('YES')\n",
    "elif 2 <= num <= 5 or num > 20:\n",
    "    print('NO')"
   ],
   "metadata": {
    "collapsed": false
   }
  },
  {
   "cell_type": "markdown",
   "source": [
    "6. Даны две различные клетки шахматной доски. Напишите программу, которая определяет, может ли слон попасть с первой клетки на вторую одним ходом. Программа получает на вход четыре числа от 1 до 8 каждое, задающие номер столбца и номер строки сначала для первой клетки, потом для второй клетки. Программа должна вывести «YES», если из первой клетки ходом слона можно попасть во вторую или «NO» в противном случае."
   ],
   "metadata": {
    "collapsed": false
   }
  },
  {
   "cell_type": "code",
   "execution_count": null,
   "outputs": [],
   "source": [
    "column1 = int(input())\n",
    "raw1 = int(input())\n",
    "column2 = int(input())\n",
    "raw2 = int(input())\n",
    "\n",
    "if column1 - column2 == raw1 - raw2 or column1 - column2 == -(raw1 - raw2):\n",
    "    print('YES')\n",
    "else:\n",
    "    print('NO')"
   ],
   "metadata": {
    "collapsed": false
   }
  },
  {
   "cell_type": "markdown",
   "source": [
    "7. Даны две различные клетки шахматной доски. Напишите программу,  которая определяет, может ли конь попасть с первой клетки на вторую одним ходом. Программа получает на вход четыре числа от 1 до 8 каждое, задающие номер столбца и номер строки сначала для первой клетки, потом для второй клетки. Программа должна вывести «YES», если из первой клетки ходом коня можно попасть во вторую или «NO» в противном случае."
   ],
   "metadata": {
    "collapsed": false
   }
  },
  {
   "cell_type": "code",
   "execution_count": null,
   "outputs": [],
   "source": [
    "column1 = int(input())\n",
    "raw1 = int(input())\n",
    "column2 = int(input())\n",
    "raw2 = int(input())\n",
    "\n",
    "if ((column1 - column2 == 2 and (raw1 - raw2) ** 2 == 1 or column2 - column1 == 2 and (raw2 - raw1) ** 2 == 1) or\n",
    "        (raw1 - raw2 == 2 and (column1 - column2) ** 2 == 1 or raw2 - raw1 == 2 and (column2 - column1) ** 2 == 1)):\n",
    "    print('YES')\n",
    "else:\n",
    "    print('NO')\n",
    "\n",
    "# красивое решение\n",
    "x1, y1, x2, y2 = int(input()), int(input()), int(input()), int(input())\n",
    "if (x1 - x2) ** 2 + (y1 - y2) ** 2 == 5:\n",
    "    print(\"YES\")\n",
    "else:\n",
    "    print(\"NO\")"
   ],
   "metadata": {
    "collapsed": false
   }
  },
  {
   "cell_type": "markdown",
   "source": [
    "8. Даны две различные клетки шахматной доски. Напишите программу,  которая определяет, может ли ферзь попасть с первой клетки на вторую одним ходом. Программа получает на вход четыре числа от 1 до 8 каждое, задающие номер столбца и номер строки сначала для первой клетки, потом для второй клетки. Программа должна вывести «YES», если из первой клетки ходом ферзя можно попасть во вторую или «NO» в противном случае."
   ],
   "metadata": {
    "collapsed": false
   }
  },
  {
   "cell_type": "code",
   "execution_count": null,
   "outputs": [],
   "source": [
    "column1 = int(input())\n",
    "raw1 = int(input())\n",
    "column2 = int(input())\n",
    "raw2 = int(input())\n",
    "\n",
    "if column1 == column2 or raw1 == raw2 or (column1 - column2) ** 2 == (raw1 - raw2) ** 2:\n",
    "    print('YES')\n",
    "else:\n",
    "    print('NO')\n"
   ],
   "metadata": {
    "collapsed": false
   }
  }
 ],
 "metadata": {
  "kernelspec": {
   "display_name": "Python 3",
   "language": "python",
   "name": "python3"
  },
  "language_info": {
   "codemirror_mode": {
    "name": "ipython",
    "version": 2
   },
   "file_extension": ".py",
   "mimetype": "text/x-python",
   "name": "python",
   "nbconvert_exporter": "python",
   "pygments_lexer": "ipython2",
   "version": "2.7.6"
  }
 },
 "nbformat": 4,
 "nbformat_minor": 0
}
