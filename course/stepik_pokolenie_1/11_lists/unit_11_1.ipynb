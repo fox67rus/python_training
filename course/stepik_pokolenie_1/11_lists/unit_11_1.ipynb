{
 "cells": [
  {
   "cell_type": "markdown",
   "source": [
    "# 11.1 Введение в списки\n",
    "Структура данных (data structure) — программная единица, позволяющая хранить и обрабатывать множество однотипных и/или логически связанных данных.\n",
    "Следующие две строки кода создают пустой список:\n",
    "```python\n",
    "mylist = []       # пустой список\n",
    "mylist = list()   # пустой список\n",
    "```\n",
    "\n",
    "### Встроенная функция list\n",
    "\n",
    "```python\n",
    "even_numbers = list(range(0, 10, 2))  # список содержит четные числа 0, 2, 4, 6, 8\n",
    "odd_numbers = list(range(1, 10, 2))   # список содержит нечетные числа 1, 3, 5, 7, 9\n",
    "\n",
    "s = 'abcde'\n",
    "chars = list(s)  # список содержит символы 'a', 'b', 'c', 'd', 'e'\n",
    "```\n",
    "Обратите внимание, при выводе содержимого списка с помощью функции print(), все строковые элементы списка обрамляются одинарными кавычками. Если требуется осуществить вывод в двойных кавычках, нужно самостоятельно писать код вывода."
   ],
   "metadata": {
    "collapsed": false
   }
  },
  {
   "cell_type": "code",
   "execution_count": null,
   "outputs": [],
   "source": [],
   "metadata": {
    "collapsed": false
   }
  }
 ],
 "metadata": {
  "kernelspec": {
   "display_name": "Python 3",
   "language": "python",
   "name": "python3"
  },
  "language_info": {
   "codemirror_mode": {
    "name": "ipython",
    "version": 2
   },
   "file_extension": ".py",
   "mimetype": "text/x-python",
   "name": "python",
   "nbconvert_exporter": "python",
   "pygments_lexer": "ipython2",
   "version": "2.7.6"
  }
 },
 "nbformat": 4,
 "nbformat_minor": 0
}
