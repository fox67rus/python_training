{
 "cells": [
  {
   "cell_type": "markdown",
   "source": [
    "#  11.3 Методы добавления и удаления элементов\n",
    "## Метод append()\n",
    "Для добавления нового элемента в конец списка. Чтобы использовать метод append(), нужно, чтобы список был создан, при этом он может быть пустым.\n",
    "\n",
    "```python\n",
    "numbers = []  # создаем пустой список\n",
    "\n",
    "numbers.append(1)\n",
    "numbers.append(2)\n",
    "numbers.append(3)\n",
    "\n",
    "print(numbers) # [1, 2, 3]\n",
    "```\n",
    "\n",
    "## Метод extend()\n",
    "Можно также расширить список другим списком, путем вызова метода extend()\n",
    "```python\n",
    "numbers = [0, 2, 4, 6, 8, 10]\n",
    "odds = [1, 3, 5, 7]\n",
    "\n",
    "numbers.extend(odds)\n",
    "print(numbers) # [0, 2, 4, 6, 8, 10, 1, 3, 5, 7]\n",
    "```\n",
    "Метод append() добавляет строку 'python' целиком к списку, а метод extend() разбивает строку 'python' на  символы 'p', 'y', 't', 'h', 'o', 'n' и их добавляет в качестве элементов списка.\n",
    "```python\n",
    "words1 = ['iq option', 'stepik', 'beegeek']\n",
    "words2 = ['iq option', 'stepik', 'beegeek']\n",
    "\n",
    "words1.append('python')\n",
    "words2.extend('python')\n",
    "\n",
    "print(words1) # ['iq option', 'stepik', 'beegeek', 'python']\n",
    "print(words2) # ['iq option', 'stepik', 'beegeek', 'p', 'y', 't', 'h', 'o', 'n']\n",
    "```\n",
    "\n",
    "## Удаление элементов\n",
    "С помощью оператора del можно удалять элементы списка по определенному индексу\n",
    "```python\n",
    "numbers = [1, 2, 3, 4, 5, 6, 7, 8, 9]\n",
    "del numbers[5]    # удаляем элемент имеющий индекс 5\n",
    "\n",
    "print(numbers) # [1, 2, 3, 4, 5, 7, 8, 9]\n",
    "```\n",
    "Оператор del работает и со срезами: мы можем удалить целый диапазон элементов списка.\n",
    "```python\n",
    "numbers = [1, 2, 3, 4, 5, 6, 7, 8, 9]\n",
    "del numbers[2:7]    # удаляем элементы с 2 по 6 включительно\n",
    "```\n",
    "```python\n",
    "numbers = [1, 2, 3, 4, 5, 6, 7, 8, 9]\n",
    "del numbers[::2] # удалить все элементы на четных позициях\n",
    "```"
   ],
   "metadata": {
    "collapsed": false
   }
  },
  {
   "cell_type": "code",
   "execution_count": 13,
   "outputs": [
    {
     "name": "stdout",
     "output_type": "stream",
     "text": [
      "50\n",
      "5\n",
      "[5, 7, 6, 16, 14, 2, 1, 15, 1, 9, 14, 10, 2, 1, 12, 6, 5, 14, 12, 2, 8, 14, 6, 0, 0, 12, 10, 10, 11, 1, 5, 8, 10, 10, 16, 8, 0, 1, 16, 4, 5, 12, 16, 11, 4, 10, 14, 3, 6, 2]\n",
      "NO\n",
      "[6, 3, 14, 10, 4, 11, 16, 12, 5, 4, 16, 1, 0, 8, 16, 10, 10, 8, 5, 1, 11, 10, 10, 12, 0, 0, 6, 14, 8, 2, 12, 14, 5, 6, 12, 1, 2, 10, 14, 9, 1, 15, 1, 2, 14, 16, 6, 7]\n"
     ]
    }
   ],
   "source": [
    "# Все сразу 1 🌶️\n",
    "numbers = [2, 6, 3, 14, 10, 4, 11, 16, 12, 5, 4, 16, 1, 0, 8, 16, 10, 10, 8, 5, 1, 11, 10, 10, 12, 0, 0, 6, 14, 8, 2, 12, 14, 5, 6, 12, 1, 2, 10, 14, 9, 1, 15, 1, 2, 14, 16, 6, 7, 5]\n",
    "print(len(numbers))\n",
    "print(numbers[len(numbers)-1])\n",
    "print(numbers[::-1])\n",
    "if 5 in numbers and 17 in numbers:\n",
    "    print('YES')\n",
    "else:\n",
    "    print('NO')\n",
    "del numbers[-1]\n",
    "del numbers[0]\n",
    "print(numbers)"
   ],
   "metadata": {
    "collapsed": false
   }
  },
  {
   "cell_type": "code",
   "execution_count": 1,
   "outputs": [
    {
     "name": "stdout",
     "output_type": "stream",
     "text": [
      "['a', 'b', 'c', 'd', 'e']\n"
     ]
    }
   ],
   "source": [
    "# Список строк\n",
    "str_list = []\n",
    "for i in range(int(input())):\n",
    "    str_list.append(input())\n",
    "print(str_list)"
   ],
   "metadata": {
    "collapsed": false
   }
  },
  {
   "cell_type": "code",
   "execution_count": 3,
   "outputs": [
    {
     "name": "stdout",
     "output_type": "stream",
     "text": [
      "['a', 'bb', 'ccc', 'dddd', 'eeeee', 'ffffff', 'ggggggg', 'hhhhhhhh', 'iiiiiiiii', 'jjjjjjjjjj', 'kkkkkkkkkkk', 'llllllllllll', 'mmmmmmmmmmmmm', 'nnnnnnnnnnnnnn', 'ooooooooooooooo', 'pppppppppppppppp', 'qqqqqqqqqqqqqqqqq', 'rrrrrrrrrrrrrrrrrr', 'sssssssssssssssssss', 'tttttttttttttttttttt', 'uuuuuuuuuuuuuuuuuuuuu', 'vvvvvvvvvvvvvvvvvvvvvv', 'wwwwwwwwwwwwwwwwwwwwwww', 'xxxxxxxxxxxxxxxxxxxxxxxx', 'yyyyyyyyyyyyyyyyyyyyyyyyy', 'zzzzzzzzzzzzzzzzzzzzzzzzzz']\n"
     ]
    }
   ],
   "source": [
    "# Алфавит\n",
    "abc = []\n",
    "for i in range(1, 27):\n",
    "    abc.append(chr(i+96) * i)\n",
    "print(abc)"
   ],
   "metadata": {
    "collapsed": false
   }
  },
  {
   "cell_type": "code",
   "execution_count": 4,
   "outputs": [
    {
     "name": "stdout",
     "output_type": "stream",
     "text": [
      "[1, 8, 27]\n"
     ]
    }
   ],
   "source": [
    "# Список кубов\n",
    "cube_list = []\n",
    "for i in range(int(input())):\n",
    "    cube_list.append(int(input()) ** 3)\n",
    "print(cube_list)"
   ],
   "metadata": {
    "collapsed": false
   }
  }
 ],
 "metadata": {
  "kernelspec": {
   "display_name": "Python 3",
   "language": "python",
   "name": "python3"
  },
  "language_info": {
   "codemirror_mode": {
    "name": "ipython",
    "version": 2
   },
   "file_extension": ".py",
   "mimetype": "text/x-python",
   "name": "python",
   "nbconvert_exporter": "python",
   "pygments_lexer": "ipython2",
   "version": "2.7.6"
  }
 },
 "nbformat": 4,
 "nbformat_minor": 0
}
