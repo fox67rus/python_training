{
 "cells": [
  {
   "cell_type": "markdown",
   "source": [
    "# 7.6 Тема урока: break, continue, else\n",
    "Напишем программу, определяющую, что число является простым:"
   ],
   "metadata": {
    "collapsed": false
   }
  },
  {
   "cell_type": "code",
   "execution_count": 1,
   "outputs": [
    {
     "name": "stdout",
     "output_type": "stream",
     "text": [
      "Число составное\n"
     ]
    }
   ],
   "source": [
    "num = int(input())\n",
    "flag = True\n",
    "\n",
    "for i in range(2, num):\n",
    "    if num % i == 0:        #  если исходное число делится на какое-либо отличное от 1 и самого себя\n",
    "        flag = False\n",
    "        break               # останавливаем цикл если встретили делитель числа\n",
    "\n",
    "if flag:\n",
    "    print('Число простое')\n",
    "else:\n",
    "    print('Число составное')"
   ],
   "metadata": {
    "collapsed": false
   }
  },
  {
   "cell_type": "code",
   "execution_count": null,
   "outputs": [],
   "source": [
    "result = 0\n",
    "for i in range(10):\n",
    "    num = int(input())\n",
    "    if num < 0:\n",
    "        break\n",
    "    result += num\n",
    "print(result)"
   ],
   "metadata": {
    "collapsed": false
   }
  },
  {
   "cell_type": "code",
   "execution_count": null,
   "outputs": [],
   "source": [
    "num = int(input())\n",
    "number = num\n",
    "flag = False\n",
    "while num != 0:\n",
    "    last_digit = num % 10\n",
    "    if last_digit == 7:\n",
    "        flag = True\n",
    "        break        # прерываем цикл, так как число гарантированно содержит цифру 7\n",
    "    num //= 10\n",
    "\n",
    "if flag:\n",
    "    print('Число', number, 'содержит цифру 7')\n",
    "else:\n",
    "    print('Число', number, 'не содержит цифру 7')"
   ],
   "metadata": {
    "collapsed": false
   }
  },
  {
   "cell_type": "markdown",
   "source": [
    "Напишем программу, которая выводит все числа от 1 до 100, кроме чисел 7, 17, 29 и 78."
   ],
   "metadata": {
    "collapsed": false
   }
  },
  {
   "cell_type": "code",
   "execution_count": null,
   "outputs": [],
   "source": [
    "for i in range(1, 101):\n",
    "    if i == 7 or i == 17 or i == 29 or i == 78:\n",
    "        continue  # переходим на следующую итерацию\n",
    "    print(i)"
   ],
   "metadata": {
    "collapsed": false
   }
  },
  {
   "cell_type": "code",
   "execution_count": 2,
   "outputs": [
    {
     "name": "stdout",
     "output_type": "stream",
     "text": [
      "3\n"
     ]
    }
   ],
   "source": [
    "# Наименьший делитель\n",
    "n = int(input())\n",
    "\n",
    "for i in range(2, n + 1):\n",
    "    if n % i == 0:\n",
    "        divisor = i\n",
    "        break\n",
    "\n",
    "print(divisor)"
   ],
   "metadata": {
    "collapsed": false
   }
  },
  {
   "cell_type": "code",
   "execution_count": 4,
   "outputs": [
    {
     "name": "stdout",
     "output_type": "stream",
     "text": [
      "1\n",
      "2\n",
      "3\n",
      "4\n",
      "10\n"
     ]
    }
   ],
   "source": [
    "# Следуй правилам\n",
    "n = int(input())\n",
    "for i in range(1, n + 1):\n",
    "    if 5 <= i <= 9:\n",
    "        continue\n",
    "    if 17 <= i <= 37:\n",
    "        continue\n",
    "    if 78 <= i <= 87:\n",
    "        continue\n",
    "    print(i)"
   ],
   "metadata": {
    "collapsed": false
   }
  },
  {
   "cell_type": "markdown",
   "source": [
    "## Блок else в циклах\n",
    "Если слово else отсутствует в описании цикла, то блок кода2 будет выполняться после завершения цикла, несмотря ни на что. Если же слово else присутствует, то блок кода2 будет выполняться только в том случае, если цикл завершается штатным образом. Под штатным завершением цикла, подразумевается его завершение без использования оператора прерывания break.\n",
    "```\n",
    "while условие:\n",
    "    блок кода1\n",
    "else:\n",
    "    блок кода2\n",
    "\n",
    "# или\n",
    "\n",
    "for i in range(10):\n",
    "    блок кода1\n",
    "else:\n",
    "    блок кода2\n",
    "```\n",
    "Напишем, программу, которая определяет, содержит ли введенное пользователем число, цифру 7:"
   ],
   "metadata": {
    "collapsed": false
   }
  },
  {
   "cell_type": "code",
   "execution_count": null,
   "outputs": [],
   "source": [
    "num = int(input())\n",
    "n = num\n",
    "while n != 0:\n",
    "    last = n % 10\n",
    "    if last == 7:\n",
    "        print('Число', num, 'содержит цифру 7')\n",
    "        break\n",
    "    n //= 10\n",
    "else:\n",
    "    print('Число', num, 'не содержит цифру 7')"
   ],
   "metadata": {
    "collapsed": false
   }
  }
 ],
 "metadata": {
  "kernelspec": {
   "display_name": "Python 3",
   "language": "python",
   "name": "python3"
  },
  "language_info": {
   "codemirror_mode": {
    "name": "ipython",
    "version": 2
   },
   "file_extension": ".py",
   "mimetype": "text/x-python",
   "name": "python",
   "nbconvert_exporter": "python",
   "pygments_lexer": "ipython2",
   "version": "2.7.6"
  }
 },
 "nbformat": 4,
 "nbformat_minor": 0
}
