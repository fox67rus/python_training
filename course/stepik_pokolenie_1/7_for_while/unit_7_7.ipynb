{
 "cells": [
  {
   "cell_type": "markdown",
   "source": [
    "# 7.7 Тема урока: ревью кода\n",
    "В процессе ревью кода могут быть исправлены:\n",
    "\n",
    "- фактические ошибки;\n",
    "- производительность кода;\n",
    "- читабельность кода и ошибки форматирования кода.\n",
    "\n",
    "## Фактические ошибки\n",
    "Среди частых **фактических ошибок** встречаются:\n",
    "\n",
    "- отсутствие начальной инициализации переменной;\n",
    "- неправильная начальная инициализация переменной;\n",
    "- отсутствие отступа (в Python блоки кода выделяются отступами);\n",
    "- неправильные числовые граничные значения, например при использовании функции range();\n",
    "- неправильные граничные сравнения (путаница с >, >= или <, <=);\n",
    "- путаница логических операций or и and и т.д.\n",
    "\n",
    "## Производительность кода\n",
    "\n",
    "Под производительностью кода в простейшем случае можно подразумевать то, **сколько времени программа тратит на решение задачи**. При написании программы, программист должен думать над тем, сколько времени **в худшем случае** потребуется его программе для решения задачи.\n",
    "Рассмотрим задачу, которая проверяет число на простоту. num = 1934234249\n",
    "- 1 версия программы: Перебираем все числа от 2 до num - 1 и делаем проверку делимости числа num на i (будет работать примерно 270270 секунд = 4.54.5 минуты.🙄)\n",
    "- 2 версия программы: Несложно понять, что перебирать все числа от 2 до num - 1 не имеет смысла. Достаточно проверить числа от 2 до num // 2 + 1 (будет работать примерно 130130 секунд = 2.22.2 минуты)\n",
    "- 3 версия программы: Правую границу num // 2 + 1 проверки можно улучшить, если заметить, что у любого составного числа есть делитель (отличный от 1), не превосходящий квадратного корня из числа. Таким образом, имеет смысл перебирать делители от 2 до (sqrt(n) + 1) (будет работать примерно 0.0660.066 секунд)\n",
    "- 4 версия программы: Предыдущие оптимизации касались случая, когда проверяемое число является простым. В случае если число является составным и мы нашли его первый делитель (отличный от 1), мы прерываем цикл с помощью оператора break:"
   ],
   "metadata": {
    "collapsed": false
   }
  },
  {
   "cell_type": "code",
   "execution_count": null,
   "outputs": [],
   "source": [
    "# оптимизированная программа\n",
    "num = int(input())\n",
    "flag = True\n",
    "\n",
    "for i in range(2, int(num ** 0.5) + 1):\n",
    "    if num % i == 0:\n",
    "        flag = False\n",
    "        break\n",
    "if num > 1 and flag == True:\n",
    "    print('Число простое')\n",
    "else:\n",
    "    print('Число составное')"
   ],
   "metadata": {
    "collapsed": false
   }
  },
  {
   "cell_type": "markdown",
   "source": [],
   "metadata": {
    "collapsed": false
   }
  },
  {
   "cell_type": "markdown",
   "source": [
    "## Читабельность кода\n",
    "- отступы и пробелы: используйте 4 пробела на один уровень отступа и никогда не смешивайте символы табуляции и пробелы;\n",
    "- названия переменных: используйте говорящие названия для переменных (total, counter, product) и следуйте стилю lower_case_with_underscores (слова из маленьких букв с подчеркиваниями);\n",
    "- пустые строки: дополнительные отступы пустыми строками могут быть изредка полезны для выделения группы логически связанных частей программы: инициализация переменных, основной алгоритм, завершающая проверка и т.д.;\n",
    "- комментарии: комментарии должны являться законченными предложениями. И помните, комментарии, которые противоречат коду, хуже, чем отсутствие комментариев. Всегда исправляйте комментарии, если меняете код!\n",
    "\n",
    "Хорошие статьи о ревью кода можно почитать на хабре:\n",
    "[статья 1](https://habr.com/ru/post/340550/),\n",
    "[статья 2](https://habr.com/ru/post/342244/)"
   ],
   "metadata": {
    "collapsed": false
   }
  },
  {
   "cell_type": "code",
   "execution_count": null,
   "outputs": [],
   "source": [
    "# Ревью кода-1\n",
    "count = 0\n",
    "p = 1  # 1\n",
    "for i in range(1, 11):  # 2\n",
    "    x = int(input())\n",
    "    if x >= 0:  # 3\n",
    "        p *= x\n",
    "        count += 1\n",
    "if count > 0:\n",
    "    print(count)  # 4\n",
    "    print(p)\n",
    "else:\n",
    "    print('NO')"
   ],
   "metadata": {
    "collapsed": false
   }
  },
  {
   "cell_type": "code",
   "execution_count": 4,
   "outputs": [
    {
     "name": "stdout",
     "output_type": "stream",
     "text": [
      "-1 -100 5 8 9 -6 -4 -5 -8 5 -124\n",
      "-1\n"
     ]
    }
   ],
   "source": [
    "# Ревью кода-2\n",
    "mx = -10 ** 6  # 1\n",
    "s = 0\n",
    "for i in range(10): # 2\n",
    "    x = int(input())\n",
    "    if x < 0:\n",
    "        s += x  # 3\n",
    "        if x > mx: # 4\n",
    "            mx = x\n",
    "if s < 0:\n",
    "    print(s)\n",
    "    print(mx)\n",
    "else:\n",
    "    print('NO')"
   ],
   "metadata": {
    "collapsed": false
   }
  },
  {
   "cell_type": "code",
   "execution_count": null,
   "outputs": [],
   "source": [
    "# Ревью кода-3\n",
    "s = 0 # 1\n",
    "for i in range(7): # 2\n",
    "    n = int(input()) # 3\n",
    "    if n % 2 == 0: # 4\n",
    "        s = s + n\n",
    "if s > 0:   # 5\n",
    "    print(s)\n",
    "else:\n",
    "    print(0)"
   ],
   "metadata": {
    "collapsed": false
   }
  },
  {
   "cell_type": "code",
   "execution_count": 7,
   "outputs": [
    {
     "name": "stdout",
     "output_type": "stream",
     "text": [
      "NO\n"
     ]
    }
   ],
   "source": [
    "# Ревью кода-4\n",
    "n = int(input())\n",
    "max_digit = -1 # 1\n",
    "while n != 0: # 2\n",
    "    digit = n % 10\n",
    "    if digit % 3 == 0:\n",
    "        if digit > max_digit: # 3\n",
    "            max_digit = digit # 4\n",
    "    n //= 10 # 5\n",
    "if max_digit == -1:\n",
    "    print('NO')\n",
    "else:\n",
    "    print(max_digit)"
   ],
   "metadata": {
    "collapsed": false
   }
  },
  {
   "cell_type": "code",
   "execution_count": 10,
   "outputs": [
    {
     "name": "stdout",
     "output_type": "stream",
     "text": [
      "7\n"
     ]
    }
   ],
   "source": [
    "# Ревью кода-5\n",
    "n = int(input())\n",
    "while n > 9: #\n",
    "    n //= 10 #\n",
    "print(n)\n"
   ],
   "metadata": {
    "collapsed": false
   }
  },
  {
   "cell_type": "code",
   "execution_count": 13,
   "outputs": [
    {
     "name": "stdout",
     "output_type": "stream",
     "text": [
      "7\n"
     ]
    }
   ],
   "source": [
    "# Ревью кода-6\n",
    "n = int(input()) # 1\n",
    "product = 1 # 2\n",
    "while n != 0: # 3\n",
    "    digit = n % 10\n",
    "    product *= digit\n",
    "    n //= 10\n",
    "print(product)"
   ],
   "metadata": {
    "collapsed": false
   }
  }
 ],
 "metadata": {
  "kernelspec": {
   "display_name": "Python 3",
   "language": "python",
   "name": "python3"
  },
  "language_info": {
   "codemirror_mode": {
    "name": "ipython",
    "version": 2
   },
   "file_extension": ".py",
   "mimetype": "text/x-python",
   "name": "python",
   "nbconvert_exporter": "python",
   "pygments_lexer": "ipython2",
   "version": "2.7.6"
  }
 },
 "nbformat": 4,
 "nbformat_minor": 0
}
