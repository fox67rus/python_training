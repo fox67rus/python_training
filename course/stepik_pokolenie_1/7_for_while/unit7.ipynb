{
 "cells": [
  {
   "cell_type": "markdown",
   "source": [
    "7.1 Цикл for"
   ],
   "metadata": {
    "collapsed": false
   }
  },
  {
   "cell_type": "code",
   "execution_count": null,
   "outputs": [],
   "source": [
    "# Python is awesome\n",
    "\n",
    "for i in range(10):\n",
    "    print('Python is awesome!')"
   ],
   "metadata": {
    "collapsed": false
   }
  },
  {
   "cell_type": "code",
   "execution_count": 1,
   "outputs": [
    {
     "name": "stdout",
     "output_type": "stream",
     "text": [
      "Hello!\n",
      "Hello!\n",
      "Hello!\n",
      "Hello!\n",
      "Hello!\n",
      "Hello!\n",
      "Hello!\n",
      "Hello!\n",
      "Hello!\n",
      "Hello!\n",
      "Hello!\n",
      "Hello!\n",
      "Hello!\n",
      "Hello!\n",
      "Hello!\n",
      "Hello!\n",
      "Hello!\n",
      "Hello!\n",
      "Hello!\n",
      "Hello!\n"
     ]
    }
   ],
   "source": [
    "# Повторяй за мной 1\n",
    "text = input()\n",
    "repeat = int(input())\n",
    "\n",
    "for _ in range(repeat):\n",
    "    print(text)\n"
   ],
   "metadata": {
    "collapsed": false
   }
  },
  {
   "cell_type": "code",
   "execution_count": 2,
   "outputs": [
    {
     "name": "stdout",
     "output_type": "stream",
     "text": [
      "AAA\n",
      "AAA\n",
      "AAA\n",
      "AAA\n",
      "AAA\n",
      "AAA\n",
      "BBBB\n",
      "BBBB\n",
      "BBBB\n",
      "BBBB\n",
      "BBBB\n",
      "E\n",
      "TTTTT\n",
      "TTTTT\n",
      "TTTTT\n",
      "TTTTT\n",
      "TTTTT\n",
      "TTTTT\n",
      "TTTTT\n",
      "TTTTT\n",
      "TTTTT\n",
      "G\n"
     ]
    }
   ],
   "source": [
    "# Последовательность символов\n",
    "for _ in range(6):\n",
    "    print('AAA')\n",
    "for _ in range(5):\n",
    "    print('BBBB')\n",
    "print('E')\n",
    "for _ in range(9):\n",
    "    print('TTTTT')\n",
    "print('G')"
   ],
   "metadata": {
    "collapsed": false
   }
  },
  {
   "cell_type": "code",
   "execution_count": null,
   "outputs": [],
   "source": [
    "# Звездный прямоугольник\n",
    "n = int(input())\n",
    "\n",
    "for _ in range(n):\n",
    "    print('*' * 19)"
   ],
   "metadata": {
    "collapsed": false
   }
  },
  {
   "cell_type": "code",
   "execution_count": null,
   "outputs": [],
   "source": [
    "# Повторяй за мной 2\n",
    "text = input()\n",
    "\n",
    "for i in range(10):\n",
    "    print(i, text)"
   ],
   "metadata": {
    "collapsed": false
   }
  },
  {
   "cell_type": "code",
   "execution_count": null,
   "outputs": [],
   "source": [
    "# Квадрат числа\n",
    "n = int(input())\n",
    "\n",
    "for i in range(n + 1):\n",
    "    print('Квадрат числа', i, 'равен', i * i)\n"
   ],
   "metadata": {
    "collapsed": false
   }
  },
  {
   "cell_type": "code",
   "execution_count": 5,
   "outputs": [
    {
     "name": "stdout",
     "output_type": "stream",
     "text": [
      "***********\n",
      "**********\n",
      "*********\n",
      "********\n",
      "*******\n",
      "******\n",
      "*****\n",
      "****\n",
      "***\n",
      "**\n",
      "*\n",
      "\n"
     ]
    }
   ],
   "source": [
    "# Звездный треугольник\n",
    "n = int(input())  # n >= 2 катет равнобедренного треугольника\n",
    "\n",
    "for i in range(n + 1):\n",
    "    print((n - i) * '*')\n"
   ],
   "metadata": {
    "collapsed": false
   }
  },
  {
   "cell_type": "code",
   "execution_count": null,
   "outputs": [],
   "source": [
    "# Популяция\n",
    "m = int(input())  # стартовое количество организмов\n",
    "p = int(input())  # среднесуточное увеличение в %\n",
    "n = int(input())  # количество дней для размножения\n",
    "\n",
    "for i in range(n):\n",
    "    print(i + 1, m)\n",
    "    m = m + (m * p / 100)"
   ],
   "metadata": {
    "collapsed": false
   }
  },
  {
   "cell_type": "markdown",
   "source": [
    "# 7.2 Цикл for: функция range"
   ],
   "metadata": {
    "collapsed": false
   }
  },
  {
   "cell_type": "code",
   "execution_count": null,
   "outputs": [],
   "source": [
    "# Последовательность чисел 1\n",
    "m = int(input())\n",
    "n = int(input())\n",
    "\n",
    "for i in range(m, n + 1):\n",
    "    print(i)"
   ],
   "metadata": {
    "collapsed": false
   }
  },
  {
   "cell_type": "code",
   "execution_count": 7,
   "outputs": [
    {
     "name": "stdout",
     "output_type": "stream",
     "text": [
      "7\n",
      "6\n",
      "5\n",
      "4\n",
      "3\n",
      "2\n",
      "1\n"
     ]
    }
   ],
   "source": [
    "# Последовательность чисел 2\n",
    "m = int(input())\n",
    "n = int(input())\n",
    "if m <= n:\n",
    "    for i in range(m, n + 1):\n",
    "        print(i)\n",
    "else:\n",
    "    for i in range(m, n - 1, -1):\n",
    "        print(i)"
   ],
   "metadata": {
    "collapsed": false
   }
  },
  {
   "cell_type": "code",
   "execution_count": 15,
   "outputs": [
    {
     "name": "stdout",
     "output_type": "stream",
     "text": [
      "5\n",
      "5\n"
     ]
    }
   ],
   "source": [
    "# Последовательность чисел 3\n",
    "# 1\n",
    "m, n = int(input()), int(input())\n",
    "\n",
    "for i in range(m, n - 1, -1):\n",
    "    if i % 2 == 1:\n",
    "        print(i)\n",
    "\n",
    "# 2 без if\n",
    "start = m % 2 + m - 1\n",
    "for i in range(start, n - 1, -2):\n",
    "    print(i)\n"
   ],
   "metadata": {
    "collapsed": false
   }
  },
  {
   "cell_type": "code",
   "execution_count": null,
   "outputs": [],
   "source": [
    "# Последовательность чисел 4\n",
    "m, n = int(input()), int(input())\n",
    "\n",
    "for i in range(m, n + 1, ):\n",
    "    if i % 3 == 0 and i % 5 == 0 or i % 17 == 0 or i % 10 == 9:\n",
    "        print(i)"
   ],
   "metadata": {
    "collapsed": false
   }
  },
  {
   "cell_type": "code",
   "execution_count": 18,
   "outputs": [
    {
     "name": "stdout",
     "output_type": "stream",
     "text": [
      "5 x 1 = 5\n",
      "5 x 2 = 10\n",
      "5 x 3 = 15\n",
      "5 x 4 = 20\n",
      "5 x 5 = 25\n",
      "5 x 6 = 30\n",
      "5 x 7 = 35\n",
      "5 x 8 = 40\n",
      "5 x 9 = 45\n",
      "5 x 10 = 50\n"
     ]
    }
   ],
   "source": [
    "# Таблица умножения\n",
    "n = int(input())\n",
    "\n",
    "for i in range(1, 11):\n",
    "    print(n, 'x', i, '=', n * i)"
   ],
   "metadata": {
    "collapsed": false
   }
  },
  {
   "cell_type": "markdown",
   "source": [
    "# 7.3 Частые сценарии"
   ],
   "metadata": {
    "collapsed": false
   }
  },
  {
   "cell_type": "code",
   "execution_count": 19,
   "outputs": [
    {
     "name": "stdout",
     "output_type": "stream",
     "text": [
      "20\n"
     ]
    }
   ],
   "source": [
    "counter = 0\n",
    "for i in range(1, 101):\n",
    "    if i ** 2 % 10 == 4:\n",
    "        counter = counter + 1\n",
    "print(counter)"
   ],
   "metadata": {
    "collapsed": false
   }
  },
  {
   "cell_type": "code",
   "execution_count": 20,
   "outputs": [
    {
     "name": "stdout",
     "output_type": "stream",
     "text": [
      "Сумма чисел больших 10 равна 235\n"
     ]
    }
   ],
   "source": [
    "total = 0\n",
    "for i in range(10):\n",
    "    num = int(input())\n",
    "    if num > 10:\n",
    "        total = total + num\n",
    "print('Сумма чисел больших 10 равна', total)"
   ],
   "metadata": {
    "collapsed": false
   }
  },
  {
   "cell_type": "code",
   "execution_count": null,
   "outputs": [],
   "source": [
    "num = int(input())\n",
    "flag = True\n",
    "\n",
    "for i in range(2, num):\n",
    "    if num % i == 0:  #  если исходное число делится на какое-либо отличное от 1 и самого себя\n",
    "        flag = False\n",
    "\n",
    "if num == 1:\n",
    "    print('Это единица, она не простая и не составная')\n",
    "elif flag:\n",
    "    print('Число простое')\n",
    "else:\n",
    "    print('Число составное')"
   ],
   "metadata": {
    "collapsed": false
   }
  },
  {
   "cell_type": "code",
   "execution_count": null,
   "outputs": [],
   "source": [
    "largest = -1\n",
    "for i in range(10):\n",
    "    num = int(input())\n",
    "    if num > largest:\n",
    "        largest = num\n",
    "print('Наибольшее число равно', largest)"
   ],
   "metadata": {
    "collapsed": false
   }
  },
  {
   "cell_type": "code",
   "execution_count": null,
   "outputs": [],
   "source": [
    "largest = int(input())  # принимаем первое число за максимальное\n",
    "for i in range(9):\n",
    "    num = int(input())\n",
    "    if num > largest:\n",
    "        largest = num\n",
    "print('Наибольшее число равно', largest)"
   ],
   "metadata": {
    "collapsed": false
   }
  },
  {
   "cell_type": "code",
   "execution_count": null,
   "outputs": [],
   "source": [
    "# Количество чисел\n",
    "a = int(input())\n",
    "b = int(input())\n",
    "\n",
    "counter = 0\n",
    "for i in range(a, b + 1):\n",
    "    if i ** 3 % 10 == 4 or i ** 3 % 10 == 9:\n",
    "        counter = counter + 1\n",
    "print(counter)"
   ],
   "metadata": {
    "collapsed": false
   }
  },
  {
   "cell_type": "code",
   "execution_count": null,
   "outputs": [],
   "source": [
    "# Сумма чисел\n",
    "n = int(input())\n",
    "\n",
    "total = 0\n",
    "for i in range(1, n + 1):\n",
    "    total += int(input())\n",
    "print(total)"
   ],
   "metadata": {
    "collapsed": false
   }
  },
  {
   "cell_type": "code",
   "execution_count": null,
   "outputs": [],
   "source": [
    "# Асимптотическое приближение\n",
    "from math import log\n",
    "\n",
    "n = int(input())\n",
    "\n",
    "total = 1\n",
    "for i in range(2, n + 1):\n",
    "    total += 1 / i\n",
    "total -= log(n)\n",
    "print(total)\n"
   ],
   "metadata": {
    "collapsed": false
   }
  },
  {
   "cell_type": "code",
   "execution_count": null,
   "outputs": [],
   "source": [
    "# Сумма чисел 2\n",
    "n = int(input())\n",
    "total = 0\n",
    "for i in range(1, n + 1):\n",
    "    if i ** 2 % 10 == 2 or i ** 2 % 10 == 5 or i ** 2 % 10 == 8:\n",
    "        total = total + i\n",
    "print(total)\n"
   ],
   "metadata": {
    "collapsed": false
   }
  },
  {
   "cell_type": "code",
   "execution_count": null,
   "outputs": [],
   "source": [
    "# Факториал\n",
    "n = int(input())\n",
    "factorial = 1\n",
    "for i in range(1, n + 1):\n",
    "    factorial *= i\n",
    "print(factorial)"
   ],
   "metadata": {
    "collapsed": false
   }
  },
  {
   "cell_type": "code",
   "execution_count": null,
   "outputs": [],
   "source": [
    "# Без нулей\n",
    "total = 1\n",
    "for _ in range(10):\n",
    "    num = int(input())\n",
    "    if num != 0:\n",
    "        total *= num\n",
    "print(total)"
   ],
   "metadata": {
    "collapsed": false
   }
  },
  {
   "cell_type": "code",
   "execution_count": null,
   "outputs": [],
   "source": [
    "# Сумма делителей\n",
    "n = int(input())\n",
    "\n",
    "total = 0\n",
    "for i in range(1, n + 1):\n",
    "    if n % i == 0:\n",
    "        total += i\n",
    "print(total)"
   ],
   "metadata": {
    "collapsed": false
   }
  },
  {
   "cell_type": "code",
   "execution_count": null,
   "outputs": [],
   "source": [
    "# Знакочередующаяся сумма\n",
    "n = int(input())\n",
    "\n",
    "total = 0\n",
    "for i in range(1, n + 1):\n",
    "    total += (-1) ** (i + 1) * i\n",
    "print(total)"
   ],
   "metadata": {
    "collapsed": false
   }
  },
  {
   "cell_type": "code",
   "execution_count": 4,
   "outputs": [
    {
     "name": "stdout",
     "output_type": "stream",
     "text": [
      "5\n",
      "4\n"
     ]
    }
   ],
   "source": [
    "# Наибольшие числа\n",
    "# На вход программе подается натуральное число nn, а затем nn различных натуральных чисел,\n",
    "# каждое на отдельной строке. Напишите программу, которая выводит наибольшее и второе наибольшее число последовательности.\n",
    "\n",
    "n = int(input())\n",
    "max_num = -1\n",
    "pre_max_num = -1\n",
    "\n",
    "for _ in range(n):\n",
    "    num = int(input())\n",
    "    if num > max_num:\n",
    "        pre_max_num = max_num\n",
    "        max_num = num\n",
    "    elif num > pre_max_num:\n",
    "        pre_max_num = num\n",
    "print(max_num)\n",
    "print(pre_max_num)"
   ],
   "metadata": {
    "collapsed": false
   }
  },
  {
   "cell_type": "code",
   "execution_count": null,
   "outputs": [],
   "source": [
    "# Only even numbers\n",
    "total = 0\n",
    "for _ in range(10):\n",
    "    if int(input()) % 2 == 0:\n",
    "        total += 1\n",
    "if total == 10:\n",
    "    print('YES')\n",
    "else:\n",
    "    print('NO')\n",
    "\n",
    "#\n",
    "flag = 'YES'\n",
    "for _ in range(10):\n",
    "    a = int(input())\n",
    "    if a % 2 != 0:\n",
    "        flag = 'NO'\n",
    "print(flag)"
   ],
   "metadata": {
    "collapsed": false
   }
  },
  {
   "cell_type": "code",
   "execution_count": 8,
   "outputs": [
    {
     "name": "stdout",
     "output_type": "stream",
     "text": [
      "1 1 2 3 5 "
     ]
    }
   ],
   "source": [
    "# Последовательность Фибоначчи\n",
    "n = int(input())\n",
    "last = 1\n",
    "pre_last = 0\n",
    "\n",
    "for _ in range(1, n + 1):\n",
    "    print(last, end=' ')\n",
    "    pre_last, last = last, pre_last + last"
   ],
   "metadata": {
    "collapsed": false
   }
  }
 ],
 "metadata": {
  "kernelspec": {
   "display_name": "Python 3",
   "language": "python",
   "name": "python3"
  },
  "language_info": {
   "codemirror_mode": {
    "name": "ipython",
    "version": 2
   },
   "file_extension": ".py",
   "mimetype": "text/x-python",
   "name": "python",
   "nbconvert_exporter": "python",
   "pygments_lexer": "ipython2",
   "version": "2.7.6"
  }
 },
 "nbformat": 4,
 "nbformat_minor": 0
}
