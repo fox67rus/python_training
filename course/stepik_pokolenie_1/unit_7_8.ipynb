{
 "cells": [
  {
   "cell_type": "markdown",
   "source": [
    "# 7.8 Вложенные циклы. Часть 1\n",
    "- вложенный цикл выполняет все свои итерации для каждой отдельной итерации внешнего цикла;\n",
    "- вложенные циклы завершают свои итерации быстрее, чем внешние циклы;\n",
    "- для того, чтобы получить общее количество итераций вложенного цикла, надо перемножить количество итераций всех циклов.\n",
    "\n",
    "Если необходимо добиться прерывания внешнего цикла из-за выполнения условия во внутреннем, то стоит сделать это через сигнальную метку."
   ],
   "metadata": {
    "collapsed": false
   }
  },
  {
   "cell_type": "code",
   "execution_count": null,
   "outputs": [],
   "source": [
    "for hours in range(24):\n",
    "    for minutes in range(60):\n",
    "        for seconds in range(60):\n",
    "            print(hours, ':', minutes, ':', seconds)"
   ],
   "metadata": {
    "collapsed": false
   }
  },
  {
   "cell_type": "code",
   "execution_count": null,
   "outputs": [],
   "source": [
    "for i in range(3):\n",
    "    for j in range(3):\n",
    "        if i == j:\n",
    "            break\n",
    "        print(i, j)"
   ],
   "metadata": {
    "collapsed": false
   }
  },
  {
   "cell_type": "code",
   "execution_count": null,
   "outputs": [],
   "source": [
    "for i in range(8):\n",
    "    for j in range(6):\n",
    "        print('*', end='')\n",
    "    print()"
   ],
   "metadata": {
    "collapsed": false
   }
  },
  {
   "cell_type": "code",
   "execution_count": null,
   "outputs": [],
   "source": [
    "for i in range(8):\n",
    "    for j in range(i + 1):\n",
    "        print('*', end='')\n",
    "    print()"
   ],
   "metadata": {
    "collapsed": false
   }
  },
  {
   "cell_type": "code",
   "execution_count": null,
   "outputs": [],
   "source": [
    "# Таблица-1\n",
    "n = int(input())\n",
    "for _ in range(n):\n",
    "    for _ in range(3):\n",
    "        print(n, end=' ')\n",
    "    print()"
   ],
   "metadata": {
    "collapsed": false
   }
  },
  {
   "cell_type": "code",
   "execution_count": null,
   "outputs": [],
   "source": [
    "# Таблица-2\n",
    "n = int(input())\n",
    "for i in range(1, n + 1):\n",
    "    for j in range(5):\n",
    "        print(i, end=' ')\n",
    "    print()\n"
   ],
   "metadata": {
    "collapsed": false
   }
  },
  {
   "cell_type": "code",
   "execution_count": null,
   "outputs": [],
   "source": [
    "# Таблица-3\n",
    "n = int(input())\n",
    "for i in range(1, n + 1):\n",
    "    for j in range(1, 10):\n",
    "        print(f'{i} + {j} = {i + j}')\n",
    "    print()"
   ],
   "metadata": {
    "collapsed": false
   }
  },
  {
   "cell_type": "code",
   "execution_count": null,
   "outputs": [],
   "source": [
    "# Звездный треугольник\n",
    "n = int(input())\n",
    "middle = n // 2 + 1\n",
    "for i in range(n):\n",
    "    if i < middle:\n",
    "        for _ in range(i + 1):\n",
    "            print('*', end='')\n",
    "        print()\n",
    "    else:\n",
    "        for _ in range(n - i):\n",
    "            print('*', end='')\n",
    "        print()\n",
    "\n",
    "#\n",
    "n = int(input())\n",
    "\n",
    "for i in range(n):\n",
    "    k = (n // 2 + 1) - abs(n // 2 - i)\n",
    "    for _ in range(k):\n",
    "        print('*', end='')\n",
    "    print()\n"
   ],
   "metadata": {
    "collapsed": false
   }
  },
  {
   "cell_type": "code",
   "execution_count": null,
   "outputs": [],
   "source": [
    "# Численный треугольник 1\n",
    "n = int(input())\n",
    "for i in range(n + 1):\n",
    "    for j in range(i):\n",
    "        print(i, end='')\n",
    "    print()"
   ],
   "metadata": {
    "collapsed": false
   }
  },
  {
   "cell_type": "markdown",
   "source": [
    "## Использование вложенных циклов при решении уравнений\n",
    "Задача 1. Найдите все пары натуральных чисел (и их количество) являющихся решением уравнения 12x+13y = 777\n",
    "Решение. Поскольку по условию числа xx и yy являются натуральными, то x <= 64, y ≤ 59 . Напишем программу, которая перебирает всевозможные пары чисел (x;y) и проверяет для них выполнение условия 12x+13y=777."
   ],
   "metadata": {
    "collapsed": false
   }
  },
  {
   "cell_type": "code",
   "execution_count": null,
   "outputs": [],
   "source": [
    "total = 0\n",
    "for x in range(1, 65):\n",
    "    for y in range(1, 60):\n",
    "        if 12 * x + 13 * y == 777:\n",
    "            total += 1\n",
    "            print('x =', x, 'y =', y)\n",
    "print('Общее количество натуральных решений =', total)"
   ],
   "metadata": {
    "collapsed": false
   }
  },
  {
   "cell_type": "markdown",
   "source": [
    "Задача 2. Найдите все пары натуральных чисел (и их количество) являющихся решением уравнения x^2+y^2+z^2 = 2020\n",
    "Решение.  Поскольку по условию числа x,y и z являются натуральными, то x,y,z ≤ sqrt(2020) =45. Напишем программу, которая перебирает всевозможные тройки чисел (x;y;z) и проверяет для них условие x^2+y^2+z^2 = 2020"
   ],
   "metadata": {
    "collapsed": false
   }
  },
  {
   "cell_type": "code",
   "execution_count": null,
   "outputs": [],
   "source": [
    "total = 0\n",
    "for x in range(1, 45):\n",
    "    for y in range(1, 45):\n",
    "        for z in range(1, 45):\n",
    "            if x ** 2 + y ** 2 + z ** 2 == 2020:\n",
    "                total += 1\n",
    "                print('x =', x, 'y =', y, 'z =', z)\n",
    "print('Общее количество натуральных решений =', total)"
   ],
   "metadata": {
    "collapsed": false
   }
  },
  {
   "cell_type": "code",
   "execution_count": null,
   "outputs": [],
   "source": [
    "# 12 месяцев 28n+30k+31m=365\n",
    "for n in range(1, 13):\n",
    "    for k in range(1, 12):\n",
    "        for m in range(1, 11):\n",
    "            if 28 * n + 30 * k + 31 * m == 365:\n",
    "                print(f'{n= } , {k= }, {m= }')"
   ],
   "metadata": {
    "collapsed": false
   }
  },
  {
   "cell_type": "code",
   "execution_count": null,
   "outputs": [],
   "source": [
    "# Старинная задача\n",
    "# Имеется 100 рублей. Сколько быков, коров и телят можно купить на все эти деньги, если плата за быка – 10 рублей, за корову – 5 рублей, за теленка – 0.5 рубля и надо купить 100 голов скота\n",
    "\n",
    "for b in range(10):\n",
    "    for k in range(10):\n",
    "        for t in range(100):\n",
    "            if 10 * b + 5 * k + 0.5 * t == 100 and b + k + t == 100:\n",
    "                print(f'Быков {b= }, коров {k= }, телят {t= }')"
   ],
   "metadata": {
    "collapsed": false
   }
  },
  {
   "cell_type": "code",
   "execution_count": null,
   "outputs": [],
   "source": [
    "# Гипотеза Эйлера о сумме степеней 🌶️🌶️\n",
    "# Выполняется оооооооочень долго\n",
    "x = 151\n",
    "for a in range(1, x):\n",
    "    for b in range(a, x):\n",
    "        for c in range(b, x):\n",
    "            for d in range(c, x):\n",
    "                for e in range(d, x):\n",
    "                    if a ** 5 + b ** 5 + c ** 5 + d ** 5 == e ** 5:\n",
    "                        print(f'{a= }, {b= }, {c= }, {d= }, {e= }')\n",
    "                        print(f'{a+b+c+d+e = }')\n",
    "                        break\n"
   ],
   "metadata": {
    "collapsed": false
   }
  },
  {
   "cell_type": "code",
   "execution_count": 18,
   "outputs": [
    {
     "name": "stdout",
     "output_type": "stream",
     "text": [
      "a= 27, b= 84, c= 110, d= 133, e= 144\n",
      "a+b+c+d+e = 498\n",
      "Время выполнения: 18.68125033378601\n"
     ]
    }
   ],
   "source": [
    "# оптимизированное решение ~ 20 sec\n",
    "import time\n",
    "start_time = time.time()\n",
    "\n",
    "x = 150\n",
    "flag = False\n",
    "for a in range(1, x):\n",
    "    for b in range(a, x):\n",
    "        for c in range(b, x):\n",
    "            for d in range(c, x):\n",
    "                sum = a ** 5 + b ** 5 + c ** 5 + d ** 5\n",
    "                e = int(sum ** (1 / 5))\n",
    "                if sum == e ** 5:\n",
    "                    print(f'{a= }, {b= }, {c= }, {d= }, {e= }')\n",
    "                    print(f'{a+b+c+d+e = }')\n",
    "                    flag = True\n",
    "                    break\n",
    "                if flag:\n",
    "                    break\n",
    "            if flag:\n",
    "                break\n",
    "        if flag:\n",
    "            break\n",
    "\n",
    "print(f'Время выполнения: {time.time() - start_time}')\n"
   ],
   "metadata": {
    "collapsed": false
   }
  },
  {
   "cell_type": "code",
   "execution_count": 20,
   "outputs": [
    {
     "name": "stdout",
     "output_type": "stream",
     "text": [
      "27 84 110 133 144 a+b+c+d+e= 498\n",
      "Duration: 0:00:00.488510\n"
     ]
    }
   ],
   "source": [
    "# супер быстрое решение, но не универсальное\n",
    "from datetime import datetime\n",
    "start_time = datetime.now()\n",
    "\n",
    "arr5 = [i ** 5 for i in range(2, 150)]                           # массив пятых степеней\n",
    "abc = set(a + b + c for a in arr5 for b in arr5 for c in arr5\n",
    "          if a < b < c)   # варианты сумм а^5+b^5+ c^5\n",
    "de =  set(e - d  for e in arr5 for d in arr5 if e - d > 0)       # варианты разности е^5 - d^5\n",
    "res = abc & de                                                   # пересечение вариантов\n",
    "\n",
    "# находим a b c для верных ответов\n",
    "abc_res = [[a + b + c, a, b, c] for a in arr5 for b in arr5 for c in arr5 if a + b + c in res]\n",
    "\n",
    "# находим d e для верных ответов\n",
    "de_res = [[e - d, e , d]  for e in arr5 for d in arr5 if (e - d in res) ]\n",
    "\n",
    "elist = []\n",
    "for i_res in res:            #  исключаем повторения\n",
    "    for i_abc in abc_res:\n",
    "        if i_res == i_abc[0]:\n",
    "            aa, bb, cc = i_abc[1:]\n",
    "    for i_de in de_res:\n",
    "        if i_res == i_de[0]:\n",
    "            ee, dd = i_de[1:]\n",
    "    if ee not in elist:\n",
    "        elist.append(ee)\n",
    "        aa, bb, cc, dd, ee = sorted([round(aa**0.2), round(bb**0.2), round(cc**0.2), round(dd**0.2), round(ee**0.2)])\n",
    "        print(aa, bb, cc, dd, ee,'a+b+c+d+e=',aa + bb + cc + dd + ee)\n",
    "\n",
    "end_time = datetime.now()\n",
    "print('Duration: {}'.format(end_time - start_time))"
   ],
   "metadata": {
    "collapsed": false
   }
  },
  {
   "cell_type": "code",
   "execution_count": 22,
   "outputs": [
    {
     "ename": "TypeError",
     "evalue": "'int' object is not callable",
     "output_type": "error",
     "traceback": [
      "\u001B[1;31m---------------------------------------------------------------------------\u001B[0m",
      "\u001B[1;31mTypeError\u001B[0m                                 Traceback (most recent call last)",
      "Cell \u001B[1;32mIn[22], line 8\u001B[0m\n\u001B[0;32m      6\u001B[0m n5 \u001B[38;5;241m=\u001B[39m [n\u001B[38;5;241m*\u001B[39m\u001B[38;5;241m*\u001B[39m\u001B[38;5;241m5\u001B[39m \u001B[38;5;28;01mfor\u001B[39;00m n \u001B[38;5;129;01min\u001B[39;00m \u001B[38;5;28mrange\u001B[39m(\u001B[38;5;241m20\u001B[39m, \u001B[38;5;241m150\u001B[39m)]\n\u001B[0;32m      7\u001B[0m shuffle(n5)\n\u001B[1;32m----> 8\u001B[0m \u001B[38;5;28;01mwhile\u001B[39;00m \u001B[38;5;28;43msum\u001B[39;49m\u001B[43m(\u001B[49m\u001B[43mn5\u001B[49m\u001B[43m[\u001B[49m\u001B[43m:\u001B[49m\u001B[38;5;241;43m4\u001B[39;49m\u001B[43m]\u001B[49m\u001B[43m)\u001B[49m \u001B[38;5;241m!=\u001B[39m n5[\u001B[38;5;241m4\u001B[39m]:\n\u001B[0;32m      9\u001B[0m     shuffle(n5)\n\u001B[0;32m     10\u001B[0m \u001B[38;5;28mprint\u001B[39m(\u001B[38;5;28msum\u001B[39m(\u001B[38;5;28mint\u001B[39m(n\u001B[38;5;241m*\u001B[39m\u001B[38;5;241m*\u001B[39m\u001B[38;5;241m0.2\u001B[39m) \u001B[38;5;28;01mfor\u001B[39;00m n \u001B[38;5;129;01min\u001B[39;00m n5[:\u001B[38;5;241m5\u001B[39m]))\n",
      "\u001B[1;31mTypeError\u001B[0m: 'int' object is not callable"
     ]
    }
   ],
   "source": [],
   "metadata": {
    "collapsed": false
   }
  }
 ],
 "metadata": {
  "kernelspec": {
   "display_name": "Python 3",
   "language": "python",
   "name": "python3"
  },
  "language_info": {
   "codemirror_mode": {
    "name": "ipython",
    "version": 2
   },
   "file_extension": ".py",
   "mimetype": "text/x-python",
   "name": "python",
   "nbconvert_exporter": "python",
   "pygments_lexer": "ipython2",
   "version": "2.7.6"
  }
 },
 "nbformat": 4,
 "nbformat_minor": 0
}
