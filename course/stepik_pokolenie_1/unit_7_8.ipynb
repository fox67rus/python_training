{
 "cells": [
  {
   "cell_type": "markdown",
   "source": [
    "# 7.8 Вложенные циклы. Часть 1\n",
    "- вложенный цикл выполняет все свои итерации для каждой отдельной итерации внешнего цикла;\n",
    "- вложенные циклы завершают свои итерации быстрее, чем внешние циклы;\n",
    "- для того, чтобы получить общее количество итераций вложенного цикла, надо перемножить количество итераций всех циклов.\n",
    "\n",
    "Если необходимо добиться прерывания внешнего цикла из-за выполнения условия во внутреннем, то стоит сделать это через сигнальную метку."
   ],
   "metadata": {
    "collapsed": false
   }
  },
  {
   "cell_type": "code",
   "execution_count": null,
   "outputs": [],
   "source": [
    "for hours in range(24):\n",
    "    for minutes in range(60):\n",
    "        for seconds in range(60):\n",
    "            print(hours, ':', minutes, ':', seconds)"
   ],
   "metadata": {
    "collapsed": false
   }
  },
  {
   "cell_type": "code",
   "execution_count": null,
   "outputs": [],
   "source": [
    "for i in range(3):\n",
    "    for j in range(3):\n",
    "        if i == j:\n",
    "            break\n",
    "        print(i, j)"
   ],
   "metadata": {
    "collapsed": false
   }
  },
  {
   "cell_type": "code",
   "execution_count": 2,
   "outputs": [
    {
     "name": "stdout",
     "output_type": "stream",
     "text": [
      "******\n",
      "******\n",
      "******\n",
      "******\n",
      "******\n",
      "******\n",
      "******\n",
      "******\n"
     ]
    }
   ],
   "source": [
    "for i in range(8):\n",
    "    for j in range(6):\n",
    "        print('*', end='')\n",
    "    print()"
   ],
   "metadata": {
    "collapsed": false
   }
  },
  {
   "cell_type": "code",
   "execution_count": 3,
   "outputs": [
    {
     "name": "stdout",
     "output_type": "stream",
     "text": [
      "*\n",
      "**\n",
      "***\n",
      "****\n",
      "*****\n",
      "******\n",
      "*******\n",
      "********\n"
     ]
    }
   ],
   "source": [
    "for i in range(8):\n",
    "    for j in range(i + 1):\n",
    "        print('*', end='')\n",
    "    print()"
   ],
   "metadata": {
    "collapsed": false
   }
  },
  {
   "cell_type": "code",
   "execution_count": 4,
   "outputs": [
    {
     "name": "stdout",
     "output_type": "stream",
     "text": [
      "8 8 8 \n",
      "8 8 8 \n",
      "8 8 8 \n",
      "8 8 8 \n",
      "8 8 8 \n",
      "8 8 8 \n",
      "8 8 8 \n",
      "8 8 8 \n",
      "8 8 8 \n"
     ]
    }
   ],
   "source": [
    "# Таблица-1\n",
    "n = int(input())\n",
    "for _ in range(n):\n",
    "    for _ in range(3):\n",
    "        print(n, end=' ')\n",
    "    print()"
   ],
   "metadata": {
    "collapsed": false
   }
  },
  {
   "cell_type": "code",
   "execution_count": 6,
   "outputs": [
    {
     "name": "stdout",
     "output_type": "stream",
     "text": [
      "1 1 1 \n",
      "2 2 2 \n",
      "3 3 3 \n"
     ]
    }
   ],
   "source": [
    "# Таблица-2\n",
    "n = int(input())\n",
    "for i in range(1, n + 1):\n",
    "    for j in range(5):\n",
    "        print(i, end=' ')\n",
    "    print()\n"
   ],
   "metadata": {
    "collapsed": false
   }
  },
  {
   "cell_type": "code",
   "execution_count": 10,
   "outputs": [
    {
     "name": "stdout",
     "output_type": "stream",
     "text": [
      "1 + 1 = 2\n",
      "1 + 2 = 3\n",
      "1 + 3 = 4\n",
      "1 + 4 = 5\n",
      "1 + 5 = 6\n",
      "1 + 6 = 7\n",
      "1 + 7 = 8\n",
      "1 + 8 = 9\n",
      "1 + 9 = 10\n",
      "\n",
      "2 + 1 = 3\n",
      "2 + 2 = 4\n",
      "2 + 3 = 5\n",
      "2 + 4 = 6\n",
      "2 + 5 = 7\n",
      "2 + 6 = 8\n",
      "2 + 7 = 9\n",
      "2 + 8 = 10\n",
      "2 + 9 = 11\n",
      "\n",
      "3 + 1 = 4\n",
      "3 + 2 = 5\n",
      "3 + 3 = 6\n",
      "3 + 4 = 7\n",
      "3 + 5 = 8\n",
      "3 + 6 = 9\n",
      "3 + 7 = 10\n",
      "3 + 8 = 11\n",
      "3 + 9 = 12\n",
      "\n"
     ]
    }
   ],
   "source": [
    "# Таблица-3\n",
    "n = int(input())\n",
    "for i in range(1, n + 1):\n",
    "    for j in range(1, 10):\n",
    "        print(f'{i} + {j} = {i + j}')\n",
    "    print()"
   ],
   "metadata": {
    "collapsed": false
   }
  },
  {
   "cell_type": "code",
   "execution_count": 63,
   "outputs": [
    {
     "name": "stdout",
     "output_type": "stream",
     "text": [
      "*\n",
      "**\n",
      "***\n",
      "****\n",
      "***\n",
      "**\n",
      "*\n"
     ]
    }
   ],
   "source": [
    "# Звездный треугольник\n",
    "n = int(input())\n",
    "middle = n // 2 + 1\n",
    "for i in range(n):\n",
    "    if i < middle:\n",
    "        for _ in range(i + 1):\n",
    "            print('*', end='')\n",
    "        print()\n",
    "    else:\n",
    "        for _ in range(n - i):\n",
    "            print('*', end='')\n",
    "        print()\n"
   ],
   "metadata": {
    "collapsed": false
   }
  }
 ],
 "metadata": {
  "kernelspec": {
   "display_name": "Python 3",
   "language": "python",
   "name": "python3"
  },
  "language_info": {
   "codemirror_mode": {
    "name": "ipython",
    "version": 2
   },
   "file_extension": ".py",
   "mimetype": "text/x-python",
   "name": "python",
   "nbconvert_exporter": "python",
   "pygments_lexer": "ipython2",
   "version": "2.7.6"
  }
 },
 "nbformat": 4,
 "nbformat_minor": 0
}
