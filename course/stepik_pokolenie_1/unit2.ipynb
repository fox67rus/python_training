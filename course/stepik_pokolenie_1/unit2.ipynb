{
 "cells": [
  {
   "cell_type": "markdown",
   "source": [
    "# Условный оператор"
   ],
   "metadata": {
    "collapsed": false
   }
  },
  {
   "cell_type": "code",
   "execution_count": null,
   "outputs": [],
   "source": [
    "age = int(input())\n",
    "if 3 <= age <= 6:\n",
    "    print('Вы ребёнок')"
   ],
   "metadata": {
    "collapsed": false
   }
  },
  {
   "cell_type": "code",
   "execution_count": 1,
   "outputs": [
    {
     "name": "stdout",
     "output_type": "stream",
     "text": [
      "числа равны\n"
     ]
    }
   ],
   "source": [
    "a, b, c = 1, 1, 1\n",
    "if a == b == c:\n",
    "    print('числа равны')\n",
    "else:\n",
    "    print('числа не равны')"
   ],
   "metadata": {
    "collapsed": false
   }
  },
  {
   "cell_type": "markdown",
   "source": [
    "**Задача 3**. Напишите программу, которая считывает три числа и подсчитывает количество чётных чисел.\n",
    "\n",
    "**Решение**. Программа, решающая поставленную задачу, может иметь вид:"
   ],
   "metadata": {
    "collapsed": false
   }
  },
  {
   "cell_type": "code",
   "execution_count": null,
   "outputs": [],
   "source": [
    "num1, num2, num3 = int(input()), int(input()), int(input())\n",
    "counter = 0  # переменная счётчик\n",
    "if num1 % 2 == 0:\n",
    "    counter = counter + 1  # увеличиваем счётчик на 1\n",
    "if num2 % 2 == 0:\n",
    "    counter = counter + 1  # увеличиваем счётчик на 1\n",
    "if num3 % 2 == 0:\n",
    "    counter = counter + 1  # увеличиваем счётчик на 1\n",
    "print(counter)"
   ],
   "metadata": {
    "collapsed": false
   }
  },
  {
   "cell_type": "code",
   "execution_count": 13,
   "outputs": [
    {
     "name": "stdout",
     "output_type": "stream",
     "text": [
      "Пароль принят\n"
     ]
    }
   ],
   "source": [
    "password = input('Введите пароль: ')\n",
    "re_password = input('Повторите пароль: ')\n",
    "if password == re_password:\n",
    "    print('Пароль принят')\n",
    "else:\n",
    "    print('Пароль не принят')"
   ],
   "metadata": {
    "collapsed": false
   }
  },
  {
   "cell_type": "code",
   "execution_count": 14,
   "outputs": [
    {
     "name": "stdout",
     "output_type": "stream",
     "text": [
      "Четное\n"
     ]
    }
   ],
   "source": [
    "num = int(input())\n",
    "\n",
    "if num % 2 == 0:\n",
    "    print('Четное')\n",
    "else:\n",
    "    print('Нечетное')\n"
   ],
   "metadata": {
    "collapsed": false
   }
  },
  {
   "cell_type": "markdown",
   "source": [
    "Напишите программу, которая проверяет, что для заданного четырехзначного числа выполняется следующее соотношение: сумма первой и последней цифр равна разности второй и третьей цифр.\n",
    "\n",
    "На вход программе подаётся одно целое положительное четырёхзначное число.\n",
    "\n",
    "Программа должна вывести «ДА», если соотношение выполняется, и «НЕТ» — если не выполняется."
   ],
   "metadata": {
    "collapsed": false
   }
  },
  {
   "cell_type": "code",
   "execution_count": 17,
   "outputs": [
    {
     "name": "stdout",
     "output_type": "stream",
     "text": [
      "Доступ запрещен\n"
     ]
    }
   ],
   "source": [
    "age = int(input())\n",
    "\n",
    "if age >= 18:\n",
    "    print('Доступ разрешен')\n",
    "else:\n",
    "    print('Доступ запрещен')"
   ],
   "metadata": {
    "collapsed": false
   }
  },
  {
   "cell_type": "code",
   "execution_count": 18,
   "outputs": [
    {
     "name": "stdout",
     "output_type": "stream",
     "text": [
      "YES\n"
     ]
    }
   ],
   "source": [
    "num1 = int(input())\n",
    "num2 = int(input())\n",
    "num3 = int(input())\n",
    "\n",
    "if num3 - num2 == num2 - num1:\n",
    "    print('YES')\n",
    "else:\n",
    "    print('NO')"
   ],
   "metadata": {
    "collapsed": false
   }
  },
  {
   "cell_type": "code",
   "execution_count": 19,
   "outputs": [
    {
     "name": "stdout",
     "output_type": "stream",
     "text": [
      "2\n"
     ]
    }
   ],
   "source": [
    "num1 = int(input())\n",
    "num2 = int(input())\n",
    "\n",
    "if num1 > num2:\n",
    "    print(num2)\n",
    "else:\n",
    "    print(num1)"
   ],
   "metadata": {
    "collapsed": false
   }
  },
  {
   "cell_type": "code",
   "execution_count": 22,
   "outputs": [
    {
     "name": "stdout",
     "output_type": "stream",
     "text": [
      "2\n",
      "2\n"
     ]
    }
   ],
   "source": [
    "num1 = int(input())\n",
    "num2 = int(input())\n",
    "num3 = int(input())\n",
    "num4 = int(input())\n",
    "\n",
    "if num1 <= num2 and num1 <= num3 and num1 <= num4:\n",
    "    print(num1)\n",
    "if num2 <= num1 and num2 <= num3 and num2 <= num4:\n",
    "    print(num2)\n",
    "if num3 <= num1 and num3 <= num2 and num3 <= num4:\n",
    "    print(num3)\n",
    "if num4 <= num1 and num4 <= num2 and num4 <= num3:\n",
    "    print(num4)\n",
    "\n"
   ],
   "metadata": {
    "collapsed": false
   }
  },
  {
   "cell_type": "code",
   "execution_count": 29,
   "outputs": [
    {
     "name": "stdout",
     "output_type": "stream",
     "text": [
      "старость\n"
     ]
    }
   ],
   "source": [
    "age = int(input())\n",
    "\n",
    "if age <= 13:\n",
    "    print('детство')\n",
    "if 13 < age <= 24:\n",
    "    print('молодость')\n",
    "if 24 < age <= 59:\n",
    "    print('зрелость')\n",
    "if age > 59:\n",
    "    print('старость')\n"
   ],
   "metadata": {
    "collapsed": false
   }
  },
  {
   "cell_type": "code",
   "execution_count": null,
   "outputs": [],
   "source": [
    "num1 = int(input())\n",
    "num2 = int(input())\n",
    "num3 = int(input())\n",
    "\n",
    "sum_pozitiv = 0\n",
    "\n",
    "if num1 > 0:\n",
    "    sum_pozitiv += num1\n",
    "if num2 > 0:\n",
    "    sum_pozitiv += num2\n",
    "if num3 > 0:\n",
    "    sum_pozitiv += num3\n",
    "print(sum_pozitiv)\n"
   ],
   "metadata": {
    "collapsed": false
   }
  },
  {
   "cell_type": "code",
   "execution_count": null,
   "outputs": [],
   "source": [
    "x = int(input())\n",
    "\n",
    "if -1 < x < 17:\n",
    "    print('Принадлежит')\n",
    "else:\n",
    "    print('Не принадлежит')"
   ],
   "metadata": {
    "collapsed": false
   }
  },
  {
   "cell_type": "code",
   "execution_count": null,
   "outputs": [],
   "source": [
    "x = int(input())\n",
    "\n",
    "if x <= -3 or x >= 7:\n",
    "    print('Принадлежит')\n",
    "else:\n",
    "    print('Не принадлежит')"
   ],
   "metadata": {
    "collapsed": false
   }
  },
  {
   "cell_type": "code",
   "execution_count": null,
   "outputs": [],
   "source": [
    "x = int(input())\n",
    "\n",
    "if -30 < x <= -2 or 7 < x <= 25:\n",
    "    print('Принадлежит')\n",
    "else:\n",
    "    print('Не принадлежит')"
   ],
   "metadata": {
    "collapsed": false
   }
  },
  {
   "cell_type": "code",
   "execution_count": null,
   "outputs": [],
   "source": [
    "num = int(input())\n",
    "\n",
    "if 999 < num < 10000 and (num % 7 == 0 or num % 17 == 0):\n",
    "    print('YES')\n",
    "else:\n",
    "    print('NO')"
   ],
   "metadata": {
    "collapsed": false
   }
  },
  {
   "cell_type": "markdown",
   "source": [
    "Напишите программу, которая принимает три положительных числа и определяет, существует ли невырожденный треугольник с такими сторонами."
   ],
   "metadata": {
    "collapsed": false
   }
  },
  {
   "cell_type": "code",
   "execution_count": 2,
   "outputs": [
    {
     "ename": "ValueError",
     "evalue": "invalid literal for int() with base 10: ''",
     "output_type": "error",
     "traceback": [
      "\u001B[1;31m---------------------------------------------------------------------------\u001B[0m",
      "\u001B[1;31mValueError\u001B[0m                                Traceback (most recent call last)",
      "Cell \u001B[1;32mIn[2], line 1\u001B[0m\n\u001B[1;32m----> 1\u001B[0m a \u001B[38;5;241m=\u001B[39m \u001B[38;5;28;43mint\u001B[39;49m\u001B[43m(\u001B[49m\u001B[38;5;28;43minput\u001B[39;49m\u001B[43m(\u001B[49m\u001B[43m)\u001B[49m\u001B[43m)\u001B[49m\n\u001B[0;32m      2\u001B[0m b \u001B[38;5;241m=\u001B[39m \u001B[38;5;28mint\u001B[39m(\u001B[38;5;28minput\u001B[39m())\n\u001B[0;32m      3\u001B[0m c \u001B[38;5;241m=\u001B[39m \u001B[38;5;28mint\u001B[39m(\u001B[38;5;28minput\u001B[39m())\n",
      "\u001B[1;31mValueError\u001B[0m: invalid literal for int() with base 10: ''"
     ]
    }
   ],
   "source": [
    "a = int(input())\n",
    "b = int(input())\n",
    "c = int(input())\n",
    "\n",
    "if a >= b + c or b >= a + c or c >= a + b:\n",
    "    print('NO')\n",
    "else:\n",
    "    print('YES')"
   ],
   "metadata": {
    "collapsed": false
   }
  },
  {
   "cell_type": "markdown",
   "source": [
    "Напишите программу, которая определяет, является ли год с данным номером високосным. Если год является високосным, то выведите «YES», иначе выведите «NO».\n",
    "\n",
    "Год является високосным, если его номер кратен 4, но не кратен 100, или если он кратен 400."
   ],
   "metadata": {
    "collapsed": false
   }
  },
  {
   "cell_type": "code",
   "execution_count": null,
   "outputs": [],
   "source": [
    "year = int(input())\n",
    "\n",
    "if year % 4 == 0 and year % 100 != 0 or year % 400 == 0:\n",
    "    print('YES')\n",
    "else:\n",
    "    print('NO')"
   ],
   "metadata": {
    "collapsed": false
   }
  },
  {
   "cell_type": "markdown",
   "source": [
    "Даны две различные клетки шахматной доски. Напишите программу, которая определяет, может ли ладья попасть с первой клетки на вторую одним ходом. Программа получает на вход четыре числа от 1 до 8 каждое, задающие номер столбца и номер строки сначала для первой клетки, потом для второй клетки. Программа должна вывести «YES», если из первой клетки ходом ладьи можно попасть во вторую, или «NO» в противном случае."
   ],
   "metadata": {
    "collapsed": false
   }
  },
  {
   "cell_type": "code",
   "execution_count": null,
   "outputs": [],
   "source": [
    "column1 = int(input())\n",
    "raw1 = int(input())\n",
    "column2 = int(input())\n",
    "raw2 = int(input())\n",
    "\n",
    "if column1 == column2 or raw1 == raw2:\n",
    "    print('YES')\n",
    "else:\n",
    "    print('NO')"
   ],
   "metadata": {
    "collapsed": false
   }
  },
  {
   "cell_type": "markdown",
   "source": [
    "Даны две различные клетки шахматной доски. Напишите программу,  которая определяет, может ли король попасть с первой клетки на вторую одним ходом. Программа получает на вход четыре числа от 1 до 8 каждое, задающие номер столбца и номер строки сначала для первой клетки, потом для второй клетки. Программа должна вывести «YES», если из первой клетки ходом короля можно попасть во вторую, или «NO» в противном случае."
   ],
   "metadata": {
    "collapsed": false
   }
  },
  {
   "cell_type": "code",
   "execution_count": null,
   "outputs": [],
   "source": [
    "column1 = int(input())\n",
    "raw1 = int(input())\n",
    "column2 = int(input())\n",
    "raw2 = int(input())\n",
    "\n",
    "if ((column2 == column1 or column2 == column1 + 1 or column2 == column1 - 1) and\n",
    "        (raw2 == raw1 or raw2 == raw1 + 1 or raw2 == raw1 - 1)):\n",
    "    print('YES')\n",
    "else:\n",
    "    print('NO')"
   ],
   "metadata": {
    "collapsed": false
   }
  },
  {
   "cell_type": "markdown",
   "source": [
    "### Вложенные и каскадные условия\n",
    "**Задача 1**. Даны три целых числа. Определите, сколько среди них совпадающих. Программа должна вывести одно из чисел: 3 (если все совпадают), 2 (если два совпадает) или 0 (если все числа различны).\n",
    "\n",
    "Решение. Программа, решающая поставленную задачу, может иметь следующий вид:"
   ],
   "metadata": {
    "collapsed": false
   }
  },
  {
   "cell_type": "code",
   "execution_count": null,
   "outputs": [],
   "source": [
    "a, b, c = int(input()), int(input()), int(input())\n",
    "if a == b == c:\n",
    "    print(3)\n",
    "elif a == b != c or a != b == c or a == c != b:\n",
    "    print(2)\n",
    "else:\n",
    "    print(0)"
   ],
   "metadata": {
    "collapsed": false
   }
  },
  {
   "cell_type": "code",
   "execution_count": null,
   "outputs": [],
   "source": [
    "a, b, c = int(input()), int(input()), int(input())\n",
    "\n",
    "if a == b == c:\n",
    "    print('Равносторонний')\n",
    "elif a == b or a == c or b == c:\n",
    "    print('Равнобедренный')\n",
    "else:\n",
    "    print('Разносторонний')\n"
   ],
   "metadata": {
    "collapsed": false
   }
  },
  {
   "cell_type": "code",
   "execution_count": null,
   "outputs": [],
   "source": [
    "num1 = int(input())\n",
    "num2 = int(input())\n",
    "num3 = int(input())\n",
    "\n",
    "if num2 < num1 < num3 or num3 < num1 < num2:\n",
    "    print(num1)\n",
    "elif num1 < num2 < num3 or num3 < num2 < num1:\n",
    "    print(num2)\n",
    "elif num1 < num3 < num2 or num2 < num3 < num1:\n",
    "    print(num3)\n"
   ],
   "metadata": {
    "collapsed": false
   }
  },
  {
   "cell_type": "code",
   "execution_count": 3,
   "outputs": [
    {
     "name": "stdout",
     "output_type": "stream",
     "text": [
      "31\n",
      "30\n"
     ]
    }
   ],
   "source": [
    "month = int(input())\n",
    "if month == 2:\n",
    "    print(28)\n",
    "elif month == 4 or month == 6 or month == 9 or month == 11:\n",
    "    print(30)\n",
    "else:\n",
    "    print(31)\n",
    "\n",
    "# минимум условий\n",
    "if month == 2:\n",
    "    print('28')\n",
    "else:\n",
    "    print(30 + (month + month // 8) % 2)"
   ],
   "metadata": {
    "collapsed": false
   }
  },
  {
   "cell_type": "code",
   "execution_count": null,
   "outputs": [],
   "source": [
    "weight = int(input())\n",
    "\n",
    "if weight < 60:\n",
    "    print('Легкий вес')\n",
    "elif weight < 64:\n",
    "    print('Первый полусредний вес')\n",
    "elif weight < 69:\n",
    "    print('Полусредний вес')"
   ],
   "metadata": {
    "collapsed": false
   }
  },
  {
   "cell_type": "code",
   "execution_count": null,
   "outputs": [],
   "source": [
    "a = int(input())\n",
    "b = int(input())\n",
    "action = input()\n",
    "\n",
    "if action == '+':\n",
    "    print(a + b)\n",
    "elif action == '-':\n",
    "    print(a - b)\n",
    "elif action == '*':\n",
    "    print(a * b)\n",
    "elif action == '/' and b!= 0:\n",
    "    print(a / b)\n",
    "elif action == '/' and b == 0:\n",
    "    print('На ноль делить нельзя')\n",
    "else:\n",
    "    print('Неверная операция')"
   ],
   "metadata": {
    "collapsed": false
   }
  },
  {
   "cell_type": "markdown",
   "source": [
    "Напишите программу, которая считывает названия двух основных цветов для смешивания. Если пользователь вводит что-нибудь помимо названий «красный», «синий» или «желтый», то программа должна вывести сообщение об ошибке. В противном случае программа должна вывести название вторичного цвета, который получится в результате"
   ],
   "metadata": {
    "collapsed": false
   }
  },
  {
   "cell_type": "code",
   "execution_count": 4,
   "outputs": [
    {
     "name": "stdout",
     "output_type": "stream",
     "text": [
      "питон\n"
     ]
    }
   ],
   "source": [
    "color1, color2 = input(), input()\n",
    "\n",
    "if color1 == 'красный' and color2 == 'синий' or color1 == 'синий' and color2 == 'красный':\n",
    "    print('фиолетовый')\n",
    "elif color1 == 'красный' and color2 == 'желтый' or color1 == 'желтый' and color2 == 'красный':\n",
    "    print('оранжевый')\n",
    "elif color1 == 'синий' and color2 == 'желтый' or color1 == 'желтый' and color2 == 'синий':\n",
    "    print('зеленый')\n",
    "elif color1 == color2 == 'красный' or color1 == color2 == 'синий' or color1 == color2 == 'желтый':\n",
    "    print(color1)\n",
    "else:\n",
    "    print('ошибка цвета')"
   ],
   "metadata": {
    "collapsed": false
   }
  },
  {
   "cell_type": "markdown",
   "source": [
    "На колесе рулетки карманы пронумерованы от 0 до 36. Ниже приведены цвета карманов:\n",
    "\n",
    "карман 0 зеленый;\n",
    "* для карманов с 1 по 10 карманы с нечетным номером имеют красный цвет, карманы с четным номером – черный;\n",
    "* для карманов с 11 по 18 карманы с нечетным номером имеют черный цвет, карманы с четным номером – красный;\n",
    "* для карманов с 19 по 28 карманы с нечетным номером имеют красный цвет, карманы с четным номером – черный;\n",
    "* для карманов с 29 по 36 карманы с нечетным номером имеют черный цвет, карманы с четным номером – красный.\n",
    "\n",
    "Напишите программу, которая считывает номер кармана и показывает, является ли этот карман зеленым, красным или черным. Программа должна вывести сообщение об ошибке, если пользователь вводит число, которое лежит вне диапазона от 0 до 36."
   ],
   "metadata": {
    "collapsed": false
   }
  },
  {
   "cell_type": "code",
   "execution_count": null,
   "outputs": [],
   "source": [
    "number = int(input())\n",
    "\n",
    "if number == 0:\n",
    "    print('зеленый')\n",
    "elif 1 <= number <= 10 or 19 <= number <= 28:\n",
    "    if number % 2 == 0:\n",
    "        print('черный')\n",
    "    else:\n",
    "        print('красный')\n",
    "elif 11 <= number <= 18 or 29 <= number <= 36:\n",
    "    if number % 2 == 1:\n",
    "        print('черный')\n",
    "    else:\n",
    "        print('красный')\n",
    "else:\n",
    "    print('ошибка ввода')"
   ],
   "metadata": {
    "collapsed": false
   }
  },
  {
   "cell_type": "code",
   "execution_count": null,
   "outputs": [],
   "source": [
    "a1, b1, a2, b2 = int(input()), int(input()), int(input()), int(input())\n",
    "\n",
    "if b1 < a2 or b2 < a1:\n",
    "    print('пустое множество')\n",
    "elif b1 == a2:\n",
    "    print(b1)\n",
    "elif b2 == a1:\n",
    "    print(b2)\n",
    "elif a1 <= a2 < b1:\n",
    "    if b2 > b1:\n",
    "        print(a2, b1)\n",
    "    else:\n",
    "        print(a2, b2)\n",
    "elif a2 <= a1 < b2:\n",
    "    if b1 > b2:\n",
    "        print(a1, b2)\n",
    "    else:\n",
    "        print(a1, b1)\n",
    "\n",
    "\n"
   ],
   "metadata": {
    "collapsed": false
   }
  }
 ],
 "metadata": {
  "kernelspec": {
   "display_name": "Python 3",
   "language": "python",
   "name": "python3"
  },
  "language_info": {
   "codemirror_mode": {
    "name": "ipython",
    "version": 2
   },
   "file_extension": ".py",
   "mimetype": "text/x-python",
   "name": "python",
   "nbconvert_exporter": "python",
   "pygments_lexer": "ipython2",
   "version": "2.7.6"
  }
 },
 "nbformat": 4,
 "nbformat_minor": 0
}
