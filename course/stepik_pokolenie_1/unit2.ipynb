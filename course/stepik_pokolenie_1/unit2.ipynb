{
 "cells": [
  {
   "cell_type": "code",
   "execution_count": null,
   "metadata": {
    "collapsed": true
   },
   "outputs": [],
   "source": [
    "age = int(input())\n",
    "if 3 <= age <= 6:\n",
    "    print('Вы ребёнок')"
   ]
  },
  {
   "cell_type": "code",
   "execution_count": 1,
   "outputs": [
    {
     "name": "stdout",
     "output_type": "stream",
     "text": [
      "числа равны\n"
     ]
    }
   ],
   "source": [
    "a, b, c = 1, 1, 1\n",
    "if a == b == c:\n",
    "    print('числа равны')\n",
    "else:\n",
    "    print('числа не равны')"
   ],
   "metadata": {
    "collapsed": false
   }
  },
  {
   "cell_type": "markdown",
   "source": [
    "**Задача 3**. Напишите программу, которая считывает три числа и подсчитывает количество чётных чисел.\n",
    "\n",
    "**Решение**. Программа, решающая поставленную задачу, может иметь вид:"
   ],
   "metadata": {
    "collapsed": false
   }
  },
  {
   "cell_type": "code",
   "execution_count": null,
   "outputs": [],
   "source": [
    "num1, num2, num3 = int(input()), int(input()), int(input())\n",
    "counter = 0  # переменная счётчик\n",
    "if num1 % 2 == 0:\n",
    "    counter = counter + 1  # увеличиваем счётчик на 1\n",
    "if num2 % 2 == 0:\n",
    "    counter = counter + 1  # увеличиваем счётчик на 1\n",
    "if num3 % 2 == 0:\n",
    "    counter = counter + 1  # увеличиваем счётчик на 1\n",
    "print(counter)"
   ],
   "metadata": {
    "collapsed": false
   }
  },
  {
   "cell_type": "code",
   "execution_count": 13,
   "outputs": [
    {
     "name": "stdout",
     "output_type": "stream",
     "text": [
      "Пароль принят\n"
     ]
    }
   ],
   "source": [
    "password = input('Введите пароль: ')\n",
    "re_password = input('Повторите пароль: ')\n",
    "if password == re_password:\n",
    "    print('Пароль принят')\n",
    "else:\n",
    "    print('Пароль не принят')"
   ],
   "metadata": {
    "collapsed": false
   }
  },
  {
   "cell_type": "code",
   "execution_count": 14,
   "outputs": [
    {
     "name": "stdout",
     "output_type": "stream",
     "text": [
      "Четное\n"
     ]
    }
   ],
   "source": [
    "num = int(input())\n",
    "\n",
    "if num % 2 == 0:\n",
    "    print('Четное')\n",
    "else:\n",
    "    print('Нечетное')\n"
   ],
   "metadata": {
    "collapsed": false
   }
  },
  {
   "cell_type": "markdown",
   "source": [
    "Напишите программу, которая проверяет, что для заданного четырехзначного числа выполняется следующее соотношение: сумма первой и последней цифр равна разности второй и третьей цифр.\n",
    "\n",
    "На вход программе подаётся одно целое положительное четырёхзначное число.\n",
    "\n",
    "Программа должна вывести «ДА», если соотношение выполняется, и «НЕТ» — если не выполняется."
   ],
   "metadata": {
    "collapsed": false
   }
  },
  {
   "cell_type": "code",
   "execution_count": 17,
   "outputs": [
    {
     "name": "stdout",
     "output_type": "stream",
     "text": [
      "Доступ запрещен\n"
     ]
    }
   ],
   "source": [
    "age = int(input())\n",
    "\n",
    "if age >= 18:\n",
    "    print('Доступ разрешен')\n",
    "else:\n",
    "    print('Доступ запрещен')"
   ],
   "metadata": {
    "collapsed": false
   }
  },
  {
   "cell_type": "code",
   "execution_count": 18,
   "outputs": [
    {
     "name": "stdout",
     "output_type": "stream",
     "text": [
      "YES\n"
     ]
    }
   ],
   "source": [
    "num1 = int(input())\n",
    "num2 = int(input())\n",
    "num3 = int(input())\n",
    "\n",
    "if num3 - num2 == num2 - num1:\n",
    "    print('YES')\n",
    "else:\n",
    "    print('NO')"
   ],
   "metadata": {
    "collapsed": false
   }
  },
  {
   "cell_type": "code",
   "execution_count": 19,
   "outputs": [
    {
     "name": "stdout",
     "output_type": "stream",
     "text": [
      "2\n"
     ]
    }
   ],
   "source": [
    "num1 = int(input())\n",
    "num2 = int(input())\n",
    "\n",
    "if num1 > num2:\n",
    "    print(num2)\n",
    "else:\n",
    "    print(num1)"
   ],
   "metadata": {
    "collapsed": false
   }
  },
  {
   "cell_type": "code",
   "execution_count": 22,
   "outputs": [
    {
     "name": "stdout",
     "output_type": "stream",
     "text": [
      "2\n",
      "2\n"
     ]
    }
   ],
   "source": [
    "num1 = int(input())\n",
    "num2 = int(input())\n",
    "num3 = int(input())\n",
    "num4 = int(input())\n",
    "\n",
    "if num1 <= num2 and num1 <= num3 and num1 <= num4:\n",
    "    print(num1)\n",
    "if num2 <= num1 and num2 <= num3 and num2 <= num4:\n",
    "    print(num2)\n",
    "if num3 <= num1 and num3 <= num2 and num3 <= num4:\n",
    "    print(num3)\n",
    "if num4 <= num1 and num4 <= num2 and num4 <= num3:\n",
    "    print(num4)\n",
    "\n"
   ],
   "metadata": {
    "collapsed": false
   }
  },
  {
   "cell_type": "code",
   "execution_count": 29,
   "outputs": [
    {
     "name": "stdout",
     "output_type": "stream",
     "text": [
      "старость\n"
     ]
    }
   ],
   "source": [
    "age = int(input())\n",
    "\n",
    "if age <= 13:\n",
    "    print('детство')\n",
    "if 13 < age <= 24:\n",
    "    print('молодость')\n",
    "if 24 < age <= 59:\n",
    "    print('зрелость')\n",
    "if age > 59:\n",
    "    print('старость')\n"
   ],
   "metadata": {
    "collapsed": false
   }
  },
  {
   "cell_type": "code",
   "execution_count": null,
   "outputs": [],
   "source": [
    "num1 = int(input())\n",
    "num2 = int(input())\n",
    "num3 = int(input())\n",
    "\n",
    "sum_pozitiv = 0\n",
    "\n",
    "if num1 > 0:\n",
    "    sum_pozitiv += num1\n",
    "if num2 > 0:\n",
    "    sum_pozitiv += num2\n",
    "if num3 > 0:\n",
    "    sum_pozitiv += num3\n",
    "print(sum_pozitiv)\n"
   ],
   "metadata": {
    "collapsed": false
   }
  },
  {
   "cell_type": "code",
   "execution_count": null,
   "outputs": [],
   "source": [],
   "metadata": {
    "collapsed": false
   }
  }
 ],
 "metadata": {
  "kernelspec": {
   "display_name": "Python 3",
   "language": "python",
   "name": "python3"
  },
  "language_info": {
   "codemirror_mode": {
    "name": "ipython",
    "version": 2
   },
   "file_extension": ".py",
   "mimetype": "text/x-python",
   "name": "python",
   "nbconvert_exporter": "python",
   "pygments_lexer": "ipython2",
   "version": "2.7.6"
  }
 },
 "nbformat": 4,
 "nbformat_minor": 0
}
